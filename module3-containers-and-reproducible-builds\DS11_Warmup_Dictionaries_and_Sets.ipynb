{
  "nbformat": 4,
  "nbformat_minor": 0,
  "metadata": {
    "colab": {
      "name": "DS11_Warmup - Dictionaries and Sets.ipynb",
      "provenance": [],
      "collapsed_sections": [],
      "include_colab_link": true
    },
    "kernelspec": {
      "name": "python3",
      "display_name": "Python 3"
    }
  },
  "cells": [
    {
      "cell_type": "markdown",
      "metadata": {
        "id": "view-in-github",
        "colab_type": "text"
      },
      "source": [
        "<a href=\"https://colab.research.google.com/github/hoops92/DS-Unit-3-Sprint-1-Software-Engineering/blob/master/module3-containers-and-reproducible-builds%5CDS11_Warmup_Dictionaries_and_Sets.ipynb\" target=\"_parent\"><img src=\"https://colab.research.google.com/assets/colab-badge.svg\" alt=\"Open In Colab\"/></a>"
      ]
    },
    {
      "cell_type": "markdown",
      "metadata": {
        "colab_type": "text",
        "id": "wJuZyqbYVLL8"
      },
      "source": [
        "> *“I'm not a great programmer; I'm just a good programmer with great habits.”*\n",
        "― Kent Beck \n",
        "\n",
        "Pre-lecture warm-ups are all about setting you up for success - sometimes that means code challenges, sometimes it means discussing interview questions. Today it means working on fundamentals. \n",
        "\n",
        "Read through the lecture notebook with a focus on understanding. At the end of the sections are code challenges for you to practice and reinforce what you read about. After lecture ends, a team lead will post a solution notebook (with explanations) for those exercises. \n",
        "\n",
        "Should you finish early, there is additional content at the bottom to explore. If you don't complete the notebook within the hour, don't sweat it, this notebook is meant for you to build up your knowledge and skills - you can always continue working on it after lecture or when you complete the assignment."
      ]
    },
    {
      "cell_type": "markdown",
      "metadata": {
        "id": "0hASeHm4J0Fr",
        "colab_type": "text"
      },
      "source": [
        "# Dictionaries"
      ]
    },
    {
      "cell_type": "markdown",
      "metadata": {
        "id": "rEd3vnA8tdMK",
        "colab_type": "text"
      },
      "source": [
        "A dictionary is an unordered set of key-value pairs. When you add a key to a dictionary, you must also add a value for that key. (You can always change the value later.) Python dictionaries are optimized for retrieving the value when you know the key, but not the other way around."
      ]
    },
    {
      "cell_type": "markdown",
      "metadata": {
        "id": "UwM0jKUzt12l",
        "colab_type": "text"
      },
      "source": [
        "## Basics"
      ]
    },
    {
      "cell_type": "markdown",
      "metadata": {
        "id": "6KbQW-uAJ9PG",
        "colab_type": "text"
      },
      "source": [
        "Creating dictionaries is simple and straightforward just like lists and tuples."
      ]
    },
    {
      "cell_type": "code",
      "metadata": {
        "id": "LGZb4JG31HkB",
        "colab_type": "code",
        "outputId": "372a8b88-0aeb-43fa-c470-9caff5e0721b",
        "colab": {
          "base_uri": "https://localhost:8080/",
          "height": 35
        }
      },
      "source": [
        "# Two ways to create an empty dictionary\n",
        "dic = {}\n",
        "dic = dict()\n",
        "dic"
      ],
      "execution_count": 0,
      "outputs": [
        {
          "output_type": "execute_result",
          "data": {
            "text/plain": [
              "{}"
            ]
          },
          "metadata": {
            "tags": []
          },
          "execution_count": 3
        }
      ]
    },
    {
      "cell_type": "code",
      "metadata": {
        "id": "YolkgWoy1N1d",
        "colab_type": "code",
        "outputId": "c6a40f1d-bc75-4468-a2f6-7398e9eb8752",
        "colab": {
          "base_uri": "https://localhost:8080/",
          "height": 35
        }
      },
      "source": [
        "# Creating a dictionary with items. Each item is a key/value pair separated by\n",
        "# a \":\". Key/value pairs are separated by commas.\n",
        "dic = {'key': 'value', 5: [1,2,3,4], ('tuple', 'as', 'key'): 100}\n",
        "dic"
      ],
      "execution_count": 0,
      "outputs": [
        {
          "output_type": "execute_result",
          "data": {
            "text/plain": [
              "{('tuple', 'as', 'key'): 100, 5: [1, 2, 3, 4], 'key': 'value'}"
            ]
          },
          "metadata": {
            "tags": []
          },
          "execution_count": 5
        }
      ]
    },
    {
      "cell_type": "markdown",
      "metadata": {
        "id": "1LY-saDgK2hx",
        "colab_type": "text"
      },
      "source": [
        "There are two snags you might encounter when creating a dictionary. The first is that keys must be an immutable (\"can't be changed\") data type like `int`, `bool`, `tuple`, etc. The other thing to watch out for is that keys must be unique. If you have two keys that are the same then the second key will overwrite the first. This need for unique keys holds true even if you add the second item after creating the dictionary."
      ]
    },
    {
      "cell_type": "code",
      "metadata": {
        "id": "WY9zD-je1sbG",
        "colab_type": "code",
        "outputId": "7794da1e-5b95-45ea-ded5-f475f04d88be",
        "colab": {
          "base_uri": "https://localhost:8080/",
          "height": 172
        }
      },
      "source": [
        "dic = {['key']:'value'}"
      ],
      "execution_count": 0,
      "outputs": [
        {
          "output_type": "error",
          "ename": "TypeError",
          "evalue": "ignored",
          "traceback": [
            "\u001b[0;31m---------------------------------------------------------------------------\u001b[0m",
            "\u001b[0;31mTypeError\u001b[0m                                 Traceback (most recent call last)",
            "\u001b[0;32m<ipython-input-1-9884386f8d8c>\u001b[0m in \u001b[0;36m<module>\u001b[0;34m()\u001b[0m\n\u001b[0;32m----> 1\u001b[0;31m \u001b[0mdic\u001b[0m \u001b[0;34m=\u001b[0m \u001b[0;34m{\u001b[0m\u001b[0;34m[\u001b[0m\u001b[0;34m'key'\u001b[0m\u001b[0;34m]\u001b[0m\u001b[0;34m:\u001b[0m\u001b[0;34m'value'\u001b[0m\u001b[0;34m}\u001b[0m\u001b[0;34m\u001b[0m\u001b[0;34m\u001b[0m\u001b[0m\n\u001b[0m",
            "\u001b[0;31mTypeError\u001b[0m: unhashable type: 'list'"
          ]
        }
      ]
    },
    {
      "cell_type": "code",
      "metadata": {
        "id": "3OGOxNDFMPR5",
        "colab_type": "code",
        "outputId": "d1be3864-e847-45b7-9ce2-94920127f50c",
        "colab": {
          "base_uri": "https://localhost:8080/",
          "height": 35
        }
      },
      "source": [
        "dic = {'key':'value', 'key':'value'}\n",
        "dic"
      ],
      "execution_count": 0,
      "outputs": [
        {
          "output_type": "execute_result",
          "data": {
            "text/plain": [
              "{'key': 'value'}"
            ]
          },
          "metadata": {
            "tags": []
          },
          "execution_count": 37
        }
      ]
    },
    {
      "cell_type": "markdown",
      "metadata": {
        "id": "YVGkqsroN9i2",
        "colab_type": "text"
      },
      "source": [
        "One thing you may notice is that dictionaries don't preserve the order of the key/value pairs you create them in. We'll see later how you can sort on keys and values but for now it is enough to simply know that you can't count on the order being how you expect."
      ]
    },
    {
      "cell_type": "code",
      "metadata": {
        "id": "Necx4tn_Orod",
        "colab_type": "code",
        "outputId": "c3270e34-0cf1-4a81-8b1a-6676a1a1de93",
        "colab": {
          "base_uri": "https://localhost:8080/",
          "height": 35
        }
      },
      "source": [
        "dic = {'key': 'value', 5: [1,2,3,4], ('tuple', 'as', 'key'): 100}\n",
        "dic"
      ],
      "execution_count": 0,
      "outputs": [
        {
          "output_type": "execute_result",
          "data": {
            "text/plain": [
              "{('tuple', 'as', 'key'): 100, 5: [1, 2, 3, 4], 'key': 'value'}"
            ]
          },
          "metadata": {
            "tags": []
          },
          "execution_count": 39
        }
      ]
    },
    {
      "cell_type": "markdown",
      "metadata": {
        "id": "1yDg94A-Mhxb",
        "colab_type": "text"
      },
      "source": [
        "Accessing values in dictionaries is quick and uses the familiar square bracket notation. Simply put a key in the square brackets and you'll get the corresponding value. Adding new key/value pairs is just as simple and also uses the square bracket notation."
      ]
    },
    {
      "cell_type": "code",
      "metadata": {
        "id": "eYoYMgdZvH8P",
        "colab_type": "code",
        "outputId": "fc3c888e-65f3-47ff-9dae-abecd37ad471",
        "colab": {
          "base_uri": "https://localhost:8080/",
          "height": 35
        }
      },
      "source": [
        "dic = {'key': 'value', 5: [1,2,3,4], ('tuple', 'as', 'key'): 100}\n",
        "dic[5]"
      ],
      "execution_count": 0,
      "outputs": [
        {
          "output_type": "execute_result",
          "data": {
            "text/plain": [
              "[1, 2, 3, 4]"
            ]
          },
          "metadata": {
            "tags": []
          },
          "execution_count": 38
        }
      ]
    },
    {
      "cell_type": "code",
      "metadata": {
        "id": "F1YOpip52DVT",
        "colab_type": "code",
        "outputId": "331ec79d-23f4-400c-c11b-68c6258539ad",
        "colab": {
          "base_uri": "https://localhost:8080/",
          "height": 72
        }
      },
      "source": [
        "dic = {'key':'value'}\n",
        "print('Original:', dic)\n",
        "\n",
        "dic['new_key'] = 'new_value'\n",
        "print('Updated Dictionary:', dic)\n",
        "\n",
        "print('Accessing a Value:', dic['new_key'])"
      ],
      "execution_count": 0,
      "outputs": [
        {
          "output_type": "stream",
          "text": [
            "Original: {'key': 'value'}\n",
            "Updated Dictionary: {'key': 'value', 'new_key': 'new_value'}\n",
            "Accessing a Value: new_value\n"
          ],
          "name": "stdout"
        }
      ]
    },
    {
      "cell_type": "markdown",
      "metadata": {
        "id": "aRUi4b1ePAAj",
        "colab_type": "text"
      },
      "source": [
        "While we saw that keys must be immutable, we can see that values can be anything we like. To replace a value, we use the same format we used to add a new key/value pair. To edit a value, use square bracket notation to access the value and then it behaves as that values data type normally behaves."
      ]
    },
    {
      "cell_type": "code",
      "metadata": {
        "id": "5Zuq4vwNuiDs",
        "colab_type": "code",
        "outputId": "5d47f1ed-7ff0-43f7-b05e-0c248c799972",
        "colab": {
          "base_uri": "https://localhost:8080/",
          "height": 72
        }
      },
      "source": [
        "dic = {'key':True}\n",
        "print('Original Dictionary:', dic)\n",
        "\n",
        "dic['key'] = [1,2,3]\n",
        "print('Replaced Value:', dic)\n",
        "\n",
        "dic['key'].append(4)\n",
        "print('Appended Value:', dic)"
      ],
      "execution_count": 0,
      "outputs": [
        {
          "output_type": "stream",
          "text": [
            "Original Dictionary: {'key': True}\n",
            "Replaced Value: {'key': [1, 2, 3]}\n",
            "Appended Value: {'key': [1, 2, 3, 4]}\n"
          ],
          "name": "stdout"
        }
      ]
    },
    {
      "cell_type": "markdown",
      "metadata": {
        "id": "Ic9XpWE4QMsF",
        "colab_type": "text"
      },
      "source": [
        "We also have some of the other properties we saw with the other data types."
      ]
    },
    {
      "cell_type": "code",
      "metadata": {
        "id": "rCPrdeiCwqKj",
        "colab_type": "code",
        "outputId": "96b18f8a-3afb-45e5-a084-dd52abef4066",
        "colab": {
          "base_uri": "https://localhost:8080/",
          "height": 35
        }
      },
      "source": [
        "# `len` counts the number of key/value pairs.\n",
        "len(dic)"
      ],
      "execution_count": 0,
      "outputs": [
        {
          "output_type": "execute_result",
          "data": {
            "text/plain": [
              "1"
            ]
          },
          "metadata": {
            "tags": []
          },
          "execution_count": 42
        }
      ]
    },
    {
      "cell_type": "code",
      "metadata": {
        "id": "0wuR5qLcwzSK",
        "colab_type": "code",
        "outputId": "3a1530a9-3f68-42a6-d74e-498b59298663",
        "colab": {
          "base_uri": "https://localhost:8080/",
          "height": 127
        }
      },
      "source": [
        "# `in` checks if an item is used as a key\n",
        "print('Original Dictionary:', dic)\n",
        "\n",
        "print('\\n2 in Dictionary:', 2 in dic)\n",
        "print('\"key\" in Dictionary:', 'key' in dic)\n",
        "\n",
        "# To check if an item is in a value we need to access each of the values\n",
        "print('\\n2 in dic[\"key\"]:', 2 in dic['key'])"
      ],
      "execution_count": 0,
      "outputs": [
        {
          "output_type": "stream",
          "text": [
            "Original Dictionary: {'key': [1, 2, 3, 4]}\n",
            "\n",
            "2 in Dictionary: False\n",
            "\"key\" in Dictionary: True\n",
            "\n",
            "2 in dic[\"key\"]: True\n"
          ],
          "name": "stdout"
        }
      ]
    },
    {
      "cell_type": "code",
      "metadata": {
        "id": "eHuf38MYGJEx",
        "colab_type": "code",
        "outputId": "2d23d0a6-1d69-425f-83bd-6f02f3af3017",
        "colab": {
          "base_uri": "https://localhost:8080/",
          "height": 72
        }
      },
      "source": [
        "# We can remove key/value pairs from our dictionaries as well\n",
        "\n",
        "dic = {1: [1,2,3],\n",
        "       'two': 'Hello',\n",
        "       (3,3): True}\n",
        "print('Original Dictionary:', dic)\n",
        "\n",
        "del dic['two']\n",
        "print('Deleted key \"two\":', dic)\n",
        "\n",
        "dic.clear()\n",
        "print('Erase all key/value pairs:', dic)"
      ],
      "execution_count": 0,
      "outputs": [
        {
          "output_type": "stream",
          "text": [
            "Original Dictionary: {1: [1, 2, 3], 'two': 'Hello', (3, 3): True}\n",
            "Deleted key \"two\": {1: [1, 2, 3], (3, 3): True}\n",
            "Erase all key/value pairs: {}\n"
          ],
          "name": "stdout"
        }
      ]
    },
    {
      "cell_type": "code",
      "metadata": {
        "id": "FopJh5TRxgiQ",
        "colab_type": "code",
        "outputId": "e009cff5-364a-44fb-a3c4-a74aa268fa97",
        "colab": {
          "base_uri": "https://localhost:8080/",
          "height": 54
        }
      },
      "source": [
        "# And dictionaries can be used in conditionals too. With an empty dictionary\n",
        "# evaluating as False, and a dictionary with anything in it evaluating to True\n",
        "def is_it_true(anything):\n",
        "  if anything:\n",
        "    print(\"It's True, there is something in the dictionary\")\n",
        "  else:\n",
        "    print(\"It's False, the dictionary is empty\")\n",
        "\n",
        "is_it_true({})\n",
        "is_it_true({'key':[1,2,3]})"
      ],
      "execution_count": 0,
      "outputs": [
        {
          "output_type": "stream",
          "text": [
            "It's False, the dictionary is empty\n",
            "It's True, there is something in the dictionary\n"
          ],
          "name": "stdout"
        }
      ]
    },
    {
      "cell_type": "markdown",
      "metadata": {
        "id": "5K959BNHFvwp",
        "colab_type": "text"
      },
      "source": [
        "## Dictionaries from Lists/Tuples"
      ]
    },
    {
      "cell_type": "markdown",
      "metadata": {
        "id": "hlUSnKpUSmca",
        "colab_type": "text"
      },
      "source": [
        "Often you want to create a dictionary from lists or tuples. This can be achieved easily with `zip`, a useful function we have seen in previous warmups."
      ]
    },
    {
      "cell_type": "code",
      "metadata": {
        "colab_type": "code",
        "outputId": "3af68f6a-f3f6-4747-bedd-ec55b7bb32d9",
        "id": "EupLCN_jwZAz",
        "colab": {
          "base_uri": "https://localhost:8080/",
          "height": 35
        }
      },
      "source": [
        "lst = ['one', 'two', 'three']\n",
        "dict(zip(lst,['']*3))"
      ],
      "execution_count": 0,
      "outputs": [
        {
          "output_type": "execute_result",
          "data": {
            "text/plain": [
              "{'one': '', 'three': '', 'two': ''}"
            ]
          },
          "metadata": {
            "tags": []
          },
          "execution_count": 47
        }
      ]
    },
    {
      "cell_type": "code",
      "metadata": {
        "colab_type": "code",
        "outputId": "882c7268-0c5f-46b6-e4ec-ab697c767057",
        "id": "JoFPlLsnwYrk",
        "colab": {
          "base_uri": "https://localhost:8080/",
          "height": 35
        }
      },
      "source": [
        "lst2 = [1, 2, 3]\n",
        "dict(zip(lst, lst2))"
      ],
      "execution_count": 0,
      "outputs": [
        {
          "output_type": "execute_result",
          "data": {
            "text/plain": [
              "{'one': 1, 'three': 3, 'two': 2}"
            ]
          },
          "metadata": {
            "tags": []
          },
          "execution_count": 48
        }
      ]
    },
    {
      "cell_type": "markdown",
      "metadata": {
        "id": "iKZCubMaFrVy",
        "colab_type": "text"
      },
      "source": [
        "## Looping"
      ]
    },
    {
      "cell_type": "markdown",
      "metadata": {
        "id": "dbwQQECaTOLn",
        "colab_type": "text"
      },
      "source": [
        "Looping over dictionaries is simple enough, you simply need to take care to adjust for what you are trying to access - keys, values, or both."
      ]
    },
    {
      "cell_type": "code",
      "metadata": {
        "id": "43EqDBiM8P9M",
        "colab_type": "code",
        "outputId": "5237cdeb-fd2d-438c-d5a5-05af09173701",
        "colab": {
          "base_uri": "https://localhost:8080/",
          "height": 72
        }
      },
      "source": [
        "dic = {'a':1, 'b':2, 'c':3}\n",
        "\n",
        "for key in dic:\n",
        "  print(key)"
      ],
      "execution_count": 0,
      "outputs": [
        {
          "output_type": "stream",
          "text": [
            "a\n",
            "b\n",
            "c\n"
          ],
          "name": "stdout"
        }
      ]
    },
    {
      "cell_type": "code",
      "metadata": {
        "id": "qgCT1AWgzUh7",
        "colab_type": "code",
        "outputId": "8366924b-a5a3-4e21-b28b-764e466eb610",
        "colab": {
          "base_uri": "https://localhost:8080/",
          "height": 72
        }
      },
      "source": [
        "dic = {'a':1, 'b':2, 'c':3}\n",
        "\n",
        "for value in dic.values():\n",
        "  print(value)"
      ],
      "execution_count": 0,
      "outputs": [
        {
          "output_type": "stream",
          "text": [
            "1\n",
            "2\n",
            "3\n"
          ],
          "name": "stdout"
        }
      ]
    },
    {
      "cell_type": "code",
      "metadata": {
        "id": "JQ5jX299zacU",
        "colab_type": "code",
        "outputId": "563f7ce4-e97c-4e03-d26a-059d0d700b05",
        "colab": {
          "base_uri": "https://localhost:8080/",
          "height": 72
        }
      },
      "source": [
        "# Accessing both the key and value at the same simply requires \n",
        "# unpacking in the for loop.\n",
        "dic = {'a':1, 'b':2, 'c':3}\n",
        "\n",
        "for key, value in dic.items():  \n",
        "  print('key:', key, '   value:', value)"
      ],
      "execution_count": 0,
      "outputs": [
        {
          "output_type": "stream",
          "text": [
            "key: a    value: 1\n",
            "key: b    value: 2\n",
            "key: c    value: 3\n"
          ],
          "name": "stdout"
        }
      ]
    },
    {
      "cell_type": "code",
      "metadata": {
        "id": "7vAgybWdz4IF",
        "colab_type": "code",
        "outputId": "9efc40a7-0b45-4752-8244-c2d80c2a3f9e",
        "colab": {
          "base_uri": "https://localhost:8080/",
          "height": 72
        }
      },
      "source": [
        "# We can even do dictionary comprehensions in a \n",
        "# similar fashion to list comprehensions\n",
        "print('List 1:', lst)\n",
        "print('List 2:', lst2)\n",
        "\n",
        "dic = {key:value for (key,value) in zip(lst, lst2)}\n",
        "print('Composite Dictionary:', dic)"
      ],
      "execution_count": 0,
      "outputs": [
        {
          "output_type": "stream",
          "text": [
            "List 1: ['one', 'two', 'three']\n",
            "List 2: [1, 2, 3]\n",
            "Composite Dictionary: {'one': 1, 'two': 2, 'three': 3}\n"
          ],
          "name": "stdout"
        }
      ]
    },
    {
      "cell_type": "markdown",
      "metadata": {
        "id": "uKqr5ZjdTIlM",
        "colab_type": "text"
      },
      "source": [
        "## Sorting"
      ]
    },
    {
      "cell_type": "markdown",
      "metadata": {
        "id": "GguNPm4jXJKz",
        "colab_type": "text"
      },
      "source": [
        "Since dictionary does not preserve order like lists and tuples do, we are likely to encounter times when we need to sort our dictionaries."
      ]
    },
    {
      "cell_type": "code",
      "metadata": {
        "id": "5a3SSn_vUsBc",
        "colab_type": "code",
        "outputId": "4a129378-a419-44a0-f2f3-b89c6c29c171",
        "colab": {
          "base_uri": "https://localhost:8080/",
          "height": 72
        }
      },
      "source": [
        "incomes = {'apple': 5600.00, 'orange': 3500.00, 'banana': 5000.00}\n",
        "\n",
        "# Sorting on keys is simple enough, and the keys can then be used to access values\n",
        "for key in sorted(incomes):\n",
        "  print(key, '->', incomes[key])"
      ],
      "execution_count": 0,
      "outputs": [
        {
          "output_type": "stream",
          "text": [
            "apple -> 5600.0\n",
            "banana -> 5000.0\n",
            "orange -> 3500.0\n"
          ],
          "name": "stdout"
        }
      ]
    },
    {
      "cell_type": "code",
      "metadata": {
        "id": "7xwfmLMrXAvj",
        "colab_type": "code",
        "outputId": "e9d2607f-0f21-48e5-9d12-b2a25a2c1deb",
        "colab": {
          "base_uri": "https://localhost:8080/",
          "height": 72
        }
      },
      "source": [
        "# Sorting on values is simple if you don't need the key\n",
        "for value in sorted(incomes.values()):\n",
        "  print(value)"
      ],
      "execution_count": 0,
      "outputs": [
        {
          "output_type": "stream",
          "text": [
            "3500.0\n",
            "5000.0\n",
            "5600.0\n"
          ],
          "name": "stdout"
        }
      ]
    },
    {
      "cell_type": "code",
      "metadata": {
        "id": "GvLwgM-8Ur5O",
        "colab_type": "code",
        "outputId": "8f1d12ed-8441-43d3-cf9f-5ccb98108958",
        "colab": {
          "base_uri": "https://localhost:8080/",
          "height": 72
        }
      },
      "source": [
        "# If you want to sort on values and want the keys you'll need a small helper function\n",
        "def by_value(item):\n",
        "  return item[1]\n",
        "\n",
        "for key, value in sorted(incomes.items(), key=by_value):\n",
        "  print(key, '->', value)"
      ],
      "execution_count": 0,
      "outputs": [
        {
          "output_type": "stream",
          "text": [
            "orange -> 3500.0\n",
            "banana -> 5000.0\n",
            "apple -> 5600.0\n"
          ],
          "name": "stdout"
        }
      ]
    },
    {
      "cell_type": "code",
      "metadata": {
        "id": "piIerwGDH0EO",
        "colab_type": "code",
        "outputId": "2f9e10b7-db1f-47ab-d9be-2fcf83ccd4d7",
        "colab": {
          "base_uri": "https://localhost:8080/",
          "height": 54
        }
      },
      "source": [
        "# We can even sort while using dictionary comprehensions\n",
        "incomes = {'apple': 5600.00, 'orange': 6000.00, 'banana': 5000.00}\n",
        "print('Unsorted Dictionary:', incomes)\n",
        "\n",
        "sorted_income = {key: incomes[key] for key in sorted(incomes)}\n",
        "print('Sorted Dictionary:', sorted_income)"
      ],
      "execution_count": 0,
      "outputs": [
        {
          "output_type": "stream",
          "text": [
            "Unsorted Dictionary: {'apple': 5600.0, 'orange': 6000.0, 'banana': 5000.0}\n",
            "Sorted Dictionary: {'apple': 5600.0, 'banana': 5000.0, 'orange': 6000.0}\n"
          ],
          "name": "stdout"
        }
      ]
    },
    {
      "cell_type": "markdown",
      "metadata": {
        "id": "S5OTJJewjiaf",
        "colab_type": "text"
      },
      "source": [
        "# Sets"
      ]
    },
    {
      "cell_type": "markdown",
      "metadata": {
        "id": "8VW5la-hjuZu",
        "colab_type": "text"
      },
      "source": [
        "A set is an unordered “bag” of unique values. A single set can contain values of any immutable datatype. Once you have two sets, you can do standard set operations like union, intersection, and set difference. Sets share many commonalities with dictionaries and are kind of like a dictionary with just keys."
      ]
    },
    {
      "cell_type": "markdown",
      "metadata": {
        "id": "UKi5i7AMkWkr",
        "colab_type": "text"
      },
      "source": [
        "## Basics"
      ]
    },
    {
      "cell_type": "code",
      "metadata": {
        "id": "-N23NXUlkVde",
        "colab_type": "code",
        "outputId": "50aaae0b-fb67-4a20-b3f9-698ddb98c19a",
        "colab": {
          "base_uri": "https://localhost:8080/",
          "height": 35
        }
      },
      "source": [
        "# Creating an Empty Set\n",
        "set()"
      ],
      "execution_count": 0,
      "outputs": [
        {
          "output_type": "execute_result",
          "data": {
            "text/plain": [
              "set()"
            ]
          },
          "metadata": {
            "tags": []
          },
          "execution_count": 101
        }
      ]
    },
    {
      "cell_type": "code",
      "metadata": {
        "id": "59sTYxZxkVZI",
        "colab_type": "code",
        "outputId": "272f2f13-385d-482c-9db2-db5fc0c58343",
        "colab": {
          "base_uri": "https://localhost:8080/",
          "height": 35
        }
      },
      "source": [
        "# Creating a Set With Values\n",
        "{0, (2,3,4), True}"
      ],
      "execution_count": 0,
      "outputs": [
        {
          "output_type": "execute_result",
          "data": {
            "text/plain": [
              "{(2, 3, 4), 0, True}"
            ]
          },
          "metadata": {
            "tags": []
          },
          "execution_count": 75
        }
      ]
    },
    {
      "cell_type": "code",
      "metadata": {
        "id": "L0jrkmN7kVTn",
        "colab_type": "code",
        "outputId": "2bbdad57-dc41-4905-edb8-6e8f510309d7",
        "colab": {
          "base_uri": "https://localhost:8080/",
          "height": 109
        }
      },
      "source": [
        "# Adding and removing from a set\n",
        "set1 = {1, 2, 3}\n",
        "print('Original:', set1)\n",
        "\n",
        "set1.add(4)\n",
        "print('Added Item to Set:', set1)\n",
        "\n",
        "set1.update({5,6,7})\n",
        "print('Combine Sets:', set1)\n",
        "\n",
        "set1.discard(3)\n",
        "print('Discard an Item:', set1)\n",
        "\n",
        "print('Pop the First Item:', set1.pop())"
      ],
      "execution_count": 0,
      "outputs": [
        {
          "output_type": "stream",
          "text": [
            "Original: {1, 2, 3}\n",
            "Added Item to Set: {1, 2, 3, 4}\n",
            "Combine Sets: {1, 2, 3, 4, 5, 6, 7}\n",
            "Discard an Item: {1, 2, 4, 5, 6, 7}\n",
            "Pop the Last Item: 1\n"
          ],
          "name": "stdout"
        }
      ]
    },
    {
      "cell_type": "code",
      "metadata": {
        "id": "YC2YqLtYkVFF",
        "colab_type": "code",
        "outputId": "018c51e5-39a0-4a9f-9f2d-37be3b8977df",
        "colab": {
          "base_uri": "https://localhost:8080/",
          "height": 172
        }
      },
      "source": [
        "# Like dictionary keys, sets require immutable items\n",
        "{1, 2, [3,4]}"
      ],
      "execution_count": 0,
      "outputs": [
        {
          "output_type": "error",
          "ename": "TypeError",
          "evalue": "ignored",
          "traceback": [
            "\u001b[0;31m---------------------------------------------------------------------------\u001b[0m",
            "\u001b[0;31mTypeError\u001b[0m                                 Traceback (most recent call last)",
            "\u001b[0;32m<ipython-input-78-b791a3f416ac>\u001b[0m in \u001b[0;36m<module>\u001b[0;34m()\u001b[0m\n\u001b[0;32m----> 1\u001b[0;31m \u001b[0;34m{\u001b[0m\u001b[0;36m1\u001b[0m\u001b[0;34m,\u001b[0m \u001b[0;36m2\u001b[0m\u001b[0;34m,\u001b[0m \u001b[0;34m[\u001b[0m\u001b[0;36m3\u001b[0m\u001b[0;34m,\u001b[0m\u001b[0;36m4\u001b[0m\u001b[0;34m]\u001b[0m\u001b[0;34m}\u001b[0m\u001b[0;34m\u001b[0m\u001b[0;34m\u001b[0m\u001b[0m\n\u001b[0m",
            "\u001b[0;31mTypeError\u001b[0m: unhashable type: 'list'"
          ]
        }
      ]
    },
    {
      "cell_type": "code",
      "metadata": {
        "id": "MlgWgCmmkVNq",
        "colab_type": "code",
        "outputId": "b886661a-1dc0-4171-9b22-6778828a29d7",
        "colab": {
          "base_uri": "https://localhost:8080/",
          "height": 35
        }
      },
      "source": [
        "# Sets also cannot contain duplicates\n",
        "{1,2,3,1,1,1}"
      ],
      "execution_count": 0,
      "outputs": [
        {
          "output_type": "execute_result",
          "data": {
            "text/plain": [
              "{1, 2, 3}"
            ]
          },
          "metadata": {
            "tags": []
          },
          "execution_count": 79
        }
      ]
    },
    {
      "cell_type": "code",
      "metadata": {
        "id": "Xhxjzxx5mE9i",
        "colab_type": "code",
        "outputId": "a4c22bc3-719e-431a-8910-9d35bb36fb37",
        "colab": {
          "base_uri": "https://localhost:8080/",
          "height": 90
        }
      },
      "source": [
        "# Common functions and operators work with sets as well\n",
        "print('Set1:', set1)\n",
        "print('Length of set1:', len(set1))\n",
        "print('8 in set1:', 8 in set1)\n",
        "print('{1,2,3} is set1:', {1,2,3} is set1)"
      ],
      "execution_count": 0,
      "outputs": [
        {
          "output_type": "stream",
          "text": [
            "Set1: {2, 4, 5, 6, 7}\n",
            "Length of set1: 5\n",
            "8 in set1: False\n",
            "{1,2,3} is set1: False\n"
          ],
          "name": "stdout"
        }
      ]
    },
    {
      "cell_type": "markdown",
      "metadata": {
        "id": "iGeYbiEFpj7P",
        "colab_type": "text"
      },
      "source": [
        "## Sets like Mathematical Sets"
      ]
    },
    {
      "cell_type": "markdown",
      "metadata": {
        "id": "Nd3kNUgSqjYL",
        "colab_type": "text"
      },
      "source": [
        "Sets in Python behave like the concept of mathematical sets and therefore need to have some functions to support this idea."
      ]
    },
    {
      "cell_type": "code",
      "metadata": {
        "id": "bJLh_mi7psWA",
        "colab_type": "code",
        "outputId": "333f4f45-6ec6-4755-c4ad-6417df6e47a8",
        "colab": {
          "base_uri": "https://localhost:8080/",
          "height": 35
        }
      },
      "source": [
        "# Create a set of the unique items in two sets\n",
        "set1 = {1, 2, 3}\n",
        "set2 = {3, 4, 5}\n",
        "\n",
        "set1.union(set2)"
      ],
      "execution_count": 0,
      "outputs": [
        {
          "output_type": "execute_result",
          "data": {
            "text/plain": [
              "{1, 2, 3, 4, 5}"
            ]
          },
          "metadata": {
            "tags": []
          },
          "execution_count": 89
        }
      ]
    },
    {
      "cell_type": "code",
      "metadata": {
        "id": "QCvhMWcWqHFD",
        "colab_type": "code",
        "outputId": "f8c338e3-f420-48e7-ee2b-71726b9799a9",
        "colab": {
          "base_uri": "https://localhost:8080/",
          "height": 35
        }
      },
      "source": [
        "# Create a set of items present in both sets\n",
        "set1.intersection(set2)"
      ],
      "execution_count": 0,
      "outputs": [
        {
          "output_type": "execute_result",
          "data": {
            "text/plain": [
              "{3}"
            ]
          },
          "metadata": {
            "tags": []
          },
          "execution_count": 90
        }
      ]
    },
    {
      "cell_type": "code",
      "metadata": {
        "id": "JF0bdw94qNnt",
        "colab_type": "code",
        "outputId": "2d7bd3ae-2df4-418d-9d63-bf7072f72341",
        "colab": {
          "base_uri": "https://localhost:8080/",
          "height": 35
        }
      },
      "source": [
        "# Create a set of items only in set 1 when compared to set 2\n",
        "set1.difference(set2)"
      ],
      "execution_count": 0,
      "outputs": [
        {
          "output_type": "execute_result",
          "data": {
            "text/plain": [
              "{1, 2}"
            ]
          },
          "metadata": {
            "tags": []
          },
          "execution_count": 91
        }
      ]
    },
    {
      "cell_type": "code",
      "metadata": {
        "id": "7gWp1ux7qbOv",
        "colab_type": "code",
        "outputId": "aa14b7c2-b32e-4a70-a6c1-dd6f4b843e4b",
        "colab": {
          "base_uri": "https://localhost:8080/",
          "height": 35
        }
      },
      "source": [
        "# Create a set of the non-overlapping items in both sets\n",
        "set1.symmetric_difference(set2)"
      ],
      "execution_count": 0,
      "outputs": [
        {
          "output_type": "execute_result",
          "data": {
            "text/plain": [
              "{1, 2, 4, 5}"
            ]
          },
          "metadata": {
            "tags": []
          },
          "execution_count": 92
        }
      ]
    },
    {
      "cell_type": "code",
      "metadata": {
        "id": "R4rnwlGvri-6",
        "colab_type": "code",
        "outputId": "e22b767b-52cd-4cdd-adf1-dd2afc8fa9a9",
        "colab": {
          "base_uri": "https://localhost:8080/",
          "height": 35
        }
      },
      "source": [
        "set1 = {1, 2, 3, 4, 5, 6}\n",
        "set2 = {1, 2, 3}\n",
        "\n",
        "# See if one set is a subset of another\n",
        "set2.issubset(set1)"
      ],
      "execution_count": 0,
      "outputs": [
        {
          "output_type": "execute_result",
          "data": {
            "text/plain": [
              "True"
            ]
          },
          "metadata": {
            "tags": []
          },
          "execution_count": 93
        }
      ]
    },
    {
      "cell_type": "code",
      "metadata": {
        "id": "mGv2XJTArzfh",
        "colab_type": "code",
        "outputId": "27cbd168-1686-4d4c-ab63-5895de197f5d",
        "colab": {
          "base_uri": "https://localhost:8080/",
          "height": 35
        }
      },
      "source": [
        "# See if one set is a superset of another\n",
        "set1.issuperset(set2)"
      ],
      "execution_count": 0,
      "outputs": [
        {
          "output_type": "execute_result",
          "data": {
            "text/plain": [
              "True"
            ]
          },
          "metadata": {
            "tags": []
          },
          "execution_count": 94
        }
      ]
    },
    {
      "cell_type": "markdown",
      "metadata": {
        "id": "nZ1ZRNaHt_Iq",
        "colab_type": "text"
      },
      "source": [
        "## Typecasting"
      ]
    },
    {
      "cell_type": "markdown",
      "metadata": {
        "id": "96MSlpQ9uPKW",
        "colab_type": "text"
      },
      "source": [
        "Knowing the properties of set allows us to quickly solve common programming problems."
      ]
    },
    {
      "cell_type": "code",
      "metadata": {
        "id": "nN-h3CmcuEWK",
        "colab_type": "code",
        "outputId": "310c1584-15c8-4feb-d71a-40a87b1ac935",
        "colab": {
          "base_uri": "https://localhost:8080/",
          "height": 35
        }
      },
      "source": [
        "# Create a list of the unique items in another list\n",
        "arr = [1, 2, 3, 4, 5, 3]\n",
        "list(set(arr))"
      ],
      "execution_count": 0,
      "outputs": [
        {
          "output_type": "execute_result",
          "data": {
            "text/plain": [
              "[1, 2, 3, 4, 5]"
            ]
          },
          "metadata": {
            "tags": []
          },
          "execution_count": 98
        }
      ]
    },
    {
      "cell_type": "code",
      "metadata": {
        "id": "d9jbD-3PulmO",
        "colab_type": "code",
        "outputId": "327823a5-e544-4caa-b12a-917137e8b911",
        "colab": {
          "base_uri": "https://localhost:8080/",
          "height": 35
        }
      },
      "source": [
        "# Check if a list has duplicate items\n",
        "len(set(arr)) == len(arr)"
      ],
      "execution_count": 0,
      "outputs": [
        {
          "output_type": "execute_result",
          "data": {
            "text/plain": [
              "False"
            ]
          },
          "metadata": {
            "tags": []
          },
          "execution_count": 99
        }
      ]
    },
    {
      "cell_type": "markdown",
      "metadata": {
        "id": "Vq1gODvE3Vbu",
        "colab_type": "text"
      },
      "source": [
        "# Practice"
      ]
    },
    {
      "cell_type": "markdown",
      "metadata": {
        "id": "v7KhO9724Eqd",
        "colab_type": "text"
      },
      "source": [
        "## Roman Numerals"
      ]
    },
    {
      "cell_type": "markdown",
      "metadata": {
        "id": "lKvx3jGJW0NN",
        "colab_type": "text"
      },
      "source": [
        "![image.png](data:image/png;base64,iVBORw0KGgoAAAANSUhEUgAAA5cAAAKpCAYAAAAoktiMAAAgAElEQVR4nOzd21MU978vfP+A3P6u1s26yMW+2FWran3quVlVXbu2e6YeplJSUCncuqbIBh50EYNxYWHUGAnyiwdMMFvRCBhUPP3igRAoURHUeCAEggSMBMM4CMhpgAFhaBE5vJ8LVn+dGQaGcQZHxve76lWl0zM93d8+frq/06yYmpoCERERERERUTBWzMzMgIiIiIiIiCgYK8AwDMMwDMMwDMMwQYbFJcMwDMMwDMMwDBN0WFwyDMMwDMMwDMMwQYfFJcMwDMMwDMMwDBN0WFwyDMMwIc/M1DSmno9jcnTMr6nn45iZml52436Xpn2p22Ups5ynnWEYZrmFxSXDMAwT0sxMTS/6RN7dYk7o38ZxR/q0L3W7LGWW87QzDMMsx7C4ZBiGYUKaQO4Sed8xWo7jjvRpX+p2Wcos52lnGIZZjglpcTkyMoLOzk4PTqczlF/BLJDh4WEMDAyEezKYAOJ0OjE0NORz2NDQ0Du/PN3bx+l0ztmfOJ1OPHz4UP3f4XDg0aNHb3Qa36b09vZidHT0tT8fqn3I657MT46OLdtxR/K0L3W7hCLz7UuXw7QzDMNEUkJaXJ46dQoiMkd8fDxKSkpC+VWMj2RnZ2PTpk3hnox3Jvfv38fJkyeDGkdmZia2bt3qc1hWVhbS09ODGv9yj3v7eK/fBQUFah8DADk5ORARmM3mNz6dZWVluHHjxhv/Xu9YLBacP3/+tT8fqn2I9wn6i9anGLlwy4OrrDokRdTYrQaMVdZ7vDbRO4iRC7cw0d4b1Lgn2nsxcuEWXrR1v3p9xIXRiz/jef2jkBSAIxduYfzP9iUrLl8ODGO0tBrOr3/As+NXMNHRG/D4fb1/7FaDWo7jf9gx+cwV1gJtvn3pnHXR9hSjP93FeNNj9drz31sx+tNdn23DMAzDBJYlKS4dDofy6NEjfPXVVxARNDU1hfLrGK+wuHyzOXv2LKKjo4MaB4vLhePePs3Nzbh//74apmkaCgsLMT09jenpaYgILl68iJmZmTc+nWlpadizZ88b/17vvK3FpausGu3vx6Ptb7GwrViJ9vfj8fTfNoakiBr4ohD29z7A5Mir4mbkXBVsK1biRevToMb90jmC9v/2f9D7v7PUa8+OX4VtxcqQFZe2FSsxfOzykhSXL570oPP/+Rj29z5At2Ubnvzzv3vMSzDFZbdlG+zvfYAn/7QathUr8fTfNmK8ue2tLy5HzlTCtmIlui3b1GtP/20jbCtWYvTHOywuGYZhgsySFJfeaW9vh4jg9u3bAGa7z+7atQsWiwUWiwU7d+706O62fv16lJeXIz09HZqmISEhAU+fPkVubi4sFgvMZjOOHDmi3t/U1ISkpCRomgZN07BlyxaMjIwAAHJzc3H8+HEcPHhQfbagoGDeeVi/fj0qKiqwZcsWaJqG6OhoNd1Pnz6F1WpFT0+Pen9NTQ0SEhIAAFVVVdi6dStKSkoQFxcHs9mMwsJCPHr0CMnJydA0DfHx8bDZbOrzdrsdqamp0DQNSUlJqKysVMMSEhJw//597NmzR92NWWhe3U8M29vbsWHDBvW+HTt2zNtdbnJyEgcPHoTZbIaIIDo6GhUVFQCAtrY2WK1WtLW1YfPmzergffPmTcTHx0PTNKSlpc3bFfHKlSvIzMxEbW0tkpKScPbsWUxNTaGwsBCxsbEwm83IzMxU81BdXa3eZwxPT0+Hw+F47ekpKiqCxWKBiCAuLs7jDtPIyAgyMzNhNpsRFxeHgoICTE/PPsRhoXXn0KFDqr2sVisaGxv9Ls+JiQkcOHAA0dHR0DQNu3btQnp6+oLFZWpqqlr+0dHRyMnJwcTEBJ49ewar1YqbN296fGbbtm0oLCycMy5/68N87ZeVlYX9+/d7jCs/Px+ZmZlBtZ+v+GufkydP4uuvv0Z/fz+sVitEBBaLBVar1eP/2dnZfpeFr21rofcvtF9w3x6tVit0XZ8zb3fv3sWaNWvUndX8/HzMzMygqKgIGzZs8CiI6+vrYbVa4XQ6A94XWiwW5OTkYOPGjdA0DWvWrMHFixc9pqWqqgoJCQlqf3TlyhU1zH0fous6du3apeYtOTkZra2tAGa7H1utVly4cMHnspyvQBo+WgrbipUhLaLGbjfCtmIl9F+b1WuO/8hB57/+R0gKtLHrv8G2YiXGKusx0TOAtr/FYuCLwpAVgEtZXDo2/F88+afVeGH/rzuvw6PQa5oDHv98xWXvmr/PFrGPOtDxL+vQ9b/SFz3uYI7bgexL5ysu7e99gImOXoy3tMP+3gcsLhmGYUKUJS8up6amcPjwYYgInE4npqensWbNGmiahuLiYpSUlMBsNiM2NhZTU1MAZu9IiAgOHTqEiooKj5P4n376CXv37oWI4I8//oCu6+rE59q1a7h06RJERJ1gb9++HSKCjRs3oqKiAjt37oSI4MGDBz7nwfjunJwcXLlyRZ2EjY+Pw263Q0TQ0dGh3n/t2jU1z8XFxaqAuXLlCvbv3w8RgaZpanxmsxkbN24EAAwMDEBEkJ6ejqqqKmRnZ0NEUFtbCwAQEcTGxqoTRn/z6n5iGB8fjzVr1uDGjRsoKSmBpmn4+uuvfc7ziRMnICI4fvw4bt++jU2bNkFEMDExgebmZjUdCQkJ+PHHH1FdXa2WT2VlpSpaBgcH54z77NmzMJvN0DQN6enpuH//Pg4dOgRN03D+/HlcvnwZFosFycnJAIDy8nLVZhcuXEBpaam6CPE602MMO3bsGO7cuYOtW7dCRNDf34/p6WnEx8cjLi4O165dQ1FREUQE+fn5ftedO3fuYPPmzdA0DefOnUNXV5ff5blr1y6ICE6ePIny8nLEx8dDRBYsLo31vry8XC2nnTt3AgCSk5ORlpam3t/X1+fxfe5ZaH1YqP3Onj0LEcHz588BANPT0zCbzTh9+nRQ7ecr/trHWL9HRkZw7tw5iAi2b9+Oc+fOqencuXMnbt68GfC25e/9C+0XLl68iNjYWFitVvzwww+YnJz0mK+RkRE1rXfv3kVeXh5EBDdu3MBvv/0GEUFzc7N6/549e9QFq0D2hQDURZRt27ahoqICu3fvhoigtLQUAHDr1i2ICHbs2IHKykp8+eWXEBF1Mcl9H3L48GFomoaysjJUVlZizZo1iI2NBfDqgqGxrL3zJovLyeFR2N/7AEPfnFevPfnnf/dZAAY87v/S+9FedPzLOvRvOoz29+PxcmD47S8uh0ZgW7ESzt1n/I472OJycnQMI+dvwrZipUd30/nGHexxO5B9qa/i0v7eB+hd83cMHy2F85vz6Fv3DYtLhmGYEGVJisvY2FjExcUhNjZWnRz99NNPAGav4IuIR/e2hw8fqpMtYPaEKisrSw0vLCz0KOomJibUCZHdbseGDRvw5MkT9f6kpCT1+e3bt8NsNmNiYgIAMD4+DhFBcXGxz3nQNA3btm1T/29qaoKIwG63L7q47O7uBgC8fPnSoxgAZn8nZnSlPHLkiEdRDQBbtmxRBYNxF3FsbPYA529e3U8MNU1DZmamuot048aNebvL5ebmetz9qK2tVfNhFHM7duxQ44qPj/foAjg+Pg6z2YyzZ8/OGbdx0m+0t3GibZzMAkBra6s6wTaKy+rqajXcZrOpzwQ6PSUlJRARtLe3A5g9qcnJyUFHRwdqamogIh53os+fPw9N0zAxMeF33fHuFrvQ8nQ6nRARjzZyuVzQNM1vcen+kIqLFy9CRNDX14eysjKIiLraf+HCBZjNZo/vN7LQ+rBQ+/X29nr0OjC21e7u7qDbzz2LaR/vLptG4QNAdYv9+eef/S4LYO625e/9C+0XgIW7xT558sSjwANm78JWV1djenoaFosFubm5AGYvxmmahh9//FF972L3hcBscRkfH6+WMwBs3bpVradWqxUpKSke07dp0yZVNLq38Y4dOxAbG6vuxP711184cOCAaiP37/DOGy0u/6v4M7o5jj9sm73TeLsxZMXliyc96u6W9+8739bi8sWjjnkLpqUoLp832mBbsRKuyzV+xx3McTvQfel8xeXoxZ/R9b/S0fmv/wFXeQ2LS4ZhmBBlSYrL77//HoWFhSgsLFR37zZv3gxg9qRK07Q5nzW6igGzJ1RGMQrMnrB6P6TD/YRK13VUVlYiNzcXycnJEBGPg5T3AcdiseDcuXM+58G4Y2bEOLluaWlZVHHpPW8iok6AAc+CJDU1FWazGVu3blWMgtz4rHcXx4Xm1f3EMD8/X3UT3LdvH27fvr3gyeCjR49w9uxZZGZmqgsC7sXl77//DmD25Ne4c+I+3d4n3+7zKyJ4+fIlAODBgwcQEaSmpnp83jhxMIpL72mNjo7Gd999F/D0OBwOdbcnNTUVp0+fVsWQcafN/XNJSUmqaPC37ngXlwstz8bGRoiIx8kUAPU+XzG6xbrH4XBARFBTU4OxsTGICMrLywHMdt08dOiQz3HNtz4sZnkmJyerbrD5+flISkoKSfu5ZzHtE0hxGei25e/9C+0XgIWLy5mZGdUuVqsVR44c8bhTWVBQAIvFgpmZGdy/f9/jgkGg+0KLxYKioiKP4RUVFRARuFwuiMicbrLGRYoXL154tLFxR9voRl1aWuqzy6+vvOnicuTsbFfHl84RDOeXzf4Gc3g0ZMWl0R3WtmIlnt//a1kUl/qvzbPF8PXf3khx+aL1KWwrVmLkTOWixv26x+1A96XzFZcv+4dU91jjLi+LS4ZhmODzRn5zabzudDpRUFDg82mO0dHR6sRY0zSPq/znz5+HxWLxeL9xQtXd3a1+A3Xw4EGUlZXNuQLqfucQ8F9cun+3v+LSKIaA2eLS14mfcfIPeBYkycnJ6nd07r799lufn/U3r94n342NjTh06BDi4uIgIvM+qOPQoUOqSCgqKlIFoXtxadyNNe6UrF+/fs50+7ojdfbsWY9lV19fr+7men++rq7Ooz3dExsbi5ycnNeanpGREZSUlKgiVkTQ2Nionjbq/bmcnBz09vb6XXe8i8uFlqfR/bGzs9NjfDt37lywuHTv9gq8usNnFFGZmZnYtGmTet34TZyv+FofFtN+RjfayclJxMXFqSIr2PZzz2LaJ5DiMtBty9/7F9ovAP4f6DM5OYmbN2/iq6++Uhc7Tp8+DWD2t9zGnfucnByP9SGQfaHRvt49CG7cuAGR2a7g3ndQgVfF5+jo6Jw27uzsxMmTJ5GSkqIuTgwPD887n2p+33BxOfHUoe4q9q75O3o/2huycU+OjsHxyUE8+ed/R/cH29H1Pzcvi+Jyor13ttj7x403Ulw+r/1zdhncuO933MEctwPdl85XXE6OjmEw8ySc+86p5cDikmEYJvi8keLSuFv1119/4cqVKx7FAQB10mP8uZJATqiMuyfGb8KA2RPFpSgujd8Zud91MH5PCgReXO7Zs0fdBTJy9+5ddVLv3X3U37waJ4ZjY2MoKCjw6K5o3Lny/ht2xp0r97s4xsHbvbg0HqgDzF4I8P6t1fnz51FTUzOnPb0LMOPOm/vvAp8/f478/Hx0dHSo4tK9SDK60p4/fz7g6blz5w4uX76sXnc6ndA0DdnZ2R53dIzY7Xbk5+erbp2BFJcLLc+enp45y9PoErlQcWk2m9VdX+DV3SSjfYw7XUVFRVizZo3P8fhbH/wtz+HhYXVn2X0dCrb93LOY9gmkuAx02/L3/mCKS5vNhsLCQtWddGJiAhs2bFBdUYHZu87GQ7WMLsi+vncxxaX3+pSbm6v2URaLxaObLQDs379f3aF1b+Pz5897/HzB6C5fVVXlcz7d86aLy8nRMTz9H/+JgR2zT471dffsdcc99vPvqvAYb57tcvusqOKtLy4nR8fQ9rdYOFK+fSPF5dA352FbsXLOn3/xNe5gjtuB7ksXKi69lwOLS4ZhmODzRopL48p8bW2t+iF/UlIS7HY72tvbkZKSAk3TPLqCBVpcNjc3o7+/H6dPn4aIIC0tLeATXF/f7X4Sqeu6uuvW3d2tfj/6usWl8fu1wsJC9PX1oa6uzqMb3HzF5XzzapwYTk9Pq9+f9PT0wOl0qgeUuBcqwKviMisrC0NDQ2hublZPtWxqavJZzBnfe+PGDTgcDlV0tLW1zWlPX3+uw/iN1x9//IGnT59i79696oE9RnFptVrx119/obOzU91xHBwcDHh6jAdF3L17FyMjI/jjjz+gaRpOnjyp1sUtW7ags7MTf/31F5KSktT64m/duXDhAjRNw4MHD+ByufwuT6Pr5f3799HT06P+LqO/31xmZWWhq6sLf/75p3pwjPF0UeOkSkTmXaf9rQ+LWZ5paWkQEWzYsEG9Fmz7ecdf+wRSXAa6bfl7v7/icuvWrVi/fj1aWlrmdOl+/PgxRAQnTpzA8PAwurq6kJCQ4NHl2f1BVsbvzHx972KKS+NCjMPhUA/wOXjwIIBX28pPP/2E/v5+9b3ff//9nDbetm0bYmNj0draipGREdV9tqmpCf39/UhNTfXo8u+eOXfRuvuh/9qMgR2F6smu83UvBWbXnZycnEWN2+Dcd079LnLiqWPecdfU1CA1NRV//vmn33G/dI6g478noSd2p3ptYFsB2v4Wi4megZBMu23FSgx+eRL6r83K80abz3EXFRUhNTXVYx1ZaNxDORdm716ercRLhxP6Lw8x/N1PPt+70DKdr7jstmzD2M+/YyjnAuzvfYD+/zy8qMI12ON2IPvSUBSXCy1ThmEYxjMhLS7PnDnjs7g0fhtmnOA8evRIFTAis09XffjwoXp/ICdU/f39qpufiCAlJUUdaK5cuYIdO3b4PEjN93Cb+U4ijT/NYDylUuTVnxQw5tl48q33dM5XXALA5cuX1W8cNU3Dnj171B0O7xNgf/PqfmJYW1urTjSNaZ3vjoNxUcDwww8/QNM0WCwWn8Xcy5cv8e2336r3R0dHz9uevorLwcFB9URaEUFSUhLq6uoAvDrJzszM9Jh2405noNMzMTGhnjRo2Lx5s3qQS3NzM2JjYz2G9fb2AoDfdcdms6kujnfv3vW7PAcHB5Gamqq+a82aNYiPj1+wuLRarepJiCKi/hSFe4zuqd53pd2z0PqwmOVp3KX0PvEMpv284699FlNcut/1C2Tb8vd+f/sFY70VEbVuucc4eXbf5xkPAwKgLlx5P9H5dYrLzZs3q/VSRPDll1+q30pOTk6q3haGAwcOqGLFvY17e3uRkJDg8d7vvvsOMzMzAT8tduTCLdhWrPTQ9rfYeQsR4wLkYsZteP5by+zfW/wf/7ng3bnS0lJ1sdPfuJ17z87+vcxHHa8K5f/6/WX/5u9CMu3e7WJbsRId/z3J57iNfdn4+Pji2uWZCwNfFHqMe2Bbgc/3Gss0Ly9vUePutmxT4+z81/+YfVqvj9+5+iougz1uB7IvnbMung28uDSbzfMuU4ZhGMYzIS0uA83Y2Ni8f3sxkExPT8PpdHo8bGJwcHDJ/pj6+Pi4zz+7EUwGBgYWfOCOkUDm1XjvYsY9Pj7u8b7nz5/7fXjH1NTUggWNv4yPj6u71Ubcf3PpcrkCaueFpmd8fBx9fX3zzpPL5fJ5wva6WajNdV3Hs2fPAhqf0+n06H7qnj179qg/b7NQ/K0PwSzPULbf67TPQlnstvW6719sJicn4XA4fM6b0dXP+JMiwWZ6ehp9fX0+73AZwwcHB30+Wdg7IyMjcDgc847LV+Yr7hYDmP198HzdjIMd98zMDDZs2OBxgSoU434T0z42Ngar1Rr4uIdGMP6HHRNd/QuO//jx43MuuoSqXbwTiuP2YvYVSzHtDMMwzPwJa3HJMN6Z74E+zNw0Nzd7dPtlll+mp6dRXl6OjRs3zls0LMcEezKfnJw878Opgh13RUUFsrOzQz7uNzHtubm5827rwU57b28vkpOTfV7EWs4F2nKedoZhmOUYFpfMW5Xa2lqkp6eHezKWRX788UdER0fj6NGj4Z4U5jUzPT2N2NhY9Rv0SMnU8/HXOpGfej5793uhO8dv47gjYdoXumMYinYJV5bztDMMwyzHsLhkGIZhQpqZqenXOpmfmfLfHfltHHekT/tSt8tSZjlPO8MwzHIMi0uGYRgm5JmZml70XaOp5+MBnci/LeN+l6Z9qdtlKbOcp51hGGa5hcUlwzAMwzAMwzAME3RYXDIMwzAMwzAMwzBBh8UlwzAMwzAMwzAME3RYXDIMwzAMwzAMwzBBh8UlwzAMwzAMwzAME3RYXDIMwzAMwzAMwzBBh8UlwzAMwzAMwzAME3RYXDIMwzAMwzAMwzBBh8UlwzAMwzAMwzAME3RYXDIMwzAMwzAMwzBBh8UlwzAMwzAMwzAME3RYXDIMwzAMwzAMwzBBh8UlwzAMwzAMwzAME3RCXlzqug6bzYaGhgbU19cTERERERHRW6ChoQE2mw26roe6DAQQ4uJS13U0NDSgq6sLLpcLuq4TERERERHRW8DlcqGrqwsNDQ3Q9dAXmCEtLm02G7q6usLeaERERERERORbV1cXbDZbKEtBACEuLhsaGnjHkoiIiIiI6C3mcrnQ0NAQylIQQIiLy/r6+rA3FBERERERES2svr4+lKUgABaXRERERERE7xwWl0RERERERBQ0FpdEREREREQUNBaXREREREREFDQWl0RERERERBQ0FpdEREREREQUNBaXREREREREFDQWl0RERERERBQ0FpdEREREREQUtIgrLkdHR9Ha2gq73Y7R0dGQNdSdO3dQVFSElpaWgD/b0dGBoqIi5fbt22Ff8G+Ky+WCy+Xy+9p8Tp06pdrt4sWLYZ8fIiIiIiLyLaKKyzt37sBkMkFEICLQNA3FxcUhaai///3vEBGUlZUF/Nna2lo1TSKCjIyMsC/4NyUmJgYigocPHy74mi9jY2Me7RYVFRX2+SEiIiIiIt8iprh89uwZoqKiICLIzs7GkSNHkJycjP3794ekoYIpLoeHh9Ha2oqioqJ3rrj86quvICLqrmNPT48q/Bdz97K1tRW//vori0siIiIiordcxBSXjY2NqgB59uyZer2/vx+6riM9PR2rV6/Gr7/+Cl2f7T6bkJCA1atXw2634/PPP0dKSgqioqJgtVqRkZEBk8mEY8eOQddfFZe7d+/Ghx9+CE3TsH//foyMjEDXdTidTuzfvx9RUVHQNA2pqalzutBevnz5nSsujXnOzMyEruu4ceMGRATp6enQ9dni8eOPP4amaRARrFq1CseOHfMoPDs6OuYtLrdv347Vq1fjr7/+gq7rapk6nU7oug673Y709HRomgaTyYT09HTY7fawtwsRERERUaSJmOLS5XKpLrFRUVH4/vvvVWGp6zrOnDkDEcEXX3wBXddx+/ZtiAjWrl0LXddhtVpV0SMi+PDDD/Hhhx9CROB0OlVxKSJISEhQ//7555+h6zoyMjIgIjCZTGq4yWTymIZ3sbjs7OyEiCAmJga6riM3Nxcign/84x/QdR3V1dX48MMPcfDgQRw7dkx1mb169aoax0LFpbHcHjx4AF3XVZE6MDCAoaEhrFq1CiKCzz77TC3bmJgYjwsQREREREQUvIgpLnVdx8OHD5GYmKgKP5PJpIo/h8OhXu/v78cXX3wBEcGFCxeg67NFSlRUFP7880+ICI4cOaIKofb2dlVcGsWpUaweOHAATqdTjburqwu6riM5OXlON9p3sbjU9Ve/sezp6VHt8ueff0LXdYyMjODevXsoLCzEt99+i5SUFIgIcnNz1edft7i8fv26KiZra2tRW1uruk7/9ttvYW8XIiIiIqJIElHFpeHPP//E559/7nHHTNdfdW01fvtoFJq6PlukrFq1CjabDSKCgoICHD16FCKC1tZW9dkzZ85A13X1O8DExES0tLTMKX4OHDigxmO89q4Wl3v37oWI4Nq1a+r3lmNjY9B1Hfn5+R4XA4y7z3v27FGff93i8vTp0x4PBHJXXl4e9nYhIiIiIookEVNcdnd3e/zGsb+/XxUSfX190HUdDx488CgwsrKy1PsXW1zu3r0buq7j0qVLEBHs3bvX47uMYjU1NRUigpKSEvUdVVVVEBF8/PHHYV/wb5JRVK5btw4igu3bt6thRjFYWloKXdexf//+OcVlX1+fal/v7qxGF+Samhr09vaq9w0MDODKlSsQEaxevRrNzc1KY2MjHA5H2NuFiIiIiCiSRExxaTzQZ9OmTcjNzVXdK73vdrn/XtJ93IstLo07j0ZRVFFRAV3XsWnTJvUbTuOuqaZpqpusrs8+vMZ9HEeOHHknHi7T3d3tUdQbXZHd22337t34xz/+odrVvbjUdV3d0fzkk09w5MgRVFdXQ9df3SFOTEzExx9/7FFc9vb2qvF9/vnnOH36NL755huYTCYWl0REREREIRYxxWV7e7vH7y2Nh/Lcv3/f433FxcXqbpb76x999BFiYmI8isu8vDxVXBp/UsN4KIyIICUlRT2VtKurC5988olHF89ffvllznSWlpZ6TGdNTU3YV4I3YfXq1WqejSe76rqO3377TXVtNdrUV3FZW1ur7gaLCI4ePQpdn70bbfym0724HBwcVCu48WAmw9q1a9VyIyIiIiKi0IiY4tIwODiI1tZW9PT0qN/1GcbGxtRdReNppa9jaGgI7e3tPof19fXhyZMnc76bFtbR0YHh4eHX+uzY2Bg6OjoWfE9fXx9aW1s9nt5LREREREShE3HF5XzOnDmjukjyT1EQERERERGF1jtTXF65cgXp6ek4cOAAWltbw97wREREREREkeSdKS6JiIiIiIho6bC4JCIiIiIioqCxuCQiIiIiIqKgsbgkIiIiIiKioLG4JCIiIiIioqBFVHHpcrnm4N+bJCIiIiIiWnoRVVx+9NFHEBEPu3fvDnsjk/+VMD09HSKCw4cPh316iIiIiIgocBFVXD558gQtLS348MMPkZ6ejpaWFnR1dYW9kWl+dXV1EBFkZGRA0zQcPHgw7NNERERERGMnWYIAACAASURBVESBi6ji0mC1WpGVlRX2xiX/+vr60N3dDV3XsWrVKhaXRERERETLFItLemuwuCQiIiIiWr5YXNJbg8UlEREREdHyxeKS3hosLomIiIiIli8Wl/TWYHFJRERERLR8RVRxabPZ8PDhQ/W02IcPH6KjoyPsjUwLa21tRXNzM6KiopCZmYnm5mb09PSEfbqIiIiIiGjxIqq45N+5XJ5iYmLmLLejR4+GfbqIiIiIiGjxIqq4JCIiIiIiovBgcUlERERERERBY3FJREREREREQWNxSUREREREREFjcUlERERERERBY3FJREREREREQWNxSUREREREREFjcUlERERERERBi5jicmxsDC6Xa87rLpcLY2NjYW9omp/L5fLA5UVEREREtPxETHGZnZ0Nk8nkUZj09PRARHDhwoWwNzT59uuvv0JEPHz22Wdhny4iIiIiIgpMxBSXd+7cgYjg4cOH6rXLly9DRNDR0RH2hibfjOKysbERLS0taGlp4fIiIiIiIlqGIqa4fPbsGTRNw4kTJ9RrX3zxBT766KOwNzLNzygu+/v7fXZrJiIiIiKi5SFiiktd17Fjxw6kpKRA12d/x6dpGgoLC8PeyDQ/726xiYmJaGpqCvt0ERERERFRYCKquLx69SpEBAMDA/j9998hImhpaQl7I9P82tracP36dbS2tuLy5ctYvXo1TCYTBgYGwj5tRERERES0eBFVXA4MDEBEUFlZiYKCAsTExIS9gSkwVVVVEBHcu3cv7NNCRERERESLF1HFpa7r+PTTT7F7924kJCTg0KFDYW9gCsy9e/cgIrh9+3bYp4WIiIiIiBYv4orLS5cuQdM0iEjAn6U37+rVq6ivr0dfXx9++eUXJCYmQtM09PX1hX3aiIiIiIho8SKuuOzq6oKIwGQy8emjy8A333zj8UCfmJgY1NXVhX26iIiIiIgoMBFXXNLy43A40NLSgq6urrBPCxERERERvR4Wl0RERERERBQ0FpdEREREREQUNBaXREREREREFDQWl0RERERERBQ0FpdEREREREQUNBaXREREREREFDQWl0RERERERBS0iCkux8bG4HK55rzucrkwNjYW9oam4IyOjqK9vZ3LkoiIiIjoLRUxxeW9e/cgIqiqqlrwNXr71NfXIz09HSKCw4cPzxleVlYGEYGIwGQyoa6uLuzTTEREREREniKmuNR1HVlZWYiKisLg4CCcTidWrVqFjIyMsDcyza+urg4igoyMDGiahoMHD3oMt9lsEBGcOHECjx8/xrp166BpGoaHh8M+7URERERE9EpEFZf9/f2IiorCN998g2+//RZRUVHo7+8PeyPT/Pr6+tDd3Q1d17Fq1ao5xWVeXh40TcPo6CgcDgdMJhNEBBUVFWGfdiIiIiIieiWiiktd13H79m3VhfKXX34JewPT4vkqLjMyMpCYmKj+nZGRARFBUVFR2KeXiIiIiIheibji8unTpxARaJoGh8MR9gamxfNVXKalpSE1NRVVVVXqTrTJZPL520wiIiIiIgqfiCsu09LSsHr1aqxevRpZWVlhb2BaPF/FZWZmJlatWgWTyYS7d+9C13WICE6dOhX26SUiIiIiolciqrgsLS2FiKCpqQm1tbXsGrvM+Cou8/PzISLYt28fdF1HW1sbRATXr18P+/QSEREREdErEVNcdnR0QNM0HDp0SL2WkZGBVatWwel0hr2haX6tra1obm5GVFQUMjMz0dzcjJ6eHjVMRJCXl4fBwUFkZWXxabFERERERG+hiCku09LSEBMT41F0dHV1QdM05Obmhr2haX4xMTHqIUyGo0ePquGXLl1Sr2uahpqamrBPMxEREREReYqY4pIi28jICOx2O1wuV9inhYiIiIiI5mJxSUREREREREFjcUlERERERERBY3FJREREREREQWNxSUREREREREFjcUlERERERERBY3FJREREREREQWNxSUREREREREGLqOJybGyMfwdxGXK5XB7GxsbmvGd0dBTt7e0+hxERERERUfhFVHGZlpaGTz/9NOyNSov366+/QkQ8fPbZZx7vKSsrU8NMJhPq6urCPt1EREREROSJxSWFlVFcNjY2oqWlBS0tLejo6FDDbTYbRAQnTpzA48ePsW7dOmiahuHh4bBPOxERERERvcLiksLKKC77+/t9dmnOy8uDpmkYHR2Fw+GAyWSCiKCioiLs005ERERERK+wuKSw8u4Wm5iYiKamJjU8IyMDiYmJ6t8ZGRkQERQVFYV92omIiIiI6BUWlxRWbW1tuH79OlpbW3H58mWsXr0aJpMJAwMDapmmpqaiqqoKUVFR6O/vh8lkwuHDh8M+7URERERE9AqLS3qrVFVVQURw79496LqOzMxMrFq1CiaTCXfv3oWu6xARnDp1KuzTSkREREREr7C4pLfKvXv3ICK4ffs2dF1Hfn4+RAT79u2Drs/e6RQRXL9+PezTSkREREREr0RccZmYmIiHDx96GBwcDHtDk29Xr15FfX09+vr68MsvvyAxMRGapqGvrw+6rqO1tRUigry8PAwODiIrK4tPiyUiIiIiegtFXHHp/TcTRQQ///xz2BuafPvmm288llVMTMycv2N56dIlNVzTNNTU1IR9uomIiIiIyFNEFZe0PDkcDrS0tKCrq2ve94yMjMBut/v8cyVERERERBR+LC6JiIiIiIgoaCwuiYiIiIiIKGgsLomIiIiIiChoLC6JiIiIiIgoaCwuiYiIiIiIKGgsLomIiIiIiChoLC6JiIiIiIgoaBFZXLpcLrS2tqKzszPsDUyhMTo6ivb2doyNjfkc7nQ60d3dHfbpJCIiIiJ6V0VccXnmzBmIiJKamhr2Rib/K2F6ejpEBIcPH54zvKysTC1Pk8mEuro6NczlciE7O1sN/+ijj/D06dOwzxMRERER0bsmoorLS5cuQURQWlqKwcFB2O12nDlzJuyNTPOrq6uDiCAjIwOapuHgwYMew202G0QEJ06cwOPHj7Fu3Tpomobh4WHouo6SkhKICKqrq1FfXw+TyYRNmzaFfb6IiIiIiN41EVVcRkVFITMzM+yNSovX19enurOuWrVqTnGZl5cHTdMwOjoKh8MBk8kEEUFFRQV0Xce6deuQnp6uVmbjDia7yBIRERERvVkRU1z29fVBRFBSUhL2RqXX46u4zMjIQGJiovp3RkYGRARFRUXQ9dkLCkeOHMHQ0BBiYmKwd+9eiAh+//33sM8PEREREdG7JGKKy5aWFogIKisrw96o9Hp8FZdpaWlITU1FVVUVoqKi0N/fD5PJpH6bKSI4fvw4cnJykJaWhtbWVogI7ty5E/b5ISIiIiJ6l0RMcdnf3w8RQXFxcdgblV6Pr+IyMzMTq1atgslkwt27d6HrswXlqVOnoOuzdy4TEhKgaRq6urrQ1NQEEUFjY2PY54eIiIiI6F0SMcWlrs8WGp9//nnYG5Vej6/iMj8/HyKCffv2Qdd1tLW1QURw/fp16LqOlJQUiAiuXr0KXddRWloKEUFPT0/Y54eIiIiI6F0SUcWl8bTYS5cuqafFHj9+POyNTAtrbW1Fc3OzeiBTc3OzKg6Nbq55eXkYHBxEVlaWx9Nif/zxR4gI7t27h+7ubqxduxaffvpp2OeJiIiIiOhdE1HFpa7P/p1LTdPUU0M/+eSTsDcyLSwmJsbjb5OKCI4ePaqGGxcNRASapqGmpkYNc7lc+Oqrr9TwtWvXoqOjI+zzRERERET0rom44lLXZwsOu92Orq6usDcwhcbIyAjsdjtcLpfP4QMDAywqiYiIiIjCKCKLSyIiIiIiInqzWFwSERERERFR0FhcEhERERERUdBYXBIREREREVHQWFwSERERERFR0FhcEhERERERUdBYXBIREREREVHQIqq4dLlc8/4dRHp7GcvNMDY2Nuc9o6OjaG9v9zlM13U4nU50d3eHfV6IiIiIiN5VEVNcPnjwACICEYHJZMLHH3+M2trasDcwLezXX39Vy83w2WefebynrKzMY9nW1dWpYS6XC9nZ2Wr4Rx99hKdPn4Z9voiIiIiI3jURV1xevXoVdXV1yMnJgYjg9u3bYW9kmp9RXDY2NqKlpQUtLS3o6OhQw202G0QEJ06cwOPHj7Fu3Tpomobh4WHouo6SkhKICKqrq1FfXw+TyYRNmzaFfb6IiIiIiN41EVdc3r9/X732ySefwGq1hr2RaX5Gcdnf3++zS3NeXh40TcPo6CgcDgdMJhNEBBUVFdB1HevWrUN6erpamY07mOwiS0RERET0ZkV0cVlQUAARmfd3ehR+3t1iExMT0dTUpIZnZGQgMTFR/TsjIwMigqKiIui6jqioKBw5cgRDQ0OIiYnB3r17ISL4/fffwz5vRERERETvkoguLv/xj39AROBwOMLe0ORbW1sbrl+/jtbWVly+fBmrV6+GyWTCwMAAdF1HWloaUlNTUVVVhaioKPT398NkMuHw4cPQdR0iguPHjyMnJwdpaWlobW2FiODOnTthnzciIiIiondJRBeXeXl5vHO5zFRVVUFEcO/ePei6jszMTKxatQomkwl3796Frs8WlKdOnYKuz965TEhIgKZp6OrqQlNTk/oNZ7jnhYiIiIjoXRLRxWViYiISEhLC3si0ePfu3fN4EFN+fj5EBPv27YOuz97pFBFcv34duq4jJSVFPchJ13WUlpZCRNDT0xP2eSEiIiIiepdEXHF5+fJlVFdXIysry+MOGL2drl69ivr6evT19eGXX35BYmIiNE1DX18fdF1X3Vzz8vIwODiIrKwsj6fF/vjjj2o5d3d3Y+3atfj000/DPl9ERERERO+aiCsujb+F+Mknn3j8PUR6O33zzTceD/SJiYmZs9wuXbqkhmuahpqaGjXM5XLhq6++UsPXrl3r8adMiIiIiIjozYiY4pKWL4fDgZaWFnR1dc37npGREdjtdp9/rkTXdQwMDLCoJCIiIiIKIxaXREREREREFDQWl0RERERERBQ0FpdEREREREQUNBaXREREREREFDQWl0RERERERBQ0FpdEREREREQUNBaXREREREREFDQWl7QsjI6Oor29HWNjYz6HO51OdHd3z/v53t5eDAwMhH0+iIiIiIgiVcQUl2vXroWI4OHDh9B1HYODg9A0DSKCkZGRsDc0LbwSpqenQ0Rw+PDhOcPLysogIhARmEwm1NXVqWEulwvZ2dlq+EcffYSnT5+q4X19fVi3bp0anpGRwfWBiIiIiGgJRExx+eGHH0JE8O2330LXdZSUlKiCgsXE26uurk4VfZqm4eDBgx7DbTYbRAQnTpzA48ePsW7dOmiahuHhYY/lXF1djfr6ephMJmzatEl9PiMjAzExMXj8+LEqUouKisI+30REREREkSaiisutW7fCZDJhdHQUKSkp2Lp1K4vLt1xfX5/qzrpq1ao5xWVeXh40TcPo6CgcDgdMJhNEBBUVFdB1HevWrUN6erpamY0LCt3d3RgaGoKI4MyZM9B1HSdPnoSI4MMPPwz7fBMRERERRZqIKi6PHz+OtWvX4ocffoCmabhy5QqLy2XEV3GZkZGBxMRE9e+MjAyPu49RUVE4cuQIhoaGEBMTg71790JE8Pvvv8Nut0NEcO/ePbS0tEDTNGRlZUFEwj6vRERERESRJuKKyzNnzkBEkJWVhZs3b7K4XEZ8FZdpaWlITU1FVVUVoqKi0N/fD5PJpH6bKSI4fvw4cnJykJaWhtbWVogI7ty5g8bGRogIamtrYbVacerUKRQXF0NEMDQ0FPb5JSIiIiKKJBFXXHZ1dcFqteK3335jcbnM+CouMzMzsWrVKphMJty9exe6PltQnjp1Cro+e+cyISEBmqahq6sLTU1NEBE0NjaqO5cJCQlITk6Gy+VSFx/CPa9ERERERJEm4opL99dYXC4vvorL/Px8iAj27dsHXdfR1tYGEcH169eh6zpSUlIgIrh69Sp0XUdpaSlEBD09PRgeHla/wbTb7dB1Hbt27cLq1avDPq9ERERERJGGxSWFXWtrK5qbmxEVFYXMzEw0Nzejp6dHDRMR5OXlYXBwEFlZWR5Pi/3xxx/V7yq7u7uxdu1afPrpp2rcGRkZMJlMePLkCRobG6FpGk6ePBn2eSYiIiIiijQsLinsYmJi1B1Gw9GjR9XwS5cuqdc1TUNNTY0a5nK58NVXX6nha9euRUdHhxre29uLhIQENfzzzz/Hs2fPwj7PRERERESRJmKKS4psIyMjsNvtcLlcPocPDAx4FJXeurq64HA4wj4fRERERESRisUlERERERERBY3FJREREREREQWNxSUREREREREFjcUlERERERERBY3FJREREREREQWNxSUREREREREFjcUlERERERERBY3FJREREREREQWNxSUREREREREFjcUlERERERERBe2tLy4bGhrgcrnC3lBERERERETkm8vlQkNDQyhLQQAhLi5tNhu6urrC3lhERERERETkW1dXF2w2WyhLQQAhLi51XUdDQwO6urp4B5OIiIiIiOgt4nK50NXVhYaGBui6HspSEECIi0tgtsC02WxoaGhAfX09ERERERERvQUaGhpgs9mWpLAElqC4ZBiGYRiGYRiGYd69sLhkGIZhGIZhGIZhgg6LS4ZhGIZhGIZhGCbosLhkGIZhGIZhGIZhgg6LS4ZhGIZhGIZhGCbosLhkGIZhGIZhGIZhgg6LS4ZhGIZhGIZhGCbosLhkGIZhGIZhGIZhgg6LS4ZhGIZhGIZhGCbosLhkGIZhGIZhGIZhgg6LS4ZhGIZhGIZhGCbosLhkGIZhGIZhGIZhgg6LS4ZhGIZhGIZhGCbosLhkmBBlZmoaU8/HMTk6FrSp5+OYmZoO9ywxDMMwTFgTymMrj72Rm0DXk1Ava54DvgqLS4YJQWamppfkQLecdy4MwzAME0yW6tjKY29kJZj1JBTLmueAnmFxyTAhyFJdVZ16Ph7uWWMYhmGYsORN3bHksXd5J5j1JBTLmueAnglpcTkyMoLOzk6fJiYmQvlVb32eP3+Orq6ucE9GQJmamkJnZycmJyff6Pf29PRgbGzsjX5nqLOUBznvBLOcJiYm5mybPT09oWgCZhEJZL/gdDrhdDqXeIoiK0NDQxgdHX0j3+V0OjE0NDTv8LGxsaC2rWA/v5R5+fIlOjs7MTU1taTf8+zZs3nPKTo7Oxds/8XG2J++fPkyBFP8Krquo7u7O6Tj9JdwHcOXMuEoLOc79gaTwcHBBffniz0PCnTbW4rjyFIem153ewz3sl4u6+GbSkiLy1OnTkFEfPrjjz9C+VVvfSorKyEiIRlXWVkZbty4EZJxLZT+/n6ICB4+fLjk3+We2NhYnD59GgDgcDhw6NAhjxPEI0eO4NGjR290mgKN987g5eAzjFy4NcdLxxAmR8fwovXpnGGusupF7ViCWU5//PGHz+0zOjoaubm579xFoDedQPYL2dnZ2LRpU9Df6Wub8s5y2MYWk+zsbJw8efKNfFdmZia2bt067/CysjJomvba4/f3+Te9zNy/z263Q0TQ0dGxpN/53XffzXtOISL4+uuvg/6OpTruhfIcYLHxnhfvc4fF7AvetngfDyfaezFy4RZetHW/en3EhdGLP+N5/SNMjo7BVV4z5/g63tIe9LE3mGzfvh07d+6cd7j7edBCCXTbC9VxZKnHaeR1t0fvZff8/l8YuXALk8Ojr9adzr7ZdedJz5IXl/7OAfVfm+cM06v/YHHpK0Zx6XA45gj1VcG3PaE8sKSlpWHPnj0hGddCefHiBSoqKvDs2bMl/y733L17F21tbQCAP//8EyKCvr4+NVxEUFFR8UanKdDMOQB29qH9/Xg8+afVsK1YiSf/tBrt78djvLlt9uBXVo329+PR9rdY2FasRPv78Xj6bxsXtWMJZjkZxeWtW7fUttne3o4ffvgBIoITJ06EoDWY+RLIfqG5uRn3798P+jt9bVPeWQ7b2GLyLhWXb3qZuX/fmyouXS6X2k9VV1eraTBeC0WPl6UqLnt6et74NuV9bPA+d1jMvuBty5yTducI2v/b/0Hv/85Srz07fhW2FStVcdn9wXa0vx8P24qVsL/3Adrfj8fImcqgj73BxF9x6X4etFAC3fZCdRxZ6nEaCVVxOf7gMWwrVmL4cIl6re//+xpP/vnfVYG3lMWlv3PAwcyTaH8/Hvb3PlDrYX/aERaXvmIUlwulqqoKCQkJ0DQN8fHxuHLlihqWk5ODCxcu4Ny5c4iNjfW5ck1NTaGwsBCxsbEwm83IzMzEyMgIAGDnzp3YuHGjuvvS1tYGq9WqvqOpqQlJSUnQNA2apmHLli3qs7m5uSgsLEROTg7MZjNiY2Nx9+5dXLlyBXFxcdA0Denp6epgtmnTJhQWFmLjxo3QNA1r1qzBxYsX1XR6n0Ta7XakpqZC0zQkJSWhsrJyUW3qPr1WqxUPHjyA1WpFa2urao/4+Hjk5eWpz1y4cAFpaWkAZrsq79q1CxaLBRaLBTt37py3O8PQ0BCsVivsdjuA2Z3dmjVrICIwm83Iz8/HzMzMnM/t27cP2dnZ6v9lZWWwWq3qADY+Pg6r1Yrq6mpcuXIFmZmZqK2tRVJSEs6ePYv09HSUl5ejqqoKsbGxEBHExcUhLy8PVqsVIqKm3d86UFVVha1bt6KsrAxr1qyBpmnYvn37vCchk5OTOHjwIMxms7qD535CUFRUBIvFoqZpvjvI83VneN5og23FSozdavA5fPhoKWwrVgbUJcJ9OT19+lS17fr169X69eTJE5/TaRSXTU1Nc4ZpmoYDBw6oNj527Jha9zds2ICWlhb13vXr16O8vBzp6enQNA0JCQl4+vQpcnNzYbFYYDabceTIEfX+/v5+bN26FZqmQUSQkJCg1uFAl1lubi6OHz+OgwcPqu8qKCjwmLZbt27Naa+2tjbVXrdv31bb1rZt2zymLzo6GlVVVerzIyMjyMzMhNlsRlxcHAoKCjA9Pfsje1/7rIXmNZDisqioCPv371dttGHDBo/hx48fR05ODgCgvb0dGzZsUPuKHTt2YHR0dM429cMPP3iMw2gP922srKwMCQkJqtvVX3/9pdrMSGZmJgoLCwEANptN7QdjY2Nx9OjRBbvlLfT+xawLN2/eRHx8PDRNQ1pamsfdO+/icrHbLwCUlpaqtjLWX2M5T0xM4MCBA4iOjoamadi1axfS09M9isvi4mK1v0xJScGhQ4c8isOF1qPFfH6hZWaMf6F9/eDgIHbs2KG+v7y8XG0XC02fr+8zTnDPnDmj2sx7v7PQMS8hIQH379/Hnj17YDab510m7mlpaYGIqJPaQI47wPzrjfvJbHFxMZKSkjy6HN65cwfx8fEYHx9f8NjjndraWsTHxwOY7SK7a9cutX0mJyerfYJ7jON5WVmZem3fvn1ITU1V/zfOAZxO55x2dD82eJ87lJeX+9wXLLSc1q9fj4qKCmzZskXtG933A95Z6Bxrvn2Uv/g6Jo5d/232uFpZj4meAbT9LRYDXxTOeV/b32Lh3H0mZMde7wSyDm7fvh2bN29GZmYmNE2bc9wyzoOMlJeXq/U1Li5OLZfFbHvuOXnypLrDv9j1EFh4ebmP09hnl5SUIC4uDmazGYWFhXj06BGSk5PVub7NZgMAVFdXq3M/YztKT0+Hw+EA4Lk9btmyxeM8AgBOnz6tzm/d42v5DWaehP29DzDR2Yex242wrVgJ15VfA17Whw4dQnt7+4Lved1zwN5//wpd/+9nQa2Hb2OWpLhsa2vzMDg4CAC4desWRAQ7duxAZWUlvvzyS4+roWlpaWpjycrK8nl1zTjgnj9/HpcvX4bFYkFycjKA2aspIoKCggK1k46Pj8fk5CR0XVcb07Vr13Dp0iWIiDpB2r59O0QEmzdvRmVlJVJSUtRJxsmTJ9WdnVOnTgGAOmHZtm0bKioqsHv3bogISktLAXieRA4MDEBEkJ6ejqqqKmRnZ0NEUFtb67dNL168iNjYWFitVvzwww94/vw5RARnz54FMHviZxRFRpKTk7F//35MT0+rE7Ti4mKUlJSowtlXf333jXpkZAQigu3bt+Pu3bvIy8uDiPg8OSsqKoKIqHGmp6d7LNf6+nqICAYGBnD27FmYzWZVrN+/f191B3n06BEOHDgAEcF3332H27dv49y5c2o6rl275ncdKC4uVu1x+fJlHDt2DCKCoqIin+174sQJiAiOHz+O27dvY9OmTRARTExMqCvlx44dw507d7B161aICPr7++eM500Wl+7LyTjQaJqGM2fOoLi4GGaz2eNkxD3zFZd37txRdzSB2aJJRJCfn4+KigokJCRARPD06VMAUIXToUOHUFFRoYpzq9WKn376CXv37vXoDr9hwwaYzWYUFxejsrIS0dHRSElJea1lZmyrGzduREVFBXbu3AkRwYMHD9S0GdshAPT29kJE0NLS4tFe58+fx4ULF1QXu/T0dFy7dg3r169X6/P09DTi4+MRFxeHa9euqXU9Pz8fgO991kLz+rrdYo3l6p7du3dj8+bNAID4+HisWbMGN27cQElJCTRNw9dffz1nm2poaPAYx9DQ0Jxt7MGDBxARNDc3AwDOnz8PEVF3QMbHx9W+wOFwqOVeUVGhlt18PS38vd/fumBsk4cOHUJlZaU6+TGOMd3d3eq4Ecj229TUBBHBrl27cPPmTRw8eBAigt9//x0AsGvXLogITp48qU76REQVl+Xl5RAR7N69GxUVFdixY4dazwD4XY/8fd7fMvO3r5+amkJsbCyio6NRVlaGs2fPqvW+paVlwenz9X3GdmSc5Hrvd/wd80QEsbGxsFgs6gKJv3gXl4EcdxZab9z3p8Y5hPtdmR07dqjtcKFjj3fct/XDhw9D0zSUlZWhsrISa9asQWxsrM/Pbdy4UZ08T09Pq32tcfJdUFCgPuvdju7z4n3u0NzcPGdf4G85dEIlSwAAIABJREFUGd+dk5ODK1euqBsD4+NzHzLi7xxrvn2Uv8x3XOz9aC86/mUd+jcdRvv78Xg5MPzGi8tA1kF/xy33brFVVVVqf3Tt2jU13gcPHvjd9rzjfhwJZD1caHl5H5uMCxZXrlzB/v371b7LWG/MZjM2btwI4NW+TtM0XLhwAaWlpeqC2MTEhMc6XFBQAE3TPH6uEx0djaNHjy5qPXk5MIz29+Ph2PB/0fmv/4G+xOzXWtaxsbE+L8j7+34WlyHKfL+5NA4eVqtVnWQZ2bRpk1q509LSICLqCod3jILH/c5Sa2urx4lQQUEBRASZmZkQEXW1wW63Y8OGDR5Xd5KSkpCVlQVg9oQ1Ojpa7SQaGho8ikVgtmjbu3cvgNniMj4+3uPK89atW1WR535gOXLkyJyCbsuWLT6vvviKd9eWbdu2eWzYxsltf3+/Kj5rampw9+7dOQfKhw8fzlskum/UT548mTP/J0+eVFeB3WPs7B4+fIiZmRl1R8K4opefn6+u4BonNcXFxerz7jtVf91i/a0Dxo7OuPsKzBY227dv99m2ubm5HlfGamtrISLo7u5GSUmJxzqk6zpycnJ8dkcJd3Hp3p4nTpyYtzudUVxaLBbExcWpK4fGgWxqagrPnj2DiOD7779XnzNOHIw7aZqmqW0HAAoLCyHyqqvOxMSEWk7T09PYuHGjxxXxvLw8WCwWAAh4mW3fvh1ms1kdcIxix2iDxRSX7leIU1JSYDab1bb822+/qZO5mpoaiIjHg1XOnz+vDnje+yx/87pUxaWmacjMzFTzcOPGDZw/fx5A4N1ijRNaY5vctm0bYmNj1X66rq4OIoLR0VF1su1+9+bMmTPzFnH+3u9vXYiPj/fYF46Pj8NsNquLbe4JZPutqKjA5s2b1c83jHWqvLwcTqcTIuLxHS6XC5qmqeIyLi7OY38+MzODlJQUtR36W4/8fd5X3JeZv329Mdz92GpcNGhpafE7fd7f52+/4++YZ1xACKRbq3dxGchxZ6H1xn1/OjMzg+joaNWDw9iPlZeXL+r8wz3u2/qOHTsQGxsLXdcBzF4UPnDggM+LvMY2MDk5qebRYrGofUpSUpI6Znm3o3eXQn/dYv0tJ6NnhxHjIoz79mnE3znWQvuohTLfcfHFkx7VpXCsst7ne5a6uAxkHfR33HI/D7JarR6/aXzx4gWSk5Nx6dKlgI/57seRQNbDhZaXr+LSeHjVy5cvISIeXYALCgrUubFRXLqfS9psNrVtua/DnZ2dHu81tjdf3YfnW4au8hrYVqxE299iMdHZx+LyDWVJisvHjx/Dbrcr/f39mJqagoh4dB0FZrsRiAhevHiBtLS0OcWne4wr6qmpqdi6davivqFNTk6qLjznzp3z+Lyu66isrERubi6Sk5MhIh7FpfvGYKzEnZ2d6jX3HbXFYplzZ6WiogIigufPn3scWFJTU2E2mz2mOTY2dtG/x/E+QFy7dg0igpcvX2Lnzp04fvw4oqOjcePGDVUcvXjxAidPnvT5HUYXV+94H2STkpIgMnuX4ciRIz4PoEaM9mhvb4eI4PLly+pkNCkpSXVVM4pL99/gBlJc+lsHiouL58yz+0m4rzx69Ahnz55V3VWMHaXD4VCFV2pqKk6fPj3v0xvDXVy6d20x1g9fMYrLrKwsFBYWorCwELm5uTCbzbBYLHC5XOoEwvsiz5dffomkpCQAsween376SQ07f/78nOLHu2Cpra3F999/r67CuheXgSyz7du3z/mtm8ViUdv7YopL9y4uW7ZsQWZmpvq/sQ46HA51Zdp9XTO2C7vd7nOftdC8LlVxmZ+fr75n3759uH37tjopeJ3fXO7evVtdCTebzWrf5nQ6kZeXp4YZ26F7jBOCurq6Od/j7/0LrQvGMcRqtXosD+8TYCOBbL8A0NfXh59++gnZ2dnqgl15eTkaGxshInO6nRnfb0xXSUmJx/ALFy6oeVloPTKONQt93lfcl5m/ff3x48fnrD9tbW1qu/C3nnt/n7/9jr9jnsirO1qLjXdxCSzuuONvvfEuyAoKCmCxWDAzM6OOp/8/e+/301bS5vvmD+jb92pu5qIv5mKkkXbpSKMtLW3tjJZGS9Gx5CN5H/RankEWw5vjF5QNG4ZwGHYIh5Bfm0SBkAQSEug0nECaJCBg8EtImqAcQrrpDgkkBBpC+G3z04BxjG2+58JTlbWWl9eywQaSro9kKWHZXrWqnnrq+VY9Vd7Y2Igp/pAj7+t05ZSmF7a0tLAAX83c3BwICa9StbS0wOFw4Ny5c7h48SK8Xi8I+Zx5oq7HeMWlUTvR1SWK3JdqoRdj6fkoPaKNizQdduzIUWwNvD8QcQnEHvsYjVs0DgqFQiCE4MGDB5r3i3fMl48j8dihXnupxya17yGEKFK76+vrI8Sluu1NJhOuXbsWYcNpaWnMhm7dugWr1apZ3mht6O0dDO95/Os/YtsdudcyWls/efIEnZ2d6OzshCiKuHHjBvv/4uJizPfn4jIB6O25pDOA8qAP+CzI1tfXkZWVpVgNUUNTDAoLC1FWVqZ40UDG6/XCZDKBkHD6LWV2dpbtGbhy5QpaW1sjVi61xKX8KHG1uFTPlnd3d4MQgtXVVcXAkpaWBpPJFFHmy5cvG9ap+r4AsLq6ygYYURTZnouysjJcv36dObDq6mrN/Swmkwnl5eURf1d36kAggCdPnqCkpIQFadFOM7t8+TIcDgfa29uRnp7O0t+mp6cVjrC+vp4F2pR4xKWRDRgF4WrKy8tZUFVXV8fEL213j8eDhw8fsiCCEIJXr15FfM9Bi0v5akws4lI9C0f//uTJE1bH6j0GpaWlzLGrBVxjY2NEu9J2297eZvtwzpw5g8bGRpSWlirEZTxtpnUwgp64nJ2djRCX8vrKzc1V+B25uKSZEGpbKysrw/z8fITPMnrWRIrL4uJiRR29evUK5eXlsFgsIISwz+5GXPb09DBhQSerTCYTfvzxR6SmprKAMy0tLaItaN/v7e2NuI/R+/VsgY4h6enpEW2hFdwDsfdf+rx2ux1VVVXMl7e3t7OVbPlEIxDe45+Xl8fKJQ+mgPAeThp06dnRx48fDT+vhbzNjHx9VVVVxHXatu/evTO0c/X9jPyO0ZhH6zYetMRlLOOOkd2oxz2atfPu3TuUlZWx8TSW+EOOuq9PTU2htraWbbmRJAmrq6uaz5qSkoI7d+7g9OnTuHXrFpxOJywWC/r7+yEIAltpUtdjvOLSqJ30JurUGMVYQHQfpUe0cdH15yv48Nd/xOyxfMz81+wDE5exxj5G4xaNg+RZE1rEO+arT3aNxw6jtZfR2KQuv5a4VGM2myNSuwGgra1NkeEhn+yQo9mGKx58/Lt/wez/XoAPf/XfsHSqNua2zs7OZlvrCAmnn9P/01Rmw/tzcZkYjA70kSQpQjxeuHCBDaBGp6LSTivfq7i1tYWqqirW0c6dO8f2nRBC2MEcdGZ2a2uLfVY+I7IbcamehaqoqGDPLx9YSktL2YoPhQZSsaBVL7TshBD4fD50dnYiJSUFNpuNdeqOjo6IZ6AdVz1LLr82NDSEsbEx1NTUsEHM7/fD4XBEzc+XD7x0k7okSSgpKWGzwIDSyVDiEZdGNhCPUKEz2vKZXxpIzs7O4tmzZ2hra2PXlpeXIQiCYgM/5UsXl7QuGhsb2cy5fHAIhUKwWCxswiYecUln/On+NeDz6gCQeHGpTpOks7W7EZd08mtjY4NdHx8fR1VVFUuLlfdNo2fdrbhsaWkBIUSRvmSz2ZCdnY3NzU1UV1crVuXorPPi4uKuxCVNry8uLmZ7ys6cOcN8Dv2tzpKSEsV2AuDzJJvWAQhG7zeyBZPJFJF10djYiL6+voh7xdN/MzMz4XA4mJ+SB3i0P8jrJxQKKcYASZIifHRxcTEb24zsyOjzWsjLZOTraUBHhSIAtifu3bt3huVT38/I7xiNeer6jAUtcRnruKNnN1qnU1qtVlRVVUGSJLaFJJb4Q468rzc2NirKTVdE5QeHyamursbx48dhMpnw008/MVFXUlKC06dPs/ep6zFecWnUTvGIS70Yy8hH6aE1Jm7++CvGjhzF+oNn8A1PYOzIUazVOQ9EXMZqg7GKSyA8hsn3IgeDQVitVnz//fd7Epex2qFReyVCXMpXXmnKeWNjY4QN09V6OvEf7UBKrfZbPteA8W+O4dPoNNa+c2LsyFH43ozH3dY8LTZ+9lVc3r17F4QQPHr0CG63mxkZ3dsVy09u0D2ab968wfT0NM6ePcs2AtOOQvcm0NSXpaUl5viGh4fhdrtZWbKysuD3+3clLmlncLlc7LCiK1euAFAOLHTvS01NDRYWFvDy5UtFWmFdXR0yMjKi/sZgXl4e0tPT2cELwOf0Ujow0NUZeeej++TsdjvGx8cxOTnJ9vFonXAn79S//fYbCAn/NMXq6ipmZmaQmpoaddN4IBBgKaV08KWBqNxJGolLWu8dHR3sAANBEHD58mWWlqZnA7sRl8XFxVhZWcHw8DA7rXFwcJAFX729vfB4PHjz5g0EQdD8qQOtGTPvi2Gs3/8xPPDd/nd4Xwxje2kNgfVN+Gfd8L4YxmJBDcaOHIX3xXDU1B69dkqUuATCAxrdKH/ixAmIooiXL1/C5XKxgyDowLQbcfngwQOsrq6ip6eHnUC3sbGRcHFpt9uRkpKC0dFRjIyMsFnX3YhL2odyc3MxNTWF9+/fw263s/tHE5fRnlXuF9xuNzIyMiJWrCjyAZz6tvr6eszPzzNfm52dzfZI5uXlYW5uDsvLy+xgju3tbc0+pUbdx+izERJ56IzFYmHvob7t/PnzWFhYwMDAACRJirq9wej9RrZA/TY9TIhOImrtwYmn/2ZkZCAlJQXz8/OYmppiB+rU1dUhFAqx9MGBgQHMzc2xA6+ouKTjS2trK1wuF5sMoOLQyI6MPm/UZka+fnNzE4IgID09HW/evEF3dzfz1+/evTMsn/p+Rn7HaMyTiyKjfkDREpexjjt6dqMlLuUHHskPr9Ebe9TI+zrdtzw6OgqPx8O2A0ULWKkPkos1GnM8efKEvc9IXKpjB7UvMGqn3YhLrRjL5/Pp+qi+vj5kZGTg7du3Ed+rHg+3lz34+Ld2zJkL2d8WT1aH99TNLbKA3vtiGOPfHIMrsxzeF8Nsv128Y29+fr7uoVOx2mA84vL69etM9E1NTbHfe11cXNyTuIzVDo3GlESIS6vVivfv32NqaopllqgP2KLQA9X0tjep2843FJ50WLl0P/w3zwam/v7PmD2Wvz/i0iAG/DQ6De+LYcxKJzH193+G98Uw+y3W3djhYSOh4pIezBCNQCCAq1evMqdJCMGlS5eYY45FXC4tLbETPam4evnyJbxeL0RRVBjf4uIi6KmkbrebBZmEhI96pwFCR0cHCgoK4haXWVlZLF2UEIJTp06x/HX1CgVd2qcBQ2lpKZu9p6eGaZ3ABnzujIQQtnGf5vdfu3aNvU+SpIhZyJGRESaYaGAY7feDlpaWFJ2aDg7yz2pt5KfQ56B1QMstn+k1Epf06G5CCEvdpSeP0pTMaDYAgJ2SKOfMmTPIycnRLLP6EKp79+5BEAQWMNBnoi+6UqRG7Qz8UwsYO3I04rX1agyB9U14mp5GXJv4gzkmpydvJ5rCFetAQ09D1HKUqampSElJARBe5aH7BanNyoO/eMRlMBhUpCVKksRsq6SkJO42U/dVIGz79LCBgYEB1tcIIayNR0ZGNOtLT1zSOqN78KgN0BUgtc8yela5X6B9WP4zQnLkA3goFFJ8b2pqKvs5DCAsPmnwSUj4lGs6G63Vp9So+xgAPHr0CIQQtio4MzOjWV75acGEhFOn9FYj9N5vZAvb29u4fPky+6zJZIp6KEg8/ZcG1fR9586dg8PhACHhQ26WlpaQkZHBrtMsESout7e32XhC+wv9mR6Knh3F8nk16jYz8vUjIyMsxUsURWaXdG+1XvnU94vF7+iNeXJRRPuB1jkAcqi4lGcFALGNO3p2ox73gM+rlKdOnVLcS2/sUSPv6/Pz8+zEbfq6du2a5k97AeH+LooiUlNT2d9ogC23X3k9aj2LOnbQ8gV67RRNXMp//odiFGPp+Sg6maJ1gn7EatTZeowdOYpPIx8/j7f/sf/SnX0NgfVNfPxbe8T4unq9ZVdjL5200SMWGzQat9RxEP0FAkKIIiMt3jFfPo7EY4d67SX/Ti2fTYixuKSHbtLvpnWl1R9pRpneT0mp225WOomPf/cvCKx4Pq94/8fPkaw39yRdXBrFgO4TVyOuzVvPRLVDURQN7fAwkVBxGSuhUAhLS0uaJ1TFis/ni/r7Unr3XV5eVmxgXlpaiurg9aBOIRQKYWFhIeqqo5rFxcWIjcybm5tRNyknis3NzZh+U0pNIBCAy+ViP8p8mNiNDUT7Hnm7bG1tKWzE5/NhYWEh6sZ3IHpKRCJeB4nf74+ahhIvHo9HYUdra2uKg50SSTAYhMvl2pOPUbOxsRF1AkhNrM96+/btqOmBZ86cidiTtLa2FrUfU/+m5WP2g5WVFXz69Clp75cTDAYN0+kosfRfIOzr3G43a6dgMIiVlRXFe7xer64vpN+hN6bo2VEsnzdCy9cvLy+jq6sLPp+PjVX0BFm1D43HzmPhoOxRi3jsRo/djj0ejwculyvmeGE/SUQ7GcVY0XzUzs4OHA6HZmZFMsfWWMbeV69eGS56JItAIJCU2CtWO0zGmCLfc7mxscF+RkoPp9MJQRB0x4uDjrO+1hhwtxyIuPwakM847ZWKigrNwy84Xw7csXDiZX5+HmlpaYp9bpTu7m5IkoSKiooDKBnna4P+vNCpU6cwODiI7u5u9uPlHM5B43Q6NfdCAwcvLtPS0hT7Azl7I9qBPlrQ7XPRDqGUc9BxFo8BlXBxuUsKCgrQ09OTkO86LLO6nN0T3PIlxakEtxK3gsA5XOitTl29ehWXL1/W/K1IDmc3DA4O4sSJE5AkCSkpKbh06dKuslk4nESjFwMla2yNdezl8Vli6e/vj3lSa2RkBCaTCXl5eYaZJ3uxk0TEWTwGVMLFJYeTAHaCoaQ4lp0gH9g4HA6H8/skWWMrH3u/LvZiJ4loax4DKuHiksNJEDvBUMJmr4Jbvi/WqXA4HA6HkygSObbysffrJV47SXRb8xjwM1xccjgcDofD4XA4HA5nz3BxyeFwOBwOh8PhcDicPcPFJYfD4XA4HA6Hw+Fw9gwXlxwOh8PhcDgcDofD2TNcXHI4HA6Hw+FwOBwOZ89wccnhcDgcDofD4XA4nD3DxSWHw4nKfh4B/3s+tjtRHPaj0OMp32E+Jp7bHIfD4XA42nBxyeFwNDmoH6/ey+v3HOwf9h9x3m35DvMPXP/ebY7D4XA4HDVcXHI4HE2+hBVL9Su45TvoajswktVeiarT3ZYvEfdPpi3/nm2Ow+FwOBw1CROXa2trmJqaivpaWVnB0tISlpeXE3XLfWV+fh7r6+sHXQxOnASDQUxNTSEQCOzrfefm5rC5ubmv90w0By0Ud/tKFNvb25iamkIwGNS8Ho9txev7dmM/h71OD/L+X4rNcTgcDofzpZMwcXnt2jUQQqK+Ll68iPz8fBQWFibqlvuKJElobGxM2ve7XC6Ul5cfiIBtbW1Fd3f3vt93P3C73SCEYGhoaF/vazabcffuXQDAwMAAamtrFdcrKysxMjKyr2WKF3UAvdn1Mzb/8pPib1uvxuBpegr/xBw8TU/xaWL283XPBtbv/4itn0ew+fQXbHb9rPisf34p/NnJeXwanYan6anitdH6nL13o70v4rrv3WRSA/3x8XEQQvDx40fN6/HYVry+T24/saKuB//kvH6b6LRnYG0jqeLSP+MOt/3HecXfvb2DEXaSLHHpfTEcYVPe528O1OY4HA6Hw/nSSZi43NjYgMvlgsvlwvPnz0EIgdPpZH/b3Nzk4lKHt2/fghCChYWFpN0jGllZWSgtLd33++4Hnz59gtPpxNra2r7et7e3FxMTEwCA+vp6mEwmxXXaPw4z6gB67c6/Y+zIUWy9fIfA+ia2lz2Y/NaGeeuZ8L//5p8x/38Wf37/7f94/88jWPy3Gox/cwwBz2fR4ml4jLEjR/FpdBobrc8x+a0NE38wY+zIUUx+a8P0f85k7509lo/Jb20YO3IU498cw+S3Nni+7zpQcRmPbcXr++T2EyvqejBqE732TPbK5bZrGWNHjmKlvFnx98m/+We4/nRpX8TlUlEtJr+1YfybY8zm3FmVB2pzHA6Hw+F86SRlz+W7d+9ACMHAwIDi7/n5+cjOzkZRUREEQYAoiqiurmbXg8EgampqYDabIYoiioqK4PF4NO/x+PFj5OXlobW1FSkpKRAEAfn5+SyVrKKiAteuXVN8Jjs7Gx0dHQCA9PR0tLe3IycnB4IgIDU1FdPT06ioqIAkSRBFEZWVleyzkiShrKwMmZmZEAQBKSkpuH//vuL7nzx5ApvNBkEQkJWVxVamJiYmYLVaMTExgezsbOTl5UU8i9lsBiEEFosF9+7dw7lz53D+/Hn2ntbWVlitViY+fT4frFYrnj9/DiAcCGdkZEAQBNjtdnR1dbHPpqenw+l0Ijc3F4IgwGQyoaenBwBgt9shCAIEQYDVasXNmzfhcDiws7PDPv/zzz/DarVqpvX19vYiJSUFhBCIooiqqir22Wjt6ff7YbPZ0NbWpviuzMxMNDU17el51KysrMBqtWJ8fBwAUFdXB0mSWF1HW7GNp/7LysrQ1NSEhoYGmM1mDA0NIScnB+3t7SgvL4coiiCEwGq14i9/+QusVisIIZAkiQkOPds3snU1brcbeXl5EAQBhBCkpqZidHQUAOD1enH69GnW5mlpaeyaGq0geuYfcjDzDzkIrG9i+VwDxr85hk8f5sIrm3/5CWNHjmKz62f45xYx8QczFv+tJnyt5xXGjhyF98Uw+y7Xn8ow9Z/+pPj+1estGDtyNGr64cQfzFg+833U60aB/ujoKKxWK3vmYDAIm82GGzdusPc0NTUhKyuLicvvv/+e9U+73Y4PHz5o2tby8jIKCgogiiJEUURhYSFWVlYAGPs+NdR+AP0+ZtReem1i1J6x1un6+jpOnTqlWSa98s1KJzH3f/xP9v9Po9MYO3IU6809cd1/aGgoIjMglrqhr/k/lmDmH/81aTbH4XA4HM7viX0Xl4QQZGZmwul0orCwEIQQvH79GgBQXl4OQRDQ2NiItrY2SJKEtLQ0zXs0NzeDEAKTyYS2tjbcvHkThBDU1dWxe6lXCiRJQkNDAwCwwLu8vBxOp1MhAB49eoSzZ8+CEII3b96wzxJCcPLkSTidTpw5cwaEELS0tAAAW60tLy9HV1cXHA4HBEHA0tIShoeHQQiB2WxGamoqHjx4oCjXyMgILl26BEIIrl27hl9++QV1dXUghLD9Xjk5OYrVrp9//hmEECwuLmJxcRGEEOTk5ODx48c4f/48CCHo7+9XPGtZWRk6OjqQmpoKQRDg8/lw//59mM1mWK1W3Lt3Dy9evAAhBMPDw6x8paWlSE1NjWgDj8cDQgjy8/PR29uLGzdugBDCBJtee2ZlZSE9PZ1918TEBEsx3MvzqJGnLtI2unnzJp49e4a8vDwQQuB2uyM+F0/9Z2VlMfFRXFyMhYUFltb47NkzZGdnQxAENDQ0YHh4GA0NDazeOjs7DevKyNbVOBwOiKKI5uZmdHV1wWQy4fjx4wCAq1evQhAEtLa2oqurCykpKTCbzZrfoxVEb/06Gl5xunQfY0eOYu12hzJQ/6ez+Ph3/wL3iauY/NaG7cXV8LXVdYx/cwwr/6uRvffDX/9RIXT2Q1z6/X4QQlBfXw8AeP/+PatbSlpaGi5cuMDEJRWYzc3NEEURGRkZEbYVCoVgsVggiiIePHiA+vp6CIKAEydOADD2fWqo/Rj1MaP20m2TGNozljpdWloCISRucblypTm8mr3iQWD986rqtms5rvt3d3fD4XDEdW8uLjkcDofDSQ77Li5FUYTf7wcQXv0hhKC5uZkFUfJUwdHR0QihQ6EBN101AMJBdX5+PruXkbgsLi5m12pqahQpcDQIpeWRJAk2mw2h0Odj5/Py8lhQarPZFKmlPp8Poiiivr6eicuCggLF5+Wo02JpYDs0NISdnR0IggCz2cxW06qqqmCz2QCE9++ZzWbFwSO5ubnIyspiz3ry5El2bXBwUFF38rTYUCgESZJQUVEBILyyIwhChCAGgA8fPigENgDU1tbi+fPnhu3pdDpBCGErO3fv3oUkSdjZ2dnz88iRC4CHDx+CEILJyUkA4VW8srIyzbTHeOo/KysLhBCMjY2xz8v3zBmlxRrVlZGtywmFQsjMzFSs9N64cQOSJAEACgoKYDab4fV6AYTF1aVLlzQPrYkWSC8W1GDsyFHMiLkR1z59mGNphuq9c/P/dBaz0kkE1jfhG5oIv6fn1b6KSwA4efIkE33Nzc1sYsDtdmNrawuEEPT19TEbaG5uZp+9c+cOBEEAoD1xId9/2dbWBqvVCr/fr+v7tKD2o9fHYm0vvTYxas9kikvfm/HwavazVxH2wcUlh8PhcDhfJvsuLtUpoVTwvX79GoQQZGRkIC8vj72iBWDNzc0syKOcOXMG2dnZ7F5G4vLRo0fsWmNjI0RRVLxfLS7VK0VUIG1sbLBVT3nZqQii4vLXX3+NWmdaey7pPScnJ0EIQVtbG1tlstvtLBUsIyMDoigq7m02m1n9CILA0k2B8Mm3hBC8e/cOQOSey+rqaib0BgYGQAjRTE/e2dmB3W5nz15ZWckmAoza0+v1smeiz0NTE/f6PHLkAsDlcrEV6oyMDNy9exdzc3NR2yTW+s/KymIrg5R4xKVRXRnZuppQKIT+/n7cunWLrbhScUlFkCAIKCgoQEtLCxOaaqIF0ssX72HsyFHM/7Ek4hpNvRw7chRDP/8YAAAgAElEQVRbA+8V1zz1XeGVqWUPVqtaw6tWq+v7Li47OztBCMH29jYKCwtx+/ZtmEwmdHd3o7+/H4QQfPr0iYlLedow/SygtK26urqINpKj5/u0oPaj18dibS+9NjFqz2h16vV60dnZic7OTjQ1NYEQgo6ODva3WCcrJv/mn1l7TvzBjJUrzTHdf2pqit3r4sWLsFgs7P/xCG8uLjkcDofDSSz7Li6jCT6aZlhYWIiysjLF6+XLlxH3oClqcuIVl/LVgMbGRhaAU9TikqbSUbq7u9mKByEE6enpEWVvbm5m4nJ2djZqnWmJy8uXL8PhcKC9vR3p6elwuVwghGB6eloR9KalpcFkMkXc+/Lly5rPaiQu6fcPDw+jrKwsIiiWEwgE8OTJE5SUlDDhdvfu3Zjas6CgANnZ2VheXk7o88hRn+jp8Xjw8OFDJt4IIXj16pXms8Va/1lZWYpVcCA+cWlUV0a2Lmd7e5vtoz1z5gwaGxtRWlqqsO2pqSnU1tbi+PHjTHiurq5GfJdWEO17O4mxI0fh+tMljB05ig3nS8V115+v4MNf/xGzx/Ix81+zlSJn2sVWz+ZT/h/M/9PZiO/fD3G5uroKQggGBwchiiIGBgZQWlqKsrIyXL9+ndm71oE+0cSlfHVYCyN/pEZuP9H6WCztZdQmRu0ZrU5dLhdsNhtsNhvbQ0z/b7PZNFPUtb7X/T+uYeYfcrA18B5jR47CNzQR0/2fPXvG7mUymSAIAvv/6dOnY64bLi45HA6Hw0ksh0Zc0sCd7qsDgK2tLVRVVWmmLRoF3IWFhSyNEggfOkEI2ZO4VIusiooKFmiaTCZUVVUprjc2NqKvr4+JS5fLFfEcFC1xKRcd9PAPSZJQUlLCVhaB8J5Iu92u+L7e3l624huvuATCh+ZcuXIFoihGPSxnbGwMNTU1bJXC7/fD4XDAbDbH1J69vb0ghKCxsVGx72+vzyNHLgCePXumOERoeXkZgiAoDu6RE2v9a9VfPOLSqK7iEZd0FVS+Sk5XooGwTcr7JV2pe/z4ccR3aQXRs9JJTP1v/xcCaxtw/akMk3/zz9heDu+Z2/zx1/CBLA+ewTccTntdq3MqPj/9X/47FgvCJ8dqnby5H+ISCE9gFBcXgxACn8+Hzs5OpKSkwGazsYN04hGXra2tIIRgaWmJvdfpdEKSJHi93l2LS70+Fkt7GbWJXnvGWqe7TYsNrG9io7MfY0eOYvlsPSa/te2qTXlaLIfD4XA4h4dDIy4B4MSJEzCbzXjz5g2mp6dx9uxZSJLE9inJMQq4q6qqWMA+MzPDDtTYi7ikQsjlcuHp06cghODKlSsAwnsG6UEbLpeL7ZObmJiISVzSPXYdHR3sfYFAgB1eQ4UHDYjLysrYZ4eGhkAIQU1NDRYWFvDy5UtF2q+RGMvLy0N6ejrevXvH9oS2t7ez9Emt+geA3377DYQQ3LlzB6urq5iZmUFqaio78MSoPf1+P3u+27dvJ+x55MgFwA8//ABCCHp7e+HxePDmzRsIghD1pMlY699IXDY1NUEQBLx+/RobGxvsGS5fvsxOHtWrq92IywcPHmB1dRU9PT3sZNiNjQ2cPHkSZrMZo6Oj8Hg8TBQNDg5GPr8qgPbc/Ut4j9z/N4TA+iY+Tcxi/JtjWD7//2J72YOPf2vHnLmQvX/xZDUm/mCGf26R/Y2eSDp25Cj80y72d/+sG94Xw2z/n/fFsCKFc+vVGLwvhjH+zTG4MsvhfTEM/9SC9mqY242MjAy0trZqtisQFvyEEDaJMTs7y1ay6anI8YhLuhqalZWFqakp9Pf3w2w2MzvZrbg06mN67WXUJnrtuV/icnvZg/FvjmH8m2Nw/49r+youP41Ow/tiOCyw//7P8L4YVvyOZTw219fXh4yMDLx9+1a3HBwOh8PhfO0kVVyq9xgWFBRoBlj09yOXlpZw4sQJFuTZ7XbNlFgAePjwoWbAnZOTAyAc+FksFvZdxcXFsFqt7F67EZfZ2dksLY0QglOnTrH9atvb27h8+TK7ZjKZ2L1iEZf0py0ICZ84S6GnStL7UNEnX+UCwoeHUCEkCAJKS0vZakc0MUZ/KoV+JyGE/bwF3RN58eLFqGUGPotq+rJYLOzgmVjak57KOzU1lbDnkUMD36GhIfj9flaf9JWdnR31Jz2A2OrfSFyOjY0xu+nt7VU8t9VqNawrI1uXEwwGFSm/kiSxNiopKcH8/DxSU1MVdXDt2jXDn7ag+/ZcmeWKvy+fa8DYkaNY/L9vhX+zcuRjxGfc2Z9Fw9ZP7zB25Cim/8t/VwrXpqcYO3JU8Zr4g5ld//i39ojrq9dbNAN9ukdW/vMiauh75D9XJEmSYsWcHqYTTVzKbQsAfvrpJzYJRQ8MoycRG/k+NXL70etj0dorsL6J5bP1UdvElVGu256fxqb3RVwG1jcxZzkdTsnt7N+1uNQS20b3dp+4GmFT8t/4jMfmWlpaNP0yh8PhcDi/N5IiLveKz+eL+vuW8bCzs4OlpSXN/T+7JRQKYWFhIepqXjAYxOLiYsLuFy+Li4tRT6SNh7m5ORDy+adY9AgEAnC5XFF/TH4v7Zmo51GXZ2FhIepBNgdJomzf4/Eo2mNtbQ3b29uK6y6XK6odA/qphIf5BQC3b99WnL67n6ysrOjW624w6mNActsrIc9wgPffD5vjcDgcDodzSMUl5+AIhUJob29HZmYmW1Xj/D45aJG429f8/DzS0tJYCvLvhcMunri45HA4HA7n64eLS46CUCgEs9kMu92umXrH+f0Q3PIduFCM9xXc8hmmZ36tJKu9gluJyfzYbfkScf9k2nKi6ofD4XA4nK8BLi45HI4mO8HQgYvFeF87wcSmUH9JJKu9ElWnuy1fIu6fTFv+Pdsch8PhcDhquLjkcDhR2QmGvogVzOCWjwf5SGx7JaNO4ylfou+faFvmNsfhcDgcTiRcXHI4HA6Hw+FwOBwOZ89wccnhcDgcDofD4XA4nD3DxSWHw+FwOBwOh8PhcPYMF5ccDofD4XA4HA6Hw9kzXFxyOBwOh8PhcDgcDmfPcHHJ4XA4HA6Hw+FwOJw9w8Ulh8PhcDgcDofD4XD2DBeXHA6Hw+FwOBwOh8PZM1xccjgcDofD4XA4HA5nz3BxyeFwOBwOh8PhcDicPcPFJYfD4XA4HA6Hw+Fw9gwXlxwOh8PhcDgcDofD2TNcXHI4HA6Hw+FwOBwOZ89wccnhcDgcDofD4XA4nD3DxSWHw+FwOBwOh8PhcPYMF5ccDofD4XA4HA6Hw9kzXFxyOBwOh8PhcL5adoIhBLd8CKxvHugruOXDTjB00NXB4SQVLi45HA6Hw+FwOF8lO8HQgYtK9YsLTM7XDBeXHA6Hw+FwOJyvksOwYqm1gsnhfK0kVFx6PB5MTU0pXsvLy4m8BUeH1dVVLC4uHnQxDgXBYBBTU1PY3t5W/Hs/mZubw+bm5r7ek8JtIbkcpH1tbW3h9evX8Pn2PziJ164OsqwAsLy8HPMYtLS0lNDxyuPxYHp6WvPa7OwsPB5Pwu51mNne3sbU1BSCweBBF+XAWVhYwPr6etTrwWAQ7969S6gd7mcfjKe/7ScHLSSjvWLhS/EVgUBgT+PgzMwMvF5vgkuVfOj47/f7k36fRPuGZJJQcfndd9+BEBLxstlsePjwYSJvxdHg/PnzOHHixEEX41DgdrtBCMHQ0JDi3/uJ2WzG3bt3AQAulwvl5eWKwKKyshIjIyNJufdhtQWjZx4YGEBtbe0+lmh3JMu+jOqnr6+P+dU3b97s+X7xEo9dqctq1LZafWSvxFPe/Px8FBYWRr0eb/noeKiFJEkoKyuL6Xu+NNT1ND4+DkIIPn78eMAlO3jkY4Ka5eVlCIIAQkjU98TLfvuLgxp3jPqmWtRtL63B0/Q04rXtWkFgfRPeF8MR17zP37DPb7T3RVz3vZtEYH0Tn0anI65ttD7ftbgUBAFXr17dcx0le2ydmpoCIQRjY2MxvV891gmCgJaWlmQVL2nMzs6CEIL3798n7R7J8A3JJini0uVysdfIyAhKSkpACMHg4GAib8dRcVgFxUFwGMRlb28vJiYmAABv374FIQQLCwvsOiEETqczKfc+rLZg9Mz19fUwmUz7WKLdkSz7MqqfwsJCZGRkIBQKIRTa/z078diVuqxGbavVR/bK8PAwBgYGYnqvkbiMt3y/V3GpricuLj+jJy4fPXoEQRDg9XoT1rf321/E098SiVHfVIs6/9QCJr+14cNf/TeMHTmKD3/13zD5rQ2+4QkE1jexVFSLyW9tGP/mGMaOHMXktza4syrZ52eP5WPyWxvGjhzF+DfHMPmtDZ7vu8LCs/U5Jr+1YeIPZvbZ6f+ceeDiMtlja7ziUj3WcXEZnWT4hmSTFHGpZnJyEoQQ9PT0AAinC50+fRqSJEGSJBQWFiqWetPT09He3o6cnBwIgoDU1FRMT0+joqICkiRBFEVUVlay9w8ODsJut0MQBAiCgNzcXJZGUFFRgdu3b+PKlSvss9XV1VGfIT09HU6nE7m5uRAEASaTiZV7enoaVqsVc3Nz7P19fX1ITU0FADx+/Bh5eXl4+PAhLBYLRFFETU0NRkZGkJaWBkEQYLPZFJ1vfHwcGRkZEAQBdrsdXV1d7FpqaioGBgZQWloKURQNn1Ue+E1OTsLhcLD3FRQURJ/VCwRw5coViKIIQghMJhPr9BMTE7BarZiYmEB2djby8vIAAE+ePIHNZoMgCMjKyoq62vL48WM4HA7F327fvs0CK71yVlRU4Nq1a4rPZmdno6Ojw7Dc0YL/3Nxche0AwN27d5GVlRVR9nPnzuH8+fPs/62trbBarWwA8/l8sFqteP78OcrKytDU1ISGhgaYzWYMDQ0hJycH7e3tePz4McxmMwghsFgsuHHjBqxWKwghzP6BcNpDTU0NzGYzRFFEUVERa1tqW62trUhJSYEgCMjPz4+adiu3hXjbNxAIoLy8HGazGZIkoaqqCkVFRaze9crp9Xpx+vRp1p5paWkYHR1lfUf9zHLKy8tZGa1WK169esWePTU1lfUfWg4tjOyppqYGZWVlEEURZrMZvb296OjogMVigSAIyMnJYXW6G/tKZv1kZmayz1mtVvh8Pk0foVdf8daBnl0B0f2AuqyXLl3SbFuKuo/cu3cPgPFYIaejowNFRUXo7++H3W5HfX09amtrcfHiRfaelpYWVjf5+fm4c+cO80X5+fnIzs5GUVERBEFQjBXRyqdHPOJybGyM1ZnZbMb169cRCAQQDAZhs9nQ2trK3nvu3DlkZGSw/79+/RpWqxXLy8u6tldcXIwLFy4oykH7Nq3roqIiiKIIi8WC6upqFsho+TcttOqJisvvv/+eXbPb7fjw4QP7nN44qOawj9EtLS3sOWmsQusxmri8fv26on/QiXi9vmzUJlr+IhgM4ubNm6yvOxwOvHv3TlG3T58+Zf9fWVlh40O0WECOvL9F83VaxBKnRauLWPpmtLTUrVdjGDtyFJtPf9G8Pv/HEsz8479G/fzEH8xYPvO95rXV6y0YO3J0z2mxcnFpVE+9vb1ISUlhtldVVYWdnZ2oY6uebbvdbuTl5bEVs9TUVEX7vXr1ivUZi8WChoaGmMRltLFOEARcuXIF6enpbLyl/RrQ909qjOpJz85p+Xp6elisffLkSUV9mEwmPH78GMBncVlXV8fGwrS0NMUki55f1hq35OzGNxjFzlp+K9EkXVwGg0FcvXoVhBAsLy8jFAqx4Li5uRkPHz5kQQ7dk0GNuby8HE6nU1Gxjx49wtmzZ1mah9frZY3Z2dmJH374AYQQ1NTUAAgHDIQQZGZmwul0orCwEIQQvH79WvMZ6L3LysrQ0dHBGs/n82nOwHZ2drJnbm5uZg6uo6MDFy5cACEEgiCw7xNFEZmZmQCAxcVFEEKQk5ODx48f4/z58yCEoL+/H0B4ZocG+GVlZYbPKg/8bDYbUlJS0N3djYcPH0IQBEWQJefOnTsghOD27dvo6enBiRMnQAiB3+/H8PAwK0dqaioePHiA58+fs/bp6upiwfzS0lLEdzc3N0cY75kzZ5CdnW1YTq2VBEmS0NDQYFjuaMF/dXU1BEFQ5MebTCZcv349oux1dXUghDC7zMnJUcy2/fzzzyCEYHFxEVlZWWyAKy4uxsLCAgskRkZGcOnSJRBCcO3aNfT09DBHnJ+fj87OTgBhcSUIAhobG9HW1gZJkpCWlqawLZPJhLa2Nty8eZM5NC3kthBv+5aWlrL0i7a2NphMJhBCWL3rlfPq1asQBAGtra3o6upCSkoKzGYzVlZWNJ9ZzrNnz5CdnQ1BENDQ0ICZmRk8ffoUhBAUFBSgq6sLp06d0l3dM7InQgiys7PR1dWF48ePs0G4trYW9+7dAyEE33333a7tK5n1QwNiq9WKxsZGBIPBCB9hVF/x1oGeXen5AXVZf/zxx4i2laPuI7/88ktMY4Wc+vp6iKLIBPLAwICivE6nE4QQnD9/Hk6nExkZGawu5HWjNVZolc8IOh7SwFz+omMCEE7po+Ob0+lkfbu0tBRAWCTQya9QKMTGKJfLBQCorq6G2Ww2tL36+noQQrC1tcW+SxRF3L17F6FQCDabDRaLBZ2dncz3VVVVAYCmf9NCq57ouEkFJh0TqEA2GgfVHOYxenBwEIQQnD59Gk+ePMGVK1dACMGvv/4KILq47OvrY5PpDQ0NmJ2dNezLRm2i5S/KyspYuzqdTqSmpoIQwvYGq1eP5ufnQQjBu3fvNMcKNfL+Fs3XaWEUp+nVRSx982sRl3r15PF42PjR29uLGzdugBCC7u5uzbHVyLYdDgdEUURzczO6urpgMplw/PhxAMDHjx9BCGETPVVVVayPG4nLaGOdXr828k/x2pOenVMfQv1oU1MTe7acnBx0dnYyARwMBpm4JISgsrISTqeTXR8fHwdg7JfV45ac3fgGo9hZ7beSQVLEpdlshsVigdlsZgbz6NEjAOGZFUKIogKHhoZYJwDCDV9cXMyu19TUKAYMv9/PKnJ8fBwOh0MxC2q329nn8/PzIYoiExM+nw+EEDQ3N2s+A52loNDBYnx8POaBa3Z2FkD4IANCiKKRq6urWWpCZWVlRKCUm5vLAgkqJugqgtGzyh27IAgoKipiMzvd3d1obGzUfOaKigrFal5/fz97DjqgFBQUsO+y2Wws8KF1KopixIwLrRM9calXTqMOolfuaME/Td14/vw5AGB0dJQFgGpoew8NDWFnZ4etKtDVzKqqKthsNgDhgV7tWOWBhFFaLB0Y5KKJlm14eJjZFnVWQNj55+fnR5QbUNpCPO27uroKQgju37/P3v/+/XsmLo3KWVBQALPZzDbmv3//HpcuXWI2ricMgcjUHavVygY0yokTJ6IGKUb2ZDKZWFl++eUXEEIUg0xaWhrOnj1rWG/R7CvZ9ZOXl8dWmuj75T7CqL7irQM16gksPT+gLmu8abGxjBVyqHiS+3Z5ea1Wq2K1xe/3QxAEhbjUGyt2mxYb7UUHdRp4yA/t+P7770EIgdvtZn0/EAgwnyRJEltlsNvtqKysNLQ9GkDR1QBal7Ozs2xvnnzFr7GxkU3Eafm3aERLi5W3y507dyAIAgDjcVDNYR6jnU4nsrOz2aEm1Iba29sB6KfF3r9/XzFWGvXlWNpE3gfX1tZACMGtW7fYdTphTVe0YxGX8lhAjby/Gfk6OUZ9z6gu4k2L/ZLFZbR6+vDhQ4Qvr62tZbGO2v/q2XYoFEJmZqZiJfPGjRuQJAlAeNWcCj8KjdP3khYbrV8b+Sc1RvYUi7ikfRYAjh8/DlEUmd3/9NNPICQ8wUfFZUVFBXu/3++HKIo4e/asoV/WGrfUxOsbYhGXcr+VDJIiLm/duoWamhrU1NSwmUE6gNfW1rJBRQ5dwgfCDU/FKBA2IrVAkTeW1+tFV1cXKioqkJaWBkKIQlyq0zfklaxGEAQ0NTWx/2sZnd7ApX42QogipUnewTMyMiCKIvLy8tiLCnL6WboqSdF7VrljpzNJkiTh3Llz6Onp0c3VHhkZQX19PUsJU4sPOvNKV0tooEZfasdAMRKXeuU06iB65dZbWUpLS2N1duvWLVit1qj1IkkS6urqWGp3W1sb68B2u51tkM/Kyoro7PGIy9evX4MQgoyMDEW9UqejZVvyelSjTl+MtX1fvXoFQgimpqYU30dnzYzKSVezaEpqS0uL4gS4eMQltTW50AXC6cmEEHz69Cni8/HYE3Xw8mfNyspSCKZ47SvZ9aMlLqmPiKW+dlMHcqhdxeIH9iouYxkr5NBBWn5aobq8cl8MhANgubjUGyt2Ky5/++03JnzoSxRFJi6prcihk2AvX77E3NwcCAnPure0tMDhcODcuXO4ePEivF4vCAmfZ2Bke0DY99E2qaqqgt1uB/A5S0P+ObvdzoI7Lf8WjWjiUp5SJx83jcZBNYd9jF5YWMCjR49w/vx5trIYr7iMpS/H0ibyPkiDdXXwf+rUKWYHsYhLOlZooZXZEM3XydHre7HUxe9JXEarp52dHdZnrVYrKisrMTw8zN6n9r9Gth0KhdDf349bt26xrC0qLh0OBwoKChTloGPJXsRltH5t5J/UGPnyWMTl5OQku56bm6sYy6i9ycWlOhuytLQUqamphn5Za9xSE69viEVcqv1WotmXPZf078vLy6iurtbM8TWZTCgvLwcQ2fCNjY3MqCnUMGdnZ1kO9JUrV9Da2hqxcmkkUOTEYnTygau9vV0xcGmJYPkMiLyDp6WlwWQyoaysTPG6fPmy5meNnlUtKF69eoXy8nJYLBYQQqIexFFeXs46bl1dHTN2ufigM7101Tg9PT2i3FozL1p1UlxcrBBF0cpp1HZ65dYTl21tbWzGy2KxKByamsuXL8PhcKC9vR3p6ekshW16eloRMGVlZSlW24H4xCVNsS0sLIyo15cvXxqKdDVyW4infenqnDptkYpLo3IC4cC4traWpVxKkoTV1dWIZ9ZC3j+orak3+dP0xmh7iGO1JzoY0mcHlMJqN/aV7PrREpfUR8RSX/HWgRpqV7H4gb2Ky1jGCjn19fUR4wQt76dPnyL8KfB5nyX9t56/SdaBPmlpaRH3pX6mt7cXAJCSkoI7d+7g9OnTuHXrFpxOJywWC/r7+yEIAoLBYEy2R1PFA4GAwvdVV1eDEBLxubKyMszPz2v6t2jEcqCPXPAZjYNqDvMY3dPTA0LCe0qrqqrQ3d29K3EZS1+OpU3kfZDahzxoBsJBMJ1gVdctDZzl4lLuK9SoYxA9XydHr+/FUhe/J3Gp56MCgQCePHmCkpIStp2M2pva/+rZ9vb2NttveObMGTQ2NqK0tJT5V/kkFYVOwCfqQB95vzbyT2qM6knPzrV8SG5urqKvaYnLt2/fKu538eJFWCwWQ7+sNW6pidc3xCIu1WNhotkXcUmV+/v379HR0RHhoGhwRn+uJB5xSWc06D4SQLkylUhxSTuPfDaI7icF4h+4SktL2Ywhpbe3lwVn6s5n9KzUsW9ubqK6ulqRQkBXdNS/UUdnQeSzGHTJXy4+6P4eIBzcqVcOGhsb0dfXF1GfLS0tIIQoUi9sNhuys7MNy1lYWKhIjVpfXwchRDGbGa3ceuKSzvZTsaD3u0Fyx0A3hEuShJKSEkiShJ2dHQDaAXk84pIGk/J9RltbW6iqqsLHjx93LS7jbd+ZmZkIu/vtt99YvRuVs7GxUZHGSMUq3fwej7ikda0OoC5cuKC5qmFkT/EIq93aV7LrR0tcyt9vVF+JEpeAsR/Yq7iMZayQo/X98vKKoqh4rkAgAFEUD1xclpSUKFKVATBRQoVAdXU1jh8/DpPJhJ9++omNSyUlJTh9+jQAYx8CgKW90/RQOh7QwGRjY4N9dnx8HFVVVSwtNppNqIlXXBqNg2oO8xidmZkJh8PBxoW9pMUa9eVY2kTeB+kKuPxZQ6EQLBYLW4VSb2+hq49ycSmPBdTI+5uRr5Nj1PeM6oKLywaMjY2hpqaG+RG/3w+Hw8EyrdT+Uc+2acwuX6Wurq5mcTj1WfJsODqJkwxxaeSf1BjZk56d71ZcqhcpbDYbcnNzDf1yLKf4xusb9GJnILm/VEDZF3FJV3n6+/tZjr/dbsf4+DgmJydx/PhxxZ6T3YjL4eFhuN1u3L17F4QQZGVlwe/3J1RcUlFSWFiI2dlZtidotwMX3fNSU1ODhYUFvHz5UpESHE1cRntW6tjpoQ95eXmYm5vD8vIy26ytXnqnQXRxcTFWVlYwPDzMThsbHBzUHFDofbu7u+FyuVigorVvkQ4o9fX1mJ+fZzaSnZ1tWE4qDPr7+zEzM8M2acvFZbRyG/1UxOnTp1k59AgEAiwdkjqH4uJiNotGMRKXNIjv6OhgdSkIAi5fvsz20NKc+Tdv3mB6ehpnz56FJEnw+/17FpfxtC/dyN/X14dff/2VvZ/2Gb1ynjx5EmazGaOjo/B4PCxVg55wpn5mNU1NTRAEAa9fv8bGxgaztUePHsHtdrMBTL5viGJkT7sRl7uxr2TWj5G4NKqvRIpLIz+gLqu6bdWo+0gsY4UcI3FJD2h68OAB3r59yw55iFVcqsvndruRkZERkWpLiVVc0nHg/PnzWFhYwMDAACRJUqQ80mCGkM+Ti5IkgRCCJ0+esPfp2R6F7tWTn+JN6zo3NxdTU1N4//497HY7qw+5TRg9t7qejMSl0Tio5jCP0RkZGUhJScH8/DympqZQUFAAQsIHr4VCobjEpVFfjldcAmH7EEURL1++hMvlYgfhUBFot9uRkpKC0dFRjIyMsOyP3YhLI18nx6jvGdWF1vgqJ0LYrXjgfTGM9fs/YuzIUazd/nd4Xwxje2kNgfXwb1V6XwxjVjqJqb//M7wvhtnvWFJR6n0xjPFvjsGVWQ7vi2H4pxYQWN+Ef9YN74thLBbUYOzIUXhfDGNr4H1UcZmfn7wx81EAACAASURBVK97qEqs4pJOAt+5cwerq6uYmZlBamoqOzhL7X/1bJuKywcPHmB1dRU9PT0QhPCpvxsbG+x6WVkZ5ubmMDAwwFZKqbiM5bnkY51Rv9bzT2qM7EnPzncrLgVBwPPnz+Fyudj+02fPngHQ98u7EZdG/UEvdga+QHFJDyFQs7m5CUIIrly5AiC8j4kGaoSET26TB/7xiEu3280MgxCC48ePsxPROjo6UFBQoGlk0Q63iWbg9Ih9esoVIZ+PeqbPTE8zVJcz2sAFfE7RpMZJA1v5M1KMnlXu2Pv7+1nwQcuqNWMIRB48ce/ePQiCAEmSNAeU7e1tXL58mb3fZDJFrc9QKMTyywkJH2d9+vRp5OTkGJZT/bzFxcXs5Dujci8tLbGAX/5vCl2F0joYRA0NQul+EdqR5TNRRuKS/mwJIYSl9NFTj2lK0tLSEjuRlJBwapU8nU1LXNJ6VCO3hXjbd2Vlhe2xEITw8eBms5nl+OuVc35+np1ASF/Xrl1jM/nqZ1YzNjbGBqne3l4EAgG28kBfly5d0pytBPTtSe0LjITVbu0rmfVz8uRJXXFpVF/x1oEauV0Z+QF1WdVtq0arjxiNFXKMxCX9iR3qb0+cOIHCwkK2N8dorFCXj66SRTuxMNp4SL9XHnjJT0WnZZNnmdCTXelPagCfJ8jkhzLo2Z78XoRE7j8dHh5mewQJCYtumnImtwn63Ddu3NB8NnU90YNGoolLQH8cVHOYx2gaoNP7nzt3Dg6HA4SEDyPRE5dq4WvUl2MRl+o+uLy8zHw7fR65HQwMDCjKT33gyMhI3OLSyNfJMep7RnWh5TvkqEWdf2oBY0eORry2Xo0hsL4J94mrEdfmrWfY5z/+rT3i+ur1FgTWN+FpehpxbeIP5qjiUhTFiBVEOXJxaVRPVHTI/SXdk6jlf6PZdjAYVMRtkiSx7y4pKQEQ3uMntxUaJ9H70YnBaKjHOqN+reef1BjVk56da/krPXFJMwKKiooUdf/dd98xW9fzy7GIy3h9g1HsrPZbySCh4jJeNjc3o+6biodQKITl5WXFZvGlpSVNJ5YIfD6f5s9u7IXFxcWYfhw1nmel743lu30+n+J9W1tbUTffU4LBYESabTTW1taitrVeOXd2drC0tKQ4lWyv5QbCAZYgCJqHwhw0Pp9Pc2Vmr98ZSz2FQiF0dXVhfn4ewWAQoVAIKysrmoJAr5wejwculyuqCIyXUCiEpaWlqAGn+r2x2r0Ru7Uv+tn9qh818dTXXonHD+yWRIwVP/30E0uXpBkcVquVTXoeBlZWVhLik/biQzY2NqL6W8rt27eTEpwkos8CBztGBwIBuN1uZmPBYBArKyu7vm8y+rLf74+6HSQYDMLlciXsfon0dbutC73U1IN8JYNAIACXy4W1tbWYPxPNtj0ej+J71tbWFNlvOzs7cLvdmu3x6tWrmFPp4yEW/xQLibZzINyvXC5XVD+R6NhOrz8Yxc7J5kDFJYez39AUgmiHgnDCewVsNhv6+/vx8uVLpKenQxTFA3NSHE4iqKiogCAIcDqdGBwcZCnTdGacExvz8/NIS0vTTG3mcA4jBy0i91NcHhbS0tIUJ0Rzfl9wccn5XTEyMgKTyYS8vLyYV6B+b7hcLhQVFcFkMsFkMiE/P1+RIsLhfIn4/X7cuHEDFosFkiTB4XBoHkLG0SdZGUEcTrIIbvkOXEiqX8Gtr3uyNhEZCJwvFy4uORwOh8PhcDhfJTvB0IGLSfVrJ8jFF+frhYtLDofD4XA4HM5Xy04wdChWMINbPi4sOV89XFxyOBwOh8PhcDgcDmfPcHHJ4XA4HA6Hw+FwOJw9w8Ulh8PhcDgcDofD4XD2DBeXHA6Hw+FwOBwOh8PZM1xccjgcDofD4XA4HA5nz3BxyeFwOBwOh8PhcDicPcPF5SEhkcdk86OuORwOh8PhcDgczn7DxeUhIFk/8MsFJofD4XA4HA6Hw9kvuLg8BCTrh32DW76DfjQOh8PhcDgcDofzOyGh4nJ5eRnLy8uJ/EpDvF4vZmdn9/WeiSYZwpK+YsHtdmNqaoq9pqensbKykuSnPni2t7cxNTWFYDB40EWJm932tZWVFSwuLu7p3sFgEO/evdv3vg4AGxsbmJubS+h3Li8vY2hoCH6//4u1h3iZn5/H+vr6QRcjKsFgEFNTUwgEAgd27+3tbc3rc3Nz2NyMzbfuhq2tLbx+/Ro+3/5MDoZCIYX/13oFg0HMzMzA6/XuS5m+JBJlD/H4dCMbPUi2trYwMzMD4MuJz77kWMDr9bL6PggO0ldHwyhOiLWvxWsXX4q97wcJFZfnz5/HiRMnEvmVhnR1dYEQwv7f2tqK7u5u9v+BgQHU1tbua5niRUsUel8Mw9P0VPHyPn+DwPomNp/+gs2unxXv988vwdP0FP7J+bjFZWZmJgghEa+UlBS4XK4kP/3+4XK5UF5ezoLq8fFxEELw8ePHAy5Z/Oy2rxUXFyMnJ2fX911eXoYgCCCE4O7du7v+nlhR99/m5maIopiw76+urmb2/u7dOxBCsLCwkLDvP6xIkoTGxkbd91RWVmJkZCRpZdD7frfbDUIIhoaGAOyvH1ffW43ZbE6a7ff19TF7fPPmTVLuoWZra0vT/8tftN+3tLTsS5m+JBJlD/H4dCMbPUjkMZk6PksUe/UHX1Ms0N7enpQ6jpXDaItGcUKsfS1eu0iWvX+JJFRcDg8PY2BgIJFfacjc3BycTif7f1ZWFkpLS9n/6+vrYTKZ9rVM8aIlLpeKajH5rQ3j3xzD2JGjmPzWBndWJQLrm1j8txqMf3MMAc8Ge7+n4THGjhzFp9HpXYnLtLQ0uFwuuFwuzM7O4uXLl5AkaU9C5LDx9u1bhXj4kgeU3fa1vYrLR48eQRAEeL1ehELJ39Or7r+JFpeCIKCmpgahUAgejwdOp3PfVowOkljEJSFE4VsTjd73f/r0CU6nE2trawD2148bBUu9vb2YmJhIyr0LCwuRkZGBUCi0L/2LQn2/y+WCw+GAzWZT/A0AF5dRSJQ9xOPTD2NAT5EH2Or4LFHs1R98TbHAQYtLta8+DBjFCbH2tXjtIln2/iWSUHFZW1uLixcvAgAmJyfhcDggCAIEQUBBQYFmGtbo6CisVitGR0cBhJfYbTYbbty4wd7T1NSErKwsTExMwGq1YmJiAtnZ2cjLy0N/fz9sNhsAwG63s/tZrVZcunQJoiiCEAKr1YpXr14BCBtMRkYGBEGA3W5HV1cXu1d6ejqcTidyc3MhCAJMJhN6enqiPvPg4KDivrm5ufB4PHHVgV5a6/wfSzDzj/+q+NtmzyuMHTkK74th9jfXn8ow9Z/+tKu02MzMTGRkZET83W63K/6uV29A2MnZbDYIggCLxaK4rldPFRUVuHbtmuK7srOz0dHRASA8eKekpIAQAlEUUVVVhZ2dHQBhe6mpqYHZbIYoiigqKmLfK+fx48cwm80ghMBiseDevXvMcXz//ffsmt1ux4cPH2J+ZjnBYBA3b96ExWKBIAhwOBx49+4du25kWx6PB0VFRRBFERaLBdXV1VEDzN30NSAsLjMyMlBaWgpRFGEymVBWVga/32/4zNevX1f0p8HBQVa3qampEAQBNpuNtRsAlJWVoampCQ0NDTCbzRgaGoq5TsvLyyP6Lx00amtrIYoiBEFAfn6+Ii3tyZMnzA6zsrI0V8fcbjesVisIIZAkCYWFhfjw4QOsViuWlpZQXFyMCxcuKD5TVVWFoqKiuNoqHv9Gr8diz4B+uxv1KUmSUFZWhszMTAiCgJSUFNy/fx8AMD09HVE3Wr4XAFpaWljfEUURlZWVrB4CgQAqKythNpshCAKOHz+OkZERze9Xs7KyAqvVivHxcU07UFNRUYGamhqUlZVBFEWYzWb09vaio6OD9cecnBxmJ4FAAFeuXGHfazKZWFCgDtxXVlaQkZGBkydPwu/3IycnB+3t7QCM+/TS0hIKCgqYnbS3t7N6VEPbgo5fPp8vJp/y9OnTiHqbmJiI2mZGZGdnIz09PeLvgiDgypUrSE9PZ3W2W/+l59Pdbjfy8vJYhkRqairrP48fP0ZeXh4ePnwIi8UCURRRU1ODkZERpKWlMR80NjbG7hWPDz9x4gRqamo0+wWg7c/isYfl5WVmD6IoorCwkG1Bkfv058+fw263o76+nvmCnJwcJvTVNhpP3RvZvtVqRWNjI/OhaWlpikDcqI7k4lIenxm1RazjWDR/MDY2xspkNptx/fp1zVTN/YgF9OyA+j952mZfXx9SU1NZ+eKxcSouo9kKoG8fWjYth5b3+fPnSE9PZ89P60buq43eG289yjl37hzOnz/P/t/a2gqr1comCHw+H7u3UZwg72u0DrVi11jsQo7a3uvq6iBJErM1eVbl107S0mJtNhtSUlLQ3d2Nhw8fQhAERWNS/H4/6xgA8P79e+bwKGlpabhw4QKGh4dBCIHZbEZqaioePHigcGT379+H2WyG1WrFvXv38PTpU2RnZ0MQBDQ0NGBmZgaLi4sghCAnJwePHz/G+fPnQQhBf38/ALABraysDB0dHSxo1lrN8Hq9zPl2dnbihx9+ACEENTU1cdVBvOIysLqO8W+OYeV/NbK/ffjrP2Lx32p2LS5tNhsLSAYHB3Hr1i0QQtigaVRvjx8/BiEEp0+fRmdnJ3JyckAIwevXrw3rKT8/PyLAlCQJDQ0N8Hg8IIQgPz8fvb29uHHjBgghrJOWl5dDEAQ0Njaira0NkiQhLS0t4hlHRkZw6dIlEEJw7do1/PLLL8xxUOdBHRIV1EbPrKasrAyEEFRVVcHpdCI1NRWEEExPTwPQt61QKASbzQaLxYLOzk7U1dWx79JiN30NCItLOii3t7fjzp07IISw+td75r6+PuTk5LD+NDs7i6dPn4IQgoKCAnR1deHUqVOKFamsrCzmlIuLi9mMcSx1+uzZs4j+29zczPxDW1sbbt68CUII6urqAISDMkIIysvL0dXVxYKVpaUlxXd7PB40NDQw23I6nYq02Pr6ehBCsLW1BSC8L00URdy9ezeutorHvwGx27NRu+v1KfpvQghOnjwJp9OJM2fOgBCClpYWrKysKOqms7NT0/cODg6yPv/kyRNcuXIFhBD8+uuvzEZpP29paUFKSgoEQcDs7GzE96uRB89adqAmPz8fhBBkZ2ejq6sLx48fZ8KltrYW9+7dAyEE3333HQAwu799+zZ6enpw4sQJEELg9/sV9/Z4PEhJSYHZbGY2JE+D1OvTwWAQZrMZJpMJra2tzKZoCrYaGkzS4D4YDMbkU+SrifPz8+z7tdosFvTEZSL8l5FPdzgcEEURzc3N6OrqgslkwvHjxwGA9X+LxYKOjg5cuHABhBAIgsDKJYoiMjMzAcTvw/X6BRDpzxYWFmK2h1AoxMTCgwcPUF9fD0EQmB+X+3QqGARBQFNTE1paWiBJEiRJirDReMcOPdufnZ1lNlpZWQmn08kmE8bHx2Oqo2hpsUZtEes4puUPXC4XG9ecTicbF+RZbJT9iAX07EBrNayzs5PVU7w2bmQrRvahZdNyaHkFQdCsG7ktGr033nqUQ8tN9z/SGJPGGj///DMIIVhcXDSME+R9TS92NbILNXJ7p7HIzZs38ezZM+Tl5YEQArfbbfisXwNJE5eCIKCoqIjNjnR3d0dNwzp58iT7XHNzMzN0t9vN9oP09fWxwbKgoIB9rzrH2Sgtls6kyzfo5ubmspUDQRBw8uRJdo0GUNSxyhkfH4fD4VDMYtjtdhQXF8dVB3GLy/VNzP/TWcxKJxFY34RvaAJjR45is+fVrsUl7UDyV0pKClZXV2OqN6vVqshh//TpE9LS0vDDDz8Y1pNeIPzhwwfFwAWEZ52eP3/OghR5GsLo6CgIIRgeHo54zmipMM3Nzew9d+7cgSAIMT2znLW1NRBCcOvWLfY3KqqpcNCzLbrXSj6b2djYCEEQFKuKlN32NSou5Qc23b9/n9WL0TPfv39fkW5itVpZ4Ec5ceIEzGYzgHB/JISwWdZ46hTQTotV90eHw4H8/HwA4QBF3v99Ph9EUWTiTo0gCGhtbQUAhbikQTqdbR4aGgIhBLOzs3G3Vaz+LV571mv3WMSlzWZTrG7k5eUp6lpeFi3f63Q6kZ2dzQ4V8fl8ICQ8IUX7g3wv2tjYGFJSUtjMuPpZ5ahXZozS4PLz82EymZhd/fLLLxF+Iy0tDWfPngUQXumsrKxk1/r7+1n70ns/f/4cVqsVFotFcfiDWkxE69O9vb0K2wfCdhJNXALhNqCr47H6FCNxKW+zWNATl4nwX3o+PRQKITMzU7GacePGDUiSBOBz/6eHZmxvb4MQorD16upqZivx+hujfqH2Z0Ds9kCDTfnKUFtbG6xWK/x+v6a4fP78OXvv2NgY6zPy/hGvP9KzfSouKyoq2HW/3w9RFFnfMaqjaOIyltgr1nFM7Q/opJw8y+P777+PGswnMxagzxLNDmIVl7HauJGtGNmHlk3LMaobLXGZqHrUKsfQ0BB2dnbYCjVdzayqqmKrhkZxgryvGcWues+jRm7vDx8+BCEEk5OTAMK+u6ys7ItMvd4NSROXVVVVICSc9nTu3Dn09PREHeBox9re3kZhYSFu374Nk8mE7u5u5vg+ffrEBks6Mw7ELy4zMjIgiiLy8vLYi6ZtAWCzPxT5YK2F1+tFV1cXKioqkJaWxmZ/4qmD3YhLT30Xxo4cxfayB6tVreE9mKvruxaXqampzPGNjY2ht7cXFouF1Z1evYVCIRBCdGfG9epJLxDe2dmB3W5ns5KVlZUs0H79+jUIIcjIyFCUS+0MKNEGFJpyBSidvJGtyKGDh9pBnzp1Cna7HYC+bdFZOfm96HNrTWzstq/RtFg5dNa3r6/P8Jnl4jIYDIIQokiJAsLpKrTPZmVlKcRnPHUKaItL9XvPnDmD7OxsVh6r1ar4fvVALyeauATCYoQG+lVVVawd422rWP1bvPas1+6xiEs6i0txOp0g5PNqrZa4lPteAFhYWMCjR49w/vx5Jprb29vZs+jtRUu0uJQ/LxXlU1NT7G/qsWFkZAT19fUoKipiKw1ycUlf6vRotZiI1qdv374dse9nYmIiZnEZq08xEpfqNjNCT1wmwn/p+XQgnCXQ39+PW7dusVUEubhU939CCOvDgNJW4vU3Rv1C7c+A2O2hrq4u6n0B7ZVLtR83mUy4du2aon/E64+A6LZPxeXr168V7y8tLWVpm0Z1FE1cGrVFPOOYVlynTvuempoCIQQvX76M+HwyYwFA3w5iEZfx2LiRrRjZh5ZNyzGqGy1xmah6VENtb3JyEoQQtLW1sYlsu93ODnnSixOAz33NKHY1eh41cnt3uVwsfTsjIwN3795N+En3h5mknhb76tUrlJeXw2KxgBAS9XSm/5+99/tpI2vzffMH9O17NTdz8V7MxZZGmqUtjbZUGu3slI6s1rHkI3m2NZb3cHwYXjZDxJiBAxGb3cQnIUn3cTKQJh3oJgmdkA0kJAEFTtiEJARx8pI0SUgg4UebEPPTBgMGjDG2+Z4Ln7VS5d/GkF88H8kSVJWrVj3rWcvrW8+zVq2srIAxhqGhIciyjMHBQVRWVsJms+Gnn34SnQb/sVQu9ZuuuMzOzhbzzJSfc+fOAUj8Yx3J7OysyKevqqpCe3u7KiKXqg12Iy79085wtLL7N8wb/i/M/5dTu34VSbw5l/xJq91uT2g3ZcQiFsnslGwgHAgE8ODBA5w4cUI01qtXr4o0iPLy8qhypfODEq+TT+YrSnhZ+FMqTmVlJYxGI4DEvsVXLY28ls1mw/z8fNT1dtvWrFZr1FNCt9sNxhgePXqU9J6V4pKnfEYu8sEHGmtra7BYLKr2kI5NgdQW9OE/Grw8OTk5UeePJc6AxOKSp2YFAgHo9XoxWEi3rlLt39L1ZyB+vaciLiOjuT09PWCMiWyFWOJS2ff29vaCsfAclNraWvH9jo4OVTQkHh9DXCqvr/xtqK6uFgOuhoYGkbKqFJcmk0mkzynFT6SYiNema2tro3yV9zmpiMvd9ClcHCjFZbpL4ycSl3vVf8Xr07e3t8Xc/JMnT6K5uRmVlZUqcRlp08jfHqWvpNvfJGsXkf0ZkLo/KCOwsYglLiPR6XSw2Wyq9pGu7RP5PvefN2/eqL7zww8/QK/Xp2SjeOIylbpI9Xcs1rgusr/jD037+vqivr+fYwEgsR/EupayvtP18WS+ksw/Yvm0kmS2iSUu98qOkZw7dw55eXno6OhATk6OqOPp6WmVCEw0TgA+tLVkY9dk9xNJpB7xeDy4ffu2eEjMGIu5ZsDXyL6Iy42NDdTV1alUOn8qFe8de9nZ2SJlz+fz4d69ezAYDDCZTKLi+Y+lcqJyuuKysrJSPPXl9PX1icFnOuKSPxHiT/qV95GODXYjLgNrG5j+u3/BYll45VjPte49F5ctLS1gjGFsbCyp3WRZhs1mE/uCwSCMRiOuXbuW0E5AeIVEpeBZW1sDYwzXr1/HxMQE6uvrRRqF3+9HXl4edDqd6FiU+fqbm5uora2NmXqQ7g9KsntWMjc3F9VJ8Tk2ZWVlABL7Fhdk6+vrYr/dbkdtbW3CtNh025rVaoUsy6r3o/GHCOPj40nvOTItVqPRRP0wff/99+KpYWR7TMemQHriEgg/rY2ca9Tc3IwnT57EPH8icclFIU+x4fZMt66A1Pq3dPw5Wb0nalNAuN4in/SfP39e1ZfGEpfKvvfo0aPIy8sTC7Eof6h51ODBgwfi+OnpaciyLBaC+lTikke4+ZxvAHj27FmUuHz16hX8fj90Oh0MBoNYHCRVMcEHfcoBPp9vnoq4TKVPiUz55m1ZKS7TfZ3UbsRlOm0iUZ/OI97KaGtdXd2uxWW6/U2ydhHZnwGp+wPP6FDO/+7q6oJGo4HX640pLpURE54239zcrGof6dg+me9zcamMugHh6QbFxcUp2SieuExUF+n+jkX2BydOnFClxQMfBG/kwxlgf8cCQGI/4FE35QOrH3/8MWNxGc9XkvlHLJ9WspfiMl07RqJ8AFtXVwcg7I8nTpyARqMRv0Wpiksg8dg1E3H5+PFj3L17V+zjr3NSLkr0NbMv4jIUCkGSJJSUlGBubg5ut1tM3I330l/+9Iw7nnJiOZ/vkoq4LCkpQU5ODt6+fYtQKISWlhZIkoRXr15hfX1dzJ2qr6/HwsICnj59CkmScOfOHQC7E5cjIyNwuVy4evUqGGOwWCzw+Xwp2yCWKNwan4b3zyOY1ZTC8bf/DO+fR+B7O6U6xn36unhViX/aGVdc8nTHyKeRnKNHj8JgMODp06d4+vQpBgYGxCpbOp0OgUAgqd1++uknMMZw//59OBwOXLhwQfwwJLKT3+8XPyIDAwOYmZkRi3Ncv34dv//+OxhjuHz5MlZWVjAzM4OsrCwhhvn8vtevX2N6ehqnTp0SE9kj4QPOzs5OOJ3OpB1HsnuOpKCgALIs4+nTp3A6nSLqwVfaS+RbfC5VcXExHA4HxsbGYDabY66kCey+rXGBY7VaMTMzgzdv3ohFsHZ2dpLec6S45HV5584duFwu8UPH54lF/nCla9PI9pvsR4OXp6enB06nUwjDeOmZicQlLz9jDHl5eWJbunUFpNa/Aan7c7J6T9SmgA+LcjQ3N8PpdIqFmaqqqlS2OXfuHN69exez783Pz4fBYMD8/DwcDgfKysrAWHjRhFAoBLPZDK1Wi5GREYyNjaGwsBAGg0EMAJTnjyRSXEb6QSS7EZdWqxXLy8sYGRkRK5cODQ1FXZvP3+SpgKmKiY2NDUiShJycHLx+/Ro9PT0iBTEVccn9IVGfYjabYTAYMD4+jtHRURHxiSUuGxoakJ+fH/cBCGc34jKdNpGoT+fi8tatW1hZWUFvby8kKbx6aLz2n2jgnW5/k6xdZCIu+cMqi8UCh8OBgYEBEV0CYkcujUYjxsbG4HA4RPRjaWlJ5aPp2D6Z7/N+SZIk9Pf3w+l0or6+HowxPH78OCUbxROXieoi3d+xeOO6M2fOYGFhAYODg9BoNHHTPfd7LJCsrXCBNDs7K+ZmZyou4/lKMv/4mOIymR2T9VGBQED0ofwhLB/TKAViOuIy0dg1E3HJHyT29fXB4/Hg9evXkCTpo72v+VOzb2mxAwMDohNiLLxq3/379+N+lz/NUS6fr9FoVE85UhGXvKExxrCxsYGJiQmRdsPTI+7evSscVJIkMeAA4ncK8V5nwH/MGWPIzc0Vq/t1dnambINYotBV8CMmDh1WfeaNJ1XHbD57i4lDhzH9d/8SN/IJhF8XoGyMkfDV4pQfSZJQWFioWpkxkd18Pp9YNY4xporIJLNT5H6r1SpWTAQ+CAb+0ev1Yi7J0tKSqvxmszluCiFfqpqx8GqifGGJRB1HonuOxO12izlC/HjlPIlkvjUyMiLmrTEWXvkyVloTsPu2xm1rMpnE8VlZWWL1yWT3HNlpBwIB8dSVf86ePSt+HGL9cKVj08j2e/v27Zg/Gvzdndvb2zh37pwoi1arTfg+R2UdjY6ORvUv/Kmvsh6B9OoKSK1/A9Lz50T1nqxNaTQaFBYWCtsyxvDdd9/B6/WK8586dUoMWmL1vXxgwL9/+vRp5OXlgbHw4hGzs7NipUk+qFbO5VKeP5KlpSUxYAGi/SCSsrKytNJif/31V5XPNjU1QZIkaDSaqGsD4cgIP18qYoK36dHRUdHW+GrDjMVfPKO0tFQlLpP1KYODg6o64Pc1OjoaVWfl5eVgLDy/NxGFhYUxB+V72X/F69ODwaAqhUyj0YhjT5w4EbP9Jxp4A+n1NxqNBhaLJW672K245DZ69uyZaLOSJMFqtYoFZ2KJy4qKClX75r/hkT6aju0T+T4Xl9xXlH7FHwols1E8cZmsLtL5HYvVH3R1danKVFBQEDdTbr/HAsn8gK+Wze+TPwwEkLaPJ/MVILF/qTtsOQAAIABJREFUJBOXyWyj9MVM7cj9LtG7pvkx3N/4/SvvN9k4QdnWEo1dU7kfJUp/9/v9Ue2osLBQ9dq0r5k9FZeRhEIhuN1uLC4uftQXQqfKXpSL36NyULa0tCQ64lRskCgtNtPPfpDwXgKBmC/TTWannZ0dLC0txe1UAoEAnE5n3Bf1+ny+uO8D3AvS8RW/36+KRqXL+vp6ws41Frtpa263O2YUiJPOuUKhEJaWluL+2GZ6/nQJBoNxBxZ7yW7qKhVS9edE9Z6sTfHvLywsJI1mxSMQCMDlconoQjAYVK1EDIQjvcp2/7ng8/lUdtvc3NzTcrrdbnR3d8Pn8wn78ihFun1Voj4lGAzC6XSm1fb2k1TbRKI+3ePxqLavrq7GzXpKlVT6G41Gg+bm5ozbRTKWl5cTnls5j259fT3qVUrxSNX28Xyfi8uxsTH4/X44nc4om+2FjeLVxV6MGZeXl5M+QMmEvfrd8vl8KddrqiTzlf36vdoNsey4sbER82HjxyDe2DVTfD4fFhYWPsvfwP1kX8UlkRpfmrgkCIIgEsNfJfLdd99haGgIPT094gXnxOcJF06fmniLtOw3SnEZj8/FRsTXx/nz52NmphBfHiQuPwOCm759EZbBzc/jCRVBEMRBZGhoCAUFBdBoNDAYDDh79izW1tY+dbGIOJSVlYl3235KBgYGPslDiKWlJeTl5SVcYfhzsRHx9fE5ZjgSu4PE5WfATjC0L+JyJ0gNlSAIgiAIgiCIjwOJy8+EnWBozyKYwU0fCUuCIAiCIAiCID4qJC4JgiAIgiAIgiCIjCFxSRAEQRAEQRAEQWQMiUuCIAiCIAiCIAgiY0hcEgRBEARBEARBEBlD4pIgCIIgCIIgCILIGBKXBEEQBEEQBEEQRMaQuNxj6JUiBEEQBEEQBEEcREhc7iE7wdCeiMrIDwlMgiAIgiAIgiA+d0hc7iF7FbGMFcEkCIIgCIIgCIL4nPlsxKXX68Xs7OynLkZG7Iew5J9kOJ1OOByOuB+v14uZmRl4vd6PYInPh936VTAYhMPhQCAQ2IdSfV18iX7F69fv93/qogj20+e+lP51dnb2i/MlgiAIgiA+8NmIy+7ubjDGxP/t7e3o6ekR/w8ODuLKlSufomgpE0sUev88Ak/LQ9XH2/8agbUNbA6OwdPyEIGVNXG837EAT8tDbL2bS0tcZmVlgTEW99PT0wNJktDW1vYRLPH5EOlXqeJyucAYw/DwcMZliPTlr40v0a9mZ2fBGMPY2FjcY/a7z3E6naiursba2hqAvfW5SHbbDj42sizjxo0bn7oYBEEQBEHsks9GXM7NzaGrq0v8b7FYUFlZKf5vbGyEVqv9FEVLmVjicqniCqb+aIL9m28xcegwpv5ogstSg8DaBnyvfsfEocNY+fG2OH7h//gB7/7yH7DtXE5LXLrdbjidTjidTtTW1oIxhtnZWbHN7/d/kSIgUyL9KlW2trbQ1dWF1dXVjMsQ6ctfG1+iX6UiLve7z3nz5g0YY1hYWACwtz4XyW7bwceGxCVBEARBfNnsmbgcHx+H0WjE+Pg4gHCKl8lkwsWLF8UxLS0tsFgsmJychNFoxOTkJAoLC1FSUoKBgQGYTCYAgNlshiRJkCQJRqMRZ8+ehSzLYIzBaDTi5cuXAAC73Y78/HxIkgSz2Yzu7m5xrZycHHR1daG4uBiSJEGr1aK3tzdu+YeGhlTXLS4uhsfjAQBMTU0hLy9P7CsrKxPRBiWJ0lrn/+EEZv6X/zOm+LR/8y38jgVs9L7ExKHDWO/8c9ppsUquX78OxhiCwaBquyRJqKqqQk5ODhhjUTbxeDyoqKiALMvQ6/Woq6tDKBReTMhms6GlpQXXr1+HTqfD8PBwwuOjbBMIoKqqStSjVqsVg91Y/hAMBlFfXw+dTgdZllFRUSHqIxKv14vjx4+L+snOzhZ+qPSr8vJyHD16VKRC8ut2dnZGnXN5eRlGoxF2ux3T09MwGo3o7+9HTk6O8Ld3796J4xsaGqDRaMAYg16vF5HKSF/2er1wuVwoKSmBJElgjCErK0uU9/79+ygpKUF7ezsMBgMkScKxY8ewsfHBBzo6OmAymSBJEvR6vcrvE9ktkZ2UpNOWgb33q0TtOpK+vj4YDAYwxiDLMmpra7GzswMg3Ac8fPgwqk4nJyeFuGxoaBC2zM7OxuDgIACguro6qs/p7OxERUUFBgYGYDab0djYmNCvgfBDn7KyMsiyDFmWUV5ejuXlZdy/fx86nU74S1NTk8rnuN2OHz8OjUYDjUaD8vJyuN1uAEjJJ5Uo20GqfgCE/TEvL0+17dKlS7DZbACS940PHjwQ9rVYLBgdHRX7nE4niouLhW0aGhpU4rK2thZGoxFbW1tx658gCIIgiM+LPROXfr8fjDE0NjYCAMbGxsRgi5OdnY3vv/8eIyMjYIxBp9MhKysLt27dUqVt3bhxAzqdDkajEU1NTXj48CEKCwshSRKuX7+OmZkZLC4ugjGGoqIi3L9/H2fOnAFjDAMDAwAgBu42mw2dnZ3IysqCJEnw+aIXx/F6vWKQde/ePdy8eROMMdTX1wMATCYTDAYDenp6cPv2bUiShB9++CHqPLsRl9uLK5j6ownOvH+D42/+hIX//cyu5lwqSSQu49kkFArBZDJBr9fj3r17aGhoAGMMtbW1AMLRNz4YtlqtmJ+fT3h8JJcvXwZjDJcuXUJvby8KCgrAGIPf74/pD9XV1ZAkCc3Nzbh79y40Gg2ys7NjnvvHH3+EJElob29Hd3c3DAYDdDodAHU6IL9OXV2dEEwmkynmHDdliqLdbgdjDJIk4dq1a2htbYUsy8jPzwcA9Pf3gzGGn3/+GY8fP0ZJSQkYY3C5XFG+HAgEkJeXB1mW0draiu7ubmi1WuTm5gIAWltbRbu5e/cufv75ZyGCgPBgnzGG48eP4969eygqKgJjDK9evQKAhHZLZCcl6bTlvfYrHs2L166VeDweMMZw7Ngx9PX14eLFiyIFnJdLGVGdn58HYwxv374V4pIxhpqaGnR1dQlxbLfb8fjx46g+p7GxEbIsQ5IkFBUVYXBwMKFfh0Ih6PV6yLKMW7duobGxEZIkoaCgAKOjozh79iwYY7hw4QKeP3+u8rlQKCQeLrS2tuL27duQZRk6nQ7BYDCpT0aibAep+gH3R1mWVdtOnjyJwsJCAIn7Rt4uqqur0d3dLUTo0tISAoEAtFotNBoN2tracOPGDeFHXFyWl5eDMUbikiAIgiC+IPY0Lba0tBQFBQUAwoMSPmh0uVzY3NwEYwxPnjwRg/yysjIRwYicE5QsLbampkYMtDjFxcWqaEppaanYNzQ0JAaOkdjtduTl5ame+pvNZlitVnGuiooKUdaenh40NzdHnWc34jKwtoH1jieYOHQYk3/Qwe9Y2FdxGc8mT548AWMMc3NzYn9zczMkSYLf74fFYgFjDBMTEwCQ9PhIzp8/j5qaGvH/wMCASN2N9AcuGpQRoPHxcTDGMDIyEnXusrIy6HQ6sRDI2NgYzp49i2AwGOVXdXV1YIyhoqICjDFMTU3FtGEscdna2ir2X758GZIkAQBu376tOpfX64XNZsP79+8BqH05FArh6NGjqmjcxYsXodFoAHwQl0o/zcvLw7FjxwAARqNRtDEgnEqZnZ2NmzdvJrVbIjtFkmpbBvbWr5K1ayXv3r0DY0wlIK9cuYL+/n5RrmTi8vz582K/3++HLMs4deoUgOg+p7GxMcoPEvk1F1fKOZR3796F0WiE3++PSotV+lxfXx8YYyKSCgDDw8NCPCfzyUiU7SAdP0gmLhP1jSaTSdWH+3w+yLKMxsZGPHr0KKo9P3/+XCUud3Z24mZCEARBEATxebKn4vLevXtgjGF7exvl5eW4dOkStFotenp6xKBra2tLiIkXL16I76YrLvPz8yHLMkpKSsRHp9OJwZUkSWhpaRHHKweWsfB6veju7sb58+eRnZ0tIikAxBxGjUaD06dPo7e3N+agZ7fi0ts3hIlDh8NzLV3L+you49mER5SU9jSbzUIkWCwWEV0DkPT4WIyOjqKxsREVFRUiSqEUl9wfXr16BcYY8vPzVeePHExz+CCep+W1tbWJgXOkXwUCARiNRjDGcP369bg2jCUulamD3NeBcHofT4vMz8/H1atXVWIq0pdDoRAGBgbwyy+/iMijUlxGCgQ+mA+FQmCM4datWzHLnMxuiewUSaptGdhbv0rWrpXs7OyIcxmNRtTU1KjESirikkd8OZWVlcjKygIQX1xub2+rvhPPrxsaGuKKPSB6zqXS565cuRLzuzz1N5lPRqJsB+n4QTJxGa9vDAaDol6UdckfRFy6dCnm/UmSRHMuCYIgCOILZk/F5crKChhjGBoagizLGBwcRGVlJWw2G3766SeUlJQA+JCeqFwaP11xmZ2dDa1WC5vNpvqcO3cOQOKBZSSzs7NiXmZVVRXa29tVkUsAePnyJaqrq6HX68EYU0WPOLsSl8sevP/rf8Ls/1qGd3/x91j67sq+ist4NuERvUh72mw2zM/Pw2KxqOyR7PhIqqurhchoaGgQA3WluOT+8Ntvv4ExhvLy8qhzP336NOY9OxwOXLlyBbm5uWKwu7KyEuVXXq8XWq1WRErjEUtc8kgkED2Q93g8uH37thBzjDExN1jpy9vb22Ie5smTJ9Hc3IzKykqVuIw3mPf5fGCMoaOjI2aZU7FbPDtFkmpbBvbWr5K160gCgQAePHiAEydOCIF/9erVmOXiglIpLt+8eaM63w8//AC9Xg8gtrjk9cRJ5NfKiHQsEonLurq6KD8AAK1Wi+rq6pR8UklkO0jVD2L5o9VqFeISiN038tTqnJycqLpsbW2Ne3+0oA9BEARBfNns+Wqx2dnZsFqtYIzB5/Ph3r17MBgMMJlMYlDMxYTT6RTfS1dcVlZWwmw2q67d19cnIlvpiEseXdnc3Iy6j42NDdTV1akiUfxp/eLiouo8uxGX7tPXYf/mW2yNT2P11y5MHDoM32v7RxeXXV1dYIxhfX1d7Lfb7aitrRXpi8r6SHa8Eh7F4HNYAeDZs2dR4pL7g9PpBGPqeXabm5uora1VDaY5zc3NqvRBHlm7f/9+lF+dPn1azGPjx8QiHXH5+PFj3L17V+xzu92QJAlnzpwBoPZlHl1URu3r6upSEpdAePDNF1PhtjUajbh27VpSuyWyUyxSacvA3vpVsnatZGJiAvX19cLP/X4/8vLyxPxBnoLJ4RE7pbhURlyBcCpncXExgNjiUvl/Mr9ub28HYwxLS0tif1dXFzQaDbxeb0Jx2dnZGfUAju+/fft2RuIyHT9oa2uL6ktMJhMKCwuT9o1arTZqDnZzczOePHki7k/5IGpmZgaMMRKXBEEQBPEFs+fikj+55wNE5cIZfKXDVMRlSUkJcnJy8PbtW4RCIbS0tECSJLx69Qrr6+ti/lF9fT0WFhbw9OlTSJKEO3fuANiduBwZGYHL5cLVq1fBGIPFYoHP54MkSSgpKcHc3BzcbrdYZCQyPS6WqNwan4b3zyOY1ZTC8bf/DO+fR+B7OxV+FcnwJCYOHcby2Rvh4z3rcPztP2P222MxxeWTJ0+Qn58fFW2JZDfiki9qVFxcDIfDgbGxMZjNZpSXlwOIFvvJjlfCB+FWqxXLy8sYGRkRK3wODQ3F9IeCggLodDq8fv0a09PTOHXqFDQaTcz5nKWlpdDpdBgfH4fH4xGD+qGhIZVf8UE0n+/I0/SUg39OOuKSLwDV19cHj8eD169fQ5Ik8Y5EpS/z+Yi3bt3CysoKent7xUqb6+vrScXlTz/9JISAw+HAhQsXVA86EtktkZ1ikUpbBvbWr5K1ayW///47GGO4fPkyVlZWMDMzg6ysLLGojdlshsFgwPj4OEZHR0VkTSkuJUlCf38/nE4n6uvrwRjD48ePASCqz4knLuP5NY/+WiwWOBwODAwMQKfTiYcDfD5sZ2cnnE6nyue43cxmM+x2O6amppCbmwtJkuDxeDISl+n4AW8zjY2NmJ+fx6+//grGmEjTTtQ38n60p6cHTqdTPNCZnJwU95eTk4PJyUnY7XYxHYGLy4aGBuTn58ds8wRBEARBfJ7subicmpoCY+EVEDkajUYVjUhFXHZ0dIiB7MbGBiYmJkTaW19fH4Dw4hh8jpMkSaisrBSCKt6AV7kUPsflcomBJ2MMubm5sNlsYuA3MDAgXjPBWPiVB7Ge8scSl66CHzFx6LDqM288icDaBmY1pXj/1/+EwLJHHM9fR7LW2hslLnkUIdbKmUrSFZfcJiMjI2LhFj6A5JGFWO9qTHR8JHxQyj9NTU2QJAkajSamPywtLYmVN7nAiZcSOz8/j6ysLNX5L1y4gJ2dHeFXXq8Xsiyr0vkWFxfFyp+RLC0tiYE+Xzgm3kDe7/eLlS2VtuCvD1H6ssfjUaXOajQaMQg/ceKEWBVUycmTJ0UZfT4fTp48Kb4fGUVMZLdEdopFKm0Z2Hu/StSuI+G24x+9Xi/m/A4ODorzMMaED46OjmJubg6MfVjYSXkMt0dknxPrvZeJ/BoIRzJ53yFJEqxWK1wul6hLPv+3urpa5XNAeC4nF6v83vi+ZD4ZibJ/TccPQqGQyl+zsrJw/Phx4Y+J+sbt7W2cO3dO7NNqtaqF0IaHh1V+wR/20GqxBEEQBPHlsufi8lOwuLiY8aqCoVAIbrdbtbDF0tKSGHDx/YmulSgtNtPPx2R9fT3mK1syPd7n86nst7m5GXchEeV34r3fMhKPxwOn0/nJIh0+nw8LCwtJ7wkIl3V1dVX8v7q6GhUJT0QgEFB9P1ZZ4tntU9kpXb9KtV0HAgE4nc6Y9ggGg3A6nXHFKRB+OOB0Onfdh6Ti18vLy7u298bGRsz36mZKOn6wuroatwzJ+sZgMBg1hUDJyspKWn5BEARBEMTny1chLj8XvhZxSRAEQRAEQRAEkS4kLveQ4KZvX4RlcJOe6hMEQRAEQRAE8XlD4nIP2QmG9kVc7gTpReIEQRAEQRAEQXzekLjcY3aCoT2LYAY3fSQsCYIgCIIgCIL4IiBxSRAEQRAEQRAEQWQMiUuCIAiCIAiCIAgiY0hcEgRBEARBEARBEBlD4pIgCIIgCIIgCILIGBKXBEEQBEEQBEEQRMaQuCQIgiAIgiAIgiAyhsQlQRAEQRAEQRAEkTEkLgmCIAiCIAiCIIiMIXFJEARBEARBEARBZAyJS4IgCIIgCIIgCCJjSFwSBEEQBEEQBEEQGUPikiAIgiAIgiAIgsgYEpcEQRAEQRAEQRBExpC4JAiCIAiCIAiCIDKGxCVBEARBEARBEASRMSQuCYIgCIIgCIIgiIw5cOJyJxhCcNOHwNpG0k9w04edYOhTF5n4QknH175mfyM7EARBEARBHAwOlLjcCYZSHuAqPzTQJdJlt772tfkb2YEgCIIgCOLgcKDEZTrRk8hICkGkw2597WvzN7IDQRAEQRDEweFAicvdDnIDaxuftNxerxczMzMf7Xqbm5sf9XpK3G43lpeXY+5bXl7G4uJixteYmprC+/fvMz5PIjLxtUT+Njc3h/7+/oTX7u7uxurq6l7fUkJmZ2fh9Xqjtu+XHYaHhzE2Nqba5vP54PPFFqTBYBBbW1vi//X1dXR1dWFnZ2eXd/zxWVhYwNra2p6fNxgMwuPx7Pl5ExHPX5Rsb29je3v7I5WIIAiCIIi94ECLy63xaXhaHqo+6+39n5247OjoAGPso12vu7v7o15PSUVFBUpKSmLus1qtKCoqyuj8ubm5YIzBYrFkdJ5kRPqPf8YFT8tD+N/Pq7Z7+4aw0f1bSv62s7OD3NxcNDU1IRQKQaPRQJZl1Wd+fh5nz57FqVOn9vX+IpFlGTdu3IjaHmWHqXl4Wh5ia3L2w3bPOtZuPMLmb6Mp2WF1dRWSJOHt27eq7fn5+Th//rxqm8fjQWlpKRhjYIzBaDRidHQUoVAIBoMBXV1dce/J6XSiurp6XwTdbtDpdLh69eqen9dms0GSpD0/byLi+QsAOBwO5OfnizrLz8/H/Pz8Ry0fQRAEQRC740CLy/X2fkz90YTJP+gwcegwpv5owvR/OEri8isVlw6HA4wxvHjxAqHQ/s7ni/SfbacbE4cOY7m6VbV96q/+Ec4/nU3J37q6uiDLMra2tjA1NQXGGPr6+vDixQvx2dragsvlAmMMo6Oj+3qPSlIVl9tuD6b+6h8x/5+tYtvqpf8HE4cOpywuKysrhY9MT0/j+vXrKCgoAGMsSlwWFhZCp9Ph6dOnGB0dRWlpKSRJgsfjQW9vL2RZjhtBe/PmDRhjWFhYyNA6e8N+iMv+/n4wxj4bcbm+vg5ZllFUVITR0VG8evUKeXl50Ov18Pv9H7WMBEEQBEGkz4EWl/yz8lMbJg4dTjs9z+12o6ysTESNysvLRUpnIBBAVVUVZFkGYwxarVZESaanp2E0GtHf34+cnBxIkgSz2Yx3797FvA4Xl42NjdDpdGLw5XQ6xTEejwcVFRWQZRl6vR51dXVxBdTPP/+MyspKVFZWQpZlaLVa2Gw2MXiLFJdtbW3Q6XRgjEGWZdTU1IhzBwIB1NTUQKfTQZIk5ObmqkSN3W5Hfn6+uMfu7m6xz+/34+zZs9BqtZAkCcePH0dRUVFCcZmfnx+33Imu19fXJ+5Bp9OhubkZAHD//n1kZWVBkiSYTCZ0dnaKc9lsNrS0tOD69evQ6XQYHh5O2c6xfGhWU4q5/+2/qyLnE4cOY621NyV/02q1aGxsBAD09PRAlmUAiJkKevr06YTR2UR1mpOTg66uLhQXF0OSJGi1WvT29orvOp1OFBcXC79vaGhIWVwG1jaw8T+fYeLQYWx0/wb/3CIm/6DD4n+rT6ndLSwsgDGGkZERAOEHBteuXcO1a9cgy7JKXK6srIAxpopOrq6uim07OzvQ6XTCpkru378v7KPX69HU1AQg3M6OHz8OjUYDjUaD8vJyuN3umDa+f/8+SkpKcPv2bej1esiyjPr6eoyOjiI7O1v43MTEREr1ohSXwWAQp06dgtlsxtzcHADgwYMHMJlMkCQJFosl6cMFt9sNWZZRV1eXVFx+LH8ZGBgAYwyzs7Ni2++//w7GGF6+fJmwjARBEARBfHpIXO5SXIZCITFgvHXrFhobGyFJEgoKCgAAly9fBmMMly5dQm9vr4is+P1+2O12ES24du0aWltbIcsy8vPzY5abi0tJktDS0oK2tjYxuPX7/QiFQjCZTNDr9bh37x4aGhrAGENtbW3M81mtVpEi2NHRIcpaXl4OQC0uh4aGwBjD8ePH8eDBA1RVVYnoHwCcOXMGjDHU19ejra0NBoMBkiTB6/VicXERjDEUFRXh/v374tiBgQEAwPHjx8EYw5UrV9DR0QGTyQTGWEJxmajcia73+++/i7JfuHABL1++xMOHD8EYQ1lZGbq7u/Hdd9+pxIjFYhEDaqvVivn5+ZTtHMuHlqtaYf/mWwSWPaqI3bbTndTfvF4vGGN48uQJAODixYuQZRkajUY8vFAO6FtbW8EYizlnLVmdSpIExhhsNhs6OzuF+Pb5fAgEAtBqtdBoNGhra8ONGzfE8amKy8DaBub/yym8/+t/gqvgR0z90YTtxZWU2t2TJ0/AGMPm5mbUPrPZrBKX4+PjYIzhzZs3quMkScKvv/4KACgtLY3Z7kZHR3H27FnhL8+fPxeptJIkobW1Fbdv34Ysy9DpdAgGg1Hn4HWg1+vR2dmJ77//XrRjbltZlnH06NGU6oWLy1AohIqKCjDGMDQ0BOBDBLK6uhrd3d3Iy8uDJElYWlqKKhcQ7r+OHj2Ky5cvo7e3N6G4/Jj+Mjg4CMaY6kHb27dvox4SEARBEATxefLFicv29nYcOXIER44cQXt7e1rf3UtxyQdzw8PDYtvdu3dhNBrh9/tx/vx51NTUiH3KJ/JcXLa2tor9ly9fjjvA4+JSuZDLxMSEGHDxATePYABAc3MzJEmKmUrGRZpy4ZwbN26IFECluOzq6kJhYaEQKT6fD4wxdHR0iCiQMlVvYmICBoMBw8PDIqKpHHgXFxfDYrHA7XaLaCxnfX0dkiQlFZfxyp3oekqbORwOAIDRaERubq7qGgUFBdDpdADC4pIxJiJL6dg5lg/5XtsxcegwvI9fCoE1qylNyd/GxsbAGIPdbhfllCQJbW1tIgKu3M/9M1Y0PFGdAmGxUFpaKo7n4sJut+PRo0eqyCEAPH/+PG1xufVuDvZvvhURzFTbHbd3LCLF5fDwsMomHFmW8csvvwAAqqur454vMi22r68PjDEMDg5GXaOnpyfq+1xc8ijc9va26mEIANTV1UGr1QJIXi86nQ4NDQ04efIkJEnC69evxXlMJhMqKyvF/z6fD7Isx4zKAkBTUxNMJhOCwWBScfkx/YX3KceOHUMgEIDf70dhYSEYYyLbgCAIgiCIz5cvTlweOXJELPRw5MiRtL67l+KyoaEhaSrZ6OgoGhsbUVFRIZ7WK8Xl+Pi4OPbevXtx5zlycRmZfqnVanHhwgURQSspKREfs9kcc2ANfEgvVeJ0OkVkLDItdmFhAXfu3MGZM2dEJK+jowOvXr0CYwyTk5Mxy52fnw9ZllXl4umzL1++jCl++HGxSFbuRNcD1OIyGAzGHOC2t7eDMYatrS1YLBaV+EzHzvH8aOqv/hHuk9cQWNvA5B90WK5qTcnfeJ1sbIT3zczMqNIxvV4vJEkSUVQetYuXShivTgGICDlnfn4ejDG8ffsWly5diun3kiSlJS55OuzEocPYHBxLud2dOXMGJpMp5j1FisuRkZGodgZApKcCQEtLCxhjMSOPkeLyypUrMe9dluWY0evW1tao4xljqodijY2NQlwCieuF/88Yg8FgEGXmvmw0GlW+GSn6OPxBBW97ycRlsnLtpb8AwM2bN0WEl6faK69HEARBEMTnC4nLXYrLixcvQqPRxL0mThYQAAAgAElEQVRWdXW1ECINDQ1obGyMEpfK12GkIi4j0el0sNlsqKurE2lpkZ9Yqyxardao+Xg8kvjo0SOVuOzt7QVjDGazGbW1tejp6REDvVjzo5RkZ2eLeZHKz7lz5/Ds2TNVFJFTXl6eUFwmKnei6wFqcen3+8EYQ1tbm+p8XV1dYIxhbW0NFosFVqtV7EvHzvH8yPWvFzDzn4qwOTiGiUOH4RueTMnfuH8kemVETk4OysrKAED42KtXr6KOS1SnAERElKMUC3V1dWKup5J05lwG1jbg/OcqvPvLf8Dst8cw8x8LU253J0+ehNFojHn/keKSL3rE07CB8BxhxpgQQzy6GGvebKS4jHfvWq0W1dXVUdt5uruSSJGkFJfJ6oU/KLl+/boq6s99OScnJ8ovldkRnPLycpEhUFJSgqysLNFXRQrxVMq1l/7CsdvtIiq/tLQkHiARBEEQBPF588WJy88lLZZHuJRzmrq6uqDRaLC2tgbGmIiOABBiKhNxqRz4eTwekSrGBdH6+rrYb7fbUVtbGzctVpZl1Xw8nkY5Pj6uEpdHjx5FXl6eeB+gMiWOr7764MEDcZ7p6WnIsoyhoSFUVlbCbDarrt3X14fW1lbMzc1FzaPir9dIJC4TlTvR9YDotFiNRqMSjwDw/fffi0iLxWJRpRqmY+d4frR+bwAThw7DfaoRU380pexvPCV3YmICfr8fkiSpFkcKBoOQZRlVVVWq42OJ0UR1CiQWC52dnWCMqcT0zMxMWmmxG49ehBcyuvUYvpFJTBw6jNWGrpTscOHChZTTYre2tqLaIU9j5YKzpqYGBoMh5vkixSW/d+XDFL4y7+3bt6O+n664TFYvPC0W+JAizsui1WqjoqfNzc0xBVl7e7tKgPL54DabDVNTU1HHf0x/8fl8sFqtqjRaPjc63sJJBEEQBEF8Pnxx4jITolLzZl3w/nkEi2X14blwfx6Jm6IXCV+J0mKxwOFwYGBgQEQSeZqa1WrF8vIyRkZGYDAYwFh4AY7dikuj0YixsTE4HA6UlJQIcctTIouLi+FwODA2Ngaz2aya26WED0ytVitmZmbw5s0b6HQ6GI1G7OzsqMRlfn4+DAYD5ufn4XA4UFZWBsYYGhoaEAqFYDabodVqMTIygrGxMRQWFsJgMGBnZ0cM5Ovr67GwsICnT59CkiTcuXNHnFuWZQwODmJubg42m01EUHZT7mTXixSXV69eBWMMd+7cgcvlEnbm8/EixWU6do4nGrfdHti/+Rb2b76F618vpCwuuYjh825zc3Oh0Wjw6tUruFwuYTu+eM3t27fjirBkdZpILHAb5OTkYHJyEna7HdnZ2SmLy223B+//nRlzunKxbbG0DpN/0ME/t5hyerBS4HMixSUAlJWVQZIk9Pf3482bNzCbzZBlWaywW1ZWJqK9kfDU4s7OTjidTnHvZrMZdrsdU1NTyM3NFa82iSRdcZmsXpSrxfJ3ffLFgLgv9/T0wOl0iohsvJR1JcnSYj+mvwDhRZZMJhPevn2LN2/eQKvVqjIWjh07BpvNlvS+CIIgCIL4+BxocelpeYiJQ4dVn8k/6FIa7APhaCRfrVOSJFitVrhcLgDAr7/+KtJ3GWNoamqCJEnQaDR49+7drsQlXyGSsfDrAJTpfiMjI6o5WYWFhXFfPG61WmE0GsXqrIwxZGVlYXp6GoB6tVgu0Phxp0+fRl5eHhgLL2wzOzsrFpPhYluZinn37l3xfUmSUFlZKeaKLS0tqV6WbjAYYDKZEorLROVOdj0u6rm4DAQC+PHHH1X1dPbsWRGFjBSX6dg5URR8Tn8cE4cOY/3eQMriEgD0er2IXC0sLIi5aNwflJHMH374QQiPSJLVaTyxwF9tMTw8rLIBn9+Xirh0n2rExKHD2Bp9/+Ehz/8//9JVGC22I+EpkrHSfbOzs/Hjjz+qti0uLqrspNFo8Pz585g2jcTn88FoNIIxJtJeR0dHxYMixsIrwSoX9VLCV5NVkkhcJquXyPdc8qhgd3c3tre3ce7cOfFdrVab8gI4ycTlx/QXAJicnMTRo0fF8bm5uSrxLstyVIYCQRAEQRCfBwdaXKbzScTy8nLM9FOfz4fFxUUxn2tzczPuC9tTZX19Pe7rBfj+WO89VGK1WlFUVAQgPGcxVhRISSAQgMvlEumowWBQtWIrEI7qJbo3pR0i8Xq9WF1dTViGSJKVO9H1IgmFQlhaWoq5qEs8ktk5E1+L5283b96ERqNRlXNjYyMqXXBjYwOSJKkePkSVL4U6TcbKykpSX9sPO5SWlsaNysdjY2MDKysrqm181dJ0fY+fb21tLe3vJSPTegkGg1hcXPzsygWk5i9KfD5fxv0lQRAEQRAfFxKXeyAuvzSU4pLYH/ZDVG1ubkKWZdy/fz/htZuamqJesfKp2A87jI6OgjEGp9OZUdkKCwtV8zEJgiAIgiCIzDhQ4jK46dvVADe4mfrT9i+Bq1ev4ueff/7Uxfiq2a2vJfO33t5e/PTTTwmvfeLECdWCKJ+S/bJDXV1dUpGdCI/Hg4KCAoqMEQRBEARB7CEHSlzuBEO7GuTuBFNLryQIzm597WvzN7IDQRAEQRDEweFAiUsgPNhNNZoS3PTRAJfYNen42tfsb2QHgiAIgiCIg8GBE5cEQRAEQRAEQRDE3kPikiAIgiAIgiAIgsgYEpcEQRAEQRAEQRBExpC4JAiCIAiCIAiCIDKGxCVBEARBEARBEASRMSQuCYIgCIIgCIIgiIw5cOKSXkVCfCzoFRypQXYiCIIgCIL4OjhQ4nK3L3SngSyRLrv1tYPmb2QngiAIgiCIr4cDJS7TiY5ERkoIIh1262sHzd/ITgRBEARBEF8PB0pc7nYQG1jb+KTl9nq9mJmZ+WjX29zc/KjXU+J2u7G8vBxz3/LyMhYXFzO+xtTUFN6/f5/xeRKRia8l8re5uTn09/enXI5gMIitrS3x//r6Orq6urCzs5PR/aXL7OwsvF5v1Pb9slNvb2+Ur6yvr2N7ezvm8VtbWwgGg3HP5/V6VTZ7/vw57HZ7stv+bNjPNu31elU+xon0vY9Foj6EEwqF4PPFfzjxqcpOEARBEF86B1dcrq5j7cYjbP42qtq+0TOIjf/57LMSlx0dHWCMfbTrdXd3f9TrKamoqEBJSUnMfVarFUVFRRmdPzc3F4wxWCyWjM6TjFhCyP9+Hp6Wh9h2unclmnZ2dpCbm4umpiaEQiFoNBrIsqz6zM/PAwA8Hg9KS0vBGANjDEajEaOjowiFQjAYDOjq6trX+49ElmXcuHEjanu8+99eXMFaWz/cPzRh9VIn/O/nU7bT4OAgZFlWiQev1wtJkqKE+fj4OEwmk7BTUVGRSpj09PRAo9GAMQZJknD+/HkEg0H09vZCr9cnFKTt7e3o6elJ11T7wn616dnZWUiSpKrbeL73sUjUh2xsbKCyslKUTafT4fnz52L/py47QRAEQXzpHFxxubaBhewf8O4v/h7brmUE1jbgG/odE4cOY+WnNhKXX6G4dDgcYIzhxYsXCIX2d75eLCG00f0bJg4dhu+1fVfisqurC7IsY2trC1NTU2CMoa+vDy9evBAfHm0pLCyETqfD06dPMTo6itLSUkiSBI/Hg97eXsiyHDOSuF+kIy633s3B8e//K+zffItZTSne/eU/YP4/W1Oy0/b2NvR6PVpaWgAAL168wOXLl6HX68EYU4lLr9cLWZZRWFiI0dFRDA4OQq/XIz8/HwAwMjICxhhqa2tht9tFu7hy5Qp2dnZgMBjQ3Nwc954tFgsqKyszNd2esB9tOhgMwmw2gzGmqttEvvcxSNSH8LI9e/YMExMTsNlsYIyJTIZPXXaCIAiC+NI50OLS71iA/ZtvsVRxBYG1Dcx+ewzTf/cvCHjWUxrsu91ulJWViahReXm5iHoEAgFUVVVBlmUwxqDVakW0aHp6GkajEf39/cjJyYEkSTCbzXj37l3M63Bx2djYCJ1OB1mWUVRUBKfTKY7xeDyoqKiALMvQ6/Woq6uLK6B+/vlnVFZWorKyErIsQ6vVwmazwe/3A4geiLa1tUGn04ExBlmWUVNTI84dCARQU1MDnU4HSZKQm5uretJvt9uRn58v7rG7u1vs8/v9OHv2LLRaLSRJwvHjx1FUVJRQXObn58ctd6Lr9fX1iXvQ6XRCFNy/fx9ZWVmQJAkmkwmdnZ3iXDabDS0tLbh+/Tp0Oh2Gh4dTtvN+iEutVovGxkYA4YiaLMsAEJXet7KyAsaYKjq5uroqtu3s7ECn04lzRZU9Q991Op0oLi4W7aKhoSEtcenM+ze8+4u/x5Z9NrxtZQ3eJyMp2amrqwuSJAmfePbsGa5du4bLly9HictHjx6BMaZqR729vWKbzWaDVqtVnZ/7KxBuJ5IkxUy1NZvNkCQJkiTBaDQKIZ/I3yI5f/486uvrYbPZIMsydDod+vr60NnZCb1eD0mSUFRUhI2NsB1cLhdKSkogSRIYY8jKysL4+Lgoq7JNDw8Pw2g0or6+HkBYKNbX14v+paKiIqmgqqurQ1lZGQwGg6jbZL4Xi6GhIZW9iouLxbXPnz+PS5cuoaqqSkTq6+rqxHfT6UM2NzfBGENHR4dquyRJuHTp0q7KThAEQRCEmgMtLgNrG1j5+S4mDh3G8r/dxMShw9h8OZHSIDYUCkGv10OWZdy6dQuNjY2QJAkFBQUAIAazly5dQm9vLwoKCsAYg9/vh91uF2l2165dQ2trK2RZFhGTSLi4lCQJLS0taGtrg0ajgUajgd/vRygUgslkgl6vx71799DQ0CAiLrGwWq0i5aujo0OUtby8HIB6IDo0NATGGI4fP44HDx6gqqpKRP8A4MyZM2CMob6+Hm1tbTAYDJAkCV6vF4uLiyLV8P79++LYgYEBAMDx48dFJKijo0OkJyYSl4nKneh6v//+uyj7hQsX8PLlSzx8+BCMMZSVlaG7uxvfffedaiBpsViEILVarZifn0/ZznstLr1eLxhjePLkCQDg4sWLkGVZpGxqtVr09vYCCKd6Msbw5s0b1TkkScKvv/4KACgtLY3rb5n4biAQgFarhUajQVtbG27cuCHETkrictmDiUOH4T55LamNYtmppqYGWVlZUdv9fn+UuGxubo6K5vH7e/36NYqLi6PSp1tbW8V3+LGvXr2Kut6NGzeg0+lgNBrR1NSEQCCQ1N8iOXbsGBhjKCwsRHd3t0jplmUZV65cQVNTExhjok7z8vIgyzJaW1vR3d0NrVaL3NxcAOo2/fbtW0iShGPHjiEQCAAAqqurIUkSmpubcffuXWg0GmRnZ8csFxDuF2RZxurqqkpcpuJ7Sni6cnZ2Nu7du4ebN2+K/kRpg6NHj6Krqwvl5eUqm6fTh3AfuH37ttgWDAbBGMOpU6fSLjtBEARBENF8ceKyvb0dR44cwZEjR9De3p7Wd2MOUD3rmJYKMHHoMJasv6Y8iO3v7wdjDMPDw2Lb3bt3YTQa4ff7cf78edTU1Ih9AwMDYIxhdnZWDEpbW1vF/suXL0OSpJjl5uJSOTCemJgQA9MnT56AMYa5uTmxv7m5WRXBUcJFmnJu2Y0bN8AYw8LCgmog2tXVhcLCQhGd8fl84uk/f6p/9epVVbkMBgOGh4dFRFM5L40P2N1ut4jGctbX1yFJUlJxGa/cia6ntJnD4QAAGI1GMfjmFBQUQKfTAQiLS8YYJiYmACAtO++1uBwbGwNjTCwiU1BQAEmS0NbWJqKIfP/w8LDqWI4sy/jll18AfBATscjEd3k0cGRkROx//vx5yuJya/Q9Jg4dxtqtx7sSl0VFRTh27FjU9lji8tq1a1E2mJmZAWMMg4ODKCgoQGlpqWo/b4vBYBDr6+tRYkVJZFpsMn+L5NixY9BqtcKfuR3b2trEMdnZ2Th16hRCoRCOHj2qygy4ePEiNBoNgA/icnx8HJIkoby8XJzX4/FEiVwutJT1yPF4PNBoNHj8+DEAqMRlKr6nxG63Iy8vTxX5NpvNsFqtwgayLIv2xfuf1tbWXfUhWVlZ0Ol0cLvdAIArV66AMYbi4uK0y04QBEEQRDRfnLg8cuSIWGzhyJEjaX033gB19ttjcedaxhvENjQ0xB2cc0ZHR9HY2IiKigoRvVEO0HnKGgDcu3cv7pwoPqCNTL/UarW4cOGCiKCVlJSID58LFWtFS55eqsTpdIrIWGQK3cLCAu7cuYMzZ86ISF5HRwdevXoFxhgmJydjljs/Px+yLKvKxdNnX758CcZYVCowPy4Wycqd6HqAWlzyiEWk4GlvbwdjDFtbW7BYLCoxkI6d91pc8jrhKZAzMzNigAx8iADV1taKuYJK/wLCg2QeEWppaREiKRa79d1Lly7FbBeRi77Es5P3zyOYOHQ45qJaqdhJp9Ph/PnzUdtjiUuebaDk/fv3IjJvsViifLGtrU3VFnlKZSyU4jIVf4vk2LFjIioPfBB8/OFI5DVCoRAGBgbwyy+/oKioCIyxKHHJ61K50BBvx/n5+SrfjnyIoCxXRUWF+F8pLlPxvUi8Xi+6u7tx/vx5ZGdni0wBfq3IOtBoNLh+/fqu+pBXr14JG/C0bb1eD6vVuquyEwRBEASh5sCLS8//6MHEocNw/skG+zffwu9YSGkQq4wKxKK6uloIkYaGBjQ2NkYN0JWvw0hFXEai0+lgs9lQV1cHxhhsNlvUh68eqsRqtUal+/EowKNHj1Tiks9BM5vNqK2tRU9PjxCXyohWLLKzs8W8SOXn3LlzePbsWdRAGQDKy8sTistE5U50PUAtLrnYUEaBgHCkljGGtbU1WCwWMcgFkJad91pccv9INA8uJycHZWVlYrEfnn4MhNNVGWNioRue3hlrvmgmvltXVyfmgipJdc6lf2oeE4cOw/M/enYlLjUaDaqqqqK2xxKXXCgq56zyNPDx8XGUl5fDbDarzhOZYSBJEhoaGqKuB6iFXyr+Fkk8calsb/wa29vbYt7iyZMn0dzcjMrKyihxefLkSeTm5kKWZayvrwMAfvvtNzAWTi+P9OunT5+qysR9KycnR4g4SZJgMBhw4cKFlHxPCV9tVqvVoqqqCu3t7VGRS6UNgA/icjd9CAAsLS2hq6sLXV1dWF1dhdFoRE1NTdplJwiCIAgimi9OXO5lWqx/xoXJP+jg+tcLCCx7MPVX/wjnn2wpDWJ5xGFpaUls6+rqgkajwdrammreEAAxEMpEXCqfqPNUtubmZjFA5YNFIJxuVltbGzctVpZl1UIkPM13fHxcJS6PHj2KvLw88Y4/ZVosX331wYMH4jzT09OQZRlDQ0OorKyMGpz39fWhtbUVc3NzUal4/PUaicRlonInuh4QnRar0WhU4hEAvv/+eyEeItMa07HzXotLnpI7MTEBv98PSZJUKZDBYBCyLKOqqgpbW1tR/sdT/vjAuaamBgaDIeo6PMK2W9/t7OwEY0wltnmqaaoL+kz+QQdn7rldicusrKyE8+2U4vLFixdgjKleRXH16lUwxuD1elFfXy/+5hQUFIg5nXweLJ/rGkmk/yTzt0jSEZc8+sjnQgNhoR8pLkOhkIjOnjlzBsCH6L9SVG1ubqK2tjbqfbButztKgPI5k42NjSn5nhKeDbC5uSm2ZWdnpyQud9OH1NXVqRb04Q+nent70y47QRAEQRDRfHHiMhMiB6bOP50Nv4pkYQmBtQ2stfWHU/J6XyYdxPKVBS0WCxwOBwYGBkQkkQ/QrVYrlpeXMTIyAoPBAMYYhoaGdi0ujUYjxsbG4HA4RNra0tKSSIksLi6Gw+HA2NgYzGZz1KCMw+cuWq1WzMzM4M2bN2LxkZ2dHZW4zM/Ph8FgwPz8PBwOB8rKysAYQ0NDA0KhEMxmM7RaLUZGRjA2NobCwkIYDAbs7OyIgVl9fT0WFhbw9OlTSJKEO3fuiHPLsozBwUHMzc2J1wIkm3MZr9zJrhcpLrmQuHPnDlwul7Azn18VKQ7SsXMicbl26zG8fx4Rn63x6aT+5nK5VOIoNzcXGo0Gr169gsvlErbji5GUlZWJ9zq+efMGZrNZ9e7HsrIylJWVRV0nU9/lNsrJycHk5CTsdrtIdUxVXC7bWsLRy8ZubDvd8P6/w1i5cCclcXn69GkYjcao7bHE5fb2NmRZhslkwsjICJ48eQJJklBYWAjgw4I9FRUVsNvtYrGZpqYmAMC7d+9ipmVySkpKkJOTg7dv3yIUCiX1t0h2Iy5v3bqFlZUV9Pb2itVX19fXo1LduXAeGhoC8GHu5+vXrzE9PY1Tp06JBcOSoUyLBZL7nhIuLkdGRuByuYSNLBYL/H5/QnEJpN+HtLa2QpIkPHnyBA6HA4WFhZAkSaQlJyv7sWPHYLPZktqEIAiCIA4qB1Zcbjx6ER7ANj9QbZ/VlMLxN39KOogFwhEd5QvWrVYrXC4XAODXX38V6bt8QCpJEjQajRiUpisuKyoqxPlkWVY9TR8ZGRHzIRkLrzAZKyUWCIs0o9Goenl8VlYWpqenAahXluQCjR93+vRp5OXlgbHwwjazs7NiMRk+KFSunnn37l3xfUmSUFlZKeb5LS0tIT8/X3zXYDDAZDIlFJeJyp3selwscHEZCATw448/qurp7NmzYkAd6z2Fqdo5prjsGcTEocNRH1fBjyn5m16vFymYCwsLYvVQ7g/KSObi4qJqv0ajUUXolOeKJFPfHR4eVtmIp06mKi4Dq+tY/G/1KhstltalJC75iqyRcxhjiUsgPAdPq9WKsprNZtWrSXjqLP9YrVaxwipPEY/1KhLgQ7tlLDxXNpm/RVJWVpayuAwGg+KBE69vLtROnDgRJS79fj90Oh30ej2CwSCWlpbEqsDcDpEpsfEwGAyquZnJfE+Jy+US7yBljCE3N1cIxM7OzigbAGFxyV8llG4f4vP58N1334k+QqvVql6dlKzssixHZUcQBEEQBPGBAysu0/0kYnl5OeYA0efzYXFxUcxr29zczPjF9evr66pU3Fj7Y0UIlFitVhQVFQEIp4Up0zxjEQgE4HK5xCA6GAyqVmwFwhGrRPemtEMkXq8Xq6urCcsQSbJyJ7peJKFQCEtLS3EXt4lFMjtn4mvx/O3mzZvQaDSqcm5sbKgW9olkY2MDKysrqm181dFENt8L311ZWUnqiwntsOyB77Ud/hlXynbi0cjIuY3JSORP3D8i23hubi4uXryY1nWU50vH31LF4/Go6nV1dTWu+I2Fz+dL+n7LVInle7EIhUJwu90q/1paWhKp+KmQbh8SCAQS3meqZScIgiAIQg2Jyz0Ql18aSnFJ7A/7IS43NzchyzLu37+fUdkKCws/m9Uv98NOzc3N0Ol0aYmTdBkdHYUkSTEX4iEIgiAIgjioHChxGdz07WoAG9xMHH350rh69Sp+/vnnT12Mr5rd+loyf+vt7cVPP/2063J5PB4UFBRkHEHfK/bDToFAAKWlpZiamtq3cre0tKQdHSUIgiAIgvjaOVDicicY2tUgdieYWnolQXB262sHzd/ITgRBEARBEF8PB0pcAuHBbKrRkuCmjwawxK5Jx9cOsr+RnQiCIAiCIL4ODpy4JAiCIAiCIAiCIPYeEpcEQRAEQRAEQRBExpC4JAiCIAiCIAiCIDKGxCVBEARBEARBEASRMSQuCYIgCIIgCIIgiIwhcUkQBEEQBEEQBEFkzIETl/QqEuJjQa/Y2BuozRIEQRAEQXwZHChxudsXttNglUiX3foa+ZsaarMEQRAEQRBfDgdKXKYTRYqMhhBEOuzW18jf1FCbJQiCIAiC+HI4UOJyt4P9wNrGJy231+vFzMzMR7ve5ubmR72eErfbjeXl5Zj7lpeXsbi4mPE1pqam8P79+4zPk4hMfC2Rv83NzaG/vz/lcgSDQWxtbcXdv7W1hWAwKP5///49nj17lvL594JAIACHw4Ht7e3offtgQ7/fj46ODoRC6ujm6uoqdnZ2Yn7H6/XG3bezswOv1xv3epF1sL6+jq6urrjn+xxZWVnZk7YXSTAYhMfjibkv0jcjSVQn+0UiX1WSyB/4/t36E0EQBEF8zpC4XNuAb+h3rPx8F8v/dzM2un9DwLP+WYnLjo4OMMY+2vW6u7s/6vWUVFRUoKSkJOY+q9WKoqKijM6fm5sLxhgsFktG50lGLD/bePgcnpaHWG/vh++1HYHVaD9L5G87OzvIzc1FU1MTQqEQNBoNZFlWfebn5wEAHo8HpaWlYIyBMQaj0YjR0VFxrvHxcZhMJrG/qKgIy8vLcLlckCQJs7Oz+2ofJQ6HA4wxTExMRO2LsmH3b1hr6//QRpc9WLvTh41HL1Jus7/88gsKCwtV24aGhsAYw8aG+ns9PT3QaDRgjEGSJJw/f14InlAohNraWkiSBMYYZFlGV1eX+G68OgiFQjAYDKpjY1FTU6Oqs0/JmTNnUFBQsOfntdlskCRJtS2eb3IS1cl+k8hXd3Z2cP36deEPkiTh5s2bqmMy8SeCIAiC+BI48OJy5ac2TBw6DMe//6+Y+U9FmDh0GJuDYyQuv0JxyQeGL168iIpa7TWxfG1WUwr7N9/i3V/8PSYOHcb0fzgK38hkyuKyq6sLsixja2sLU1NTYIyhr68PL168EB8eISssLIROp8PTp08xOjqK0tJSSJIEj8cDr9cLWZZRWFiI0dFRDA4OQq/XIz8/HwBw7ty5jEV8OqQjLqf+aMLEocPY6H2JwNoG1juehNvv3/wpJRtOT0+DMYbx8XEAYZteuHBBDOiV4nJkZASMMdTW1sJut4t2ceXKFQDA9evXwRhDV1cX7HY76uvrwRjD0NAQgMR10NvbC1mWE0ao+Lk/B/ZDXPb39wuRxUnmm8nqZL9J5KtKf5icnMTt27fBGENnZ2dKZU/mTwRBEATxJXCgxeXWmAMThw7DffLahyjm8CT8s66UBqputxtlZWUialReXi6esAcCAVRVVUGWZTDGoNVqxUBxenoaRuP/x/LoHOsAACAASURBVN7bPjWVLeq+6w/YX/f/cL7tqju+nar54axL6pra1anO7YKiK8U+dAo5NA3NhYINLAqNLMXG3sAW3xpsbV/AFhVfUFyyEJfItmhcwhJEUWhEIcqLBIQ4xUjCcz+wxzAzCQmQIIrPr+pXBZnJzHwZY87xzDHmjA23b99GamoqNE2D3W7H8PBwyO+R4bKurg5WqxUmkwm5ubmYmJhQ75mdnYXD4YDJZEJ8fDxqamqWDVCHDx9GaWkpSktLYTKZYLFYUF5eDo/HAyA4XF66dAlWq1VdTT9w4ICa98LCAg4cOACr1QpN05CWlmbobRkaGkJGRoZax5aWFjXN4/GgoqICFosFmqZhx44dyM3NDRsuMzIyll3ucN/X3t6u1sFqtaK+vh4AcP36dSQnJ0PTNCQlJamGILDUq3LmzBmcOnUKVqsVfX19K97Oy4XLscQ/L5W9R8/w7F+2wvl/5644XFosFtTV1QFY6gExmUwAgPl54/2FMzMzQcHk1atX6rWbN29CCGEoP21tbeq1yclJCCHw4MGDkMsxOTmJ/Px8FciSk5NVWFtJ2b537x5SUlKgaRri4+NVo3ql4XLon/4Vk9kHsDD3GuMpP2Lon/51xeGytLTU0Gvd1NSE2tpalJaWBoXL8vJyWCwWw+dleQWA+Ph47N692zA9MTERpaWlEffB4uIirFar2p/+yG0ohIDZbEZxcTGApTq+Y8cOmM1m9brL5Qq5nnIebW1tsNvt0DQNBQUFhn1nsVhw/fp19Zmenh71Xk3TkJeXp4asBobLhoYGtZ+B8PU8FC6XCyaTCTU1NYZwGalsRtongXzIsmq321FSUmJ4raCgAOnp6QCiK0+EEELIp8JnHS6ndp7E0D/9K95NTq/6/i2fz4f4+HiYTCacP38edXV10DRNNcB++eUXCCFw9OhRtLW1ISsrC0IIeDweDA0NqSv2tbW1aGhogMlkUlfnA5HhUtM0nDlzBpcuXVINTI/HA5/Ph6SkJMTHx+PatWs4fvy4ukIeipKSEjVMr6mpSS2rbMT6h0s5XHDHjh24ceMG9u7dq3r/gKVGpxACR44cwaVLl5CYmAhN06DrOl6+fKmGtV2/fl29t7OzEwCwY8cOdeW+qalJDYULFy7DLXe47/v999/Vsh88eBD37t3D3/72NwghUFRUhJaWFmzfvt0QCLKzs1UgLSkpwdjY2Iq3c6RwuTD3GrP1NzD4hz9ivuf3iOVN13UIIdDR0QEA+Omnn2AymdQQO4vFgra2NgBLwwqFEHj48KFhHpqm4cSJE6ivrw/qmZZl8v79++q9x48fD7kf0tPTYTKZ0NDQgJaWFlgsFqSlpRnms1zZfvbsGYQQSE1NRXNzM6qrq9Xwx5WGy4m0Sjz5ZyveTU5j6J/+FRP/p3zF4TIpKQkHDx4Mev3OnTtB4TIvLy9o+HRDQ4PadvKCjz8FBQXIzMyMuA/ke0PV+enpaRViCgsLce3aNTWUVtM0NDQ04MKFCzCZTLBarSGHhPrvh/r6epw5c8YwzPTatWtITU2FEAJerxe6rkPTNKSkpODatWs4d+6cqteAMVxeunQJQgh1gSZSPQ/E5/MhMzMTv/zyC9ra2gzhMlLZjLRPAvmQZTU1NRVFRUWG13JyclR4jKY8EUIIIZ8Kn1y4bGxsRFxcHOLi4tDY2LiqzwY2PsdTfgzZKF1JuJRDuvr6+tRrV65cgc1mg8fjwb59+3DgwAE1rbOzE0IIPH/+XDVqGhoa1PRffvkl6N4jiQyX/g9yGRwcVEGoo6MDQgi8ePFCTa+vr4emaYZePYkMaf73MZ09exZCCIyPjxvCZXNzM3JyctQDLObn5yGEQFNTk+qJOXnypGG5EhMT0dfXp3o0/Ru/soHlcrmCGlNutxuapkUMl8std7jv899mIyMjAACbzaYampKsrCxYrVYAS+HSvyG5mu28knD55t4gBv/wR7ivdEQsb48fP4YQAkNDQ2o5NU3DpUuXVM+LnN7X12d4r8RkMuHnn39GbW1tUFlzOp0QQqCrq0ttm8CGMvA+GPj3TP30008wm80AELFsy3vs/Htb5fC/lYbL6f88h2f/shWTuYcw+j8z4dpVu6Jwubi4GLRsklDhMisrCwUFBYb3ybro9XpDzmvHjh1ITU2NuA8AoKqqatk6DxiHxba3txv2DwD1Ha2trUGflfuhqalJvZaWlgaTyaR62v/+97+rHsGhoSGkp6cbeu38e+JkuJTr738vYaR6F8jp06eRlJQEr9cbFC4jlc1I+8SfD11WDx48aOjx7+7uVmEUiK48EUIIIZ8Kn1y4jIuLUyfsuLi4VX02sPH54v/dBuf/yllTuDx+/HjYhiEAPHr0CHV1dXA4HGpYln+4lMOzAODatWvLXn2XDZDA4ZcWiwUHDx5UPWj5+flKu90esnELvB9e6s/ExITqGQscFjs+Po6LFy+irKxM9eQ1NTWht7cXQgg8efIk5HJnZGTAZDIZlksOn7137x6EEEFDgeX7QhFpucN9H2AMl7Ixd/bsWcP8GhsbIYTA27dvkZ2dbQifq9nOKwmXbwdGMfiHP2K2tiVieZP7RIYfp9NpGBIpe56qq6vVvV3+5QtYCjZHjhxRvez+yF4a2SOdn5+vhvMF4vP50NnZiZ9//hm5ublq+CaAiGU7PT09KLTKXr7VhEvXrloM/uGPmK48u+JwKYf7hnrabqhwmZ2dHVQWZa+dz+eDEAJnzpwxTC8uLkZaWlrEfQBA9SYu9zAa/3B57NixkMcbk8kUsudc7oenT5+q1/Ly8uBwONT/Dx8+VOESWCpDLS0t2LdvH1JSUlSPPfB+hIJ0fHxczSdSvfNHXiSR9T4wXEYqm5H2SSAfsqzOzMwgPj5efYfs9ZTfF015IoQQQj4VPutwOZFRhaf/43+vKVz6XwEPRVVVlQoix48fR11dXVC49P85jJWEy0CsVivKy8tRU1MDIQTKy8uDlE8P9aekpCSoV0H2JN68edMQLuX9Tna7HdXV1WhtbVXh0r83NhQpKSnqvkh/KysrVa+J7EWUFBcXhw2X4ZY73PcBxnDp8XgghMClS5cM82tuboYQAnNzc8jOzjbcQ7Wa7byinsvOh0sPp2ntiljeZPlY7mcbgPfD8uTDfvyHJS4sLKjGq2zQ+vfIyOHPsqG93HC8d+/eqfvydu3ahfr6epSWlgY12Jcr2ykpKYaAA0At72rC5fyDJ3D+P/+Ot4OjKw6XY2NjEGLpIUiBhAqXxcXFsNvthvf592yFCnbp6enIz8+PuA+A90Mil7s32j9c1tTUqHts/bFYLKiqqgp6PdR+yMvLM5Rn/3D5/PlzdR/m3r170djYGNRzKUcaaJpmqIeR6p0/xcXFanRCfn4+kpOT1XFyYGAgYtmMtE/8+dBlFVga2dHe3o6LFy9iZGQEVVVVSEpKUuu+1vJECCGEfCp8cuEylsNiZ6obMfiHP+LtwOiqw6Xs4ZqamlKvNTc3w2w2Y25uDkK8v18JeD8ELZpw6X+FfXZ2FkIs3fckA5Hb7VbTh4aGUF1dveywWJPJZPitNjnMd2BgwBAuMzMzkZ6ern6TzX9YrHxy4o0bN9R8RkdHYTKZ0NPTg9LS0qDGVHt7OxoaGvDixQtD4xmA+nmNcOEy3HKH+z4geFis2WwOegDHnj17VGMvOzvb8DCN1WznlYTL6f+ox+Af/gjP07GI5U0OyR0cHITH44GmaYbhfl6vFyaTCXv37sXbt2+Dyp8cQtnZ2Yl//OMfEEKgu7tbTT958iSEEOrppUlJSSHDgeytlj2cwFLwWWmDfefOnbBYLIZAJcv3asKl/2srDZdv3rwJ2VsNhA6Xcgik/xNds7KykJycDGBpmKl/r9L8/Dw0TcOhQ4ci7gNgaThpYmJi0LJI/OvH1atXgy7kyJ7YCxcuBH12teFS9sq/efNGTU9JSTGESzlqQO4v+TCgSPXOn8bGRkMAlfeil5eX4+nTpxHLZqR94s+HLqstLS2GWyGApYf0VFRUAIiuPBFCCCGfCp9cuIyGwMbnu4lpPPln61IPyKNn8IxOYHpvA94+ehaxoSqfBpmdnY2RkRF0dnaqnkQ55LKkpATT09N48OABEhMTIcTSY+XXGi5tNhseP36MkZER5Ofnq3Arh0Tm5eVhZGQEjx8/ht1uVw+6CUTeu1hSUgKn04mHDx/CarXCZrNhcXHREC4zMjKQmJiIsbExjIyMoKioCEIIHD9+HD6fD3a7HRaLBQ8ePMDjx4+Rk5ODxMRELC4uqsb0kSNHMD4+jjt37kDTNFy8eFHN22QyoaurCy9evEB5ebnqxVjLckf6vsBwKRutFy9exOTkpNrO8p64wHC5mu28XLh8bi7A65v/wHT5maWnnv5/+1d0MSNwSGdaWhrMZjN6e3sxOTmptp18gExRURE0TcPt27fx8OFD2O12mEwmzM/P4927dzCZTEhKSsKDBw/Q0dEBTdMMv/2oaVrI0CIb7OfPn8fMzIwa1qhpGtxud8SyLT9fXl6OFy9eoKurSz1Reb3DJbB8T1+ocCnXxeFwYGhoSD3k5vTp0wCA8+fPQwiBU6dO4cmTJ+qJs/39/RH3gZwe6r5W/31QWVmJ4eFhVfbsdjuGhobw9OlTpKWlqZ82CWSt4fLBgweYnJxUdSM7Oxsej8fwQJ/FxUX1oJzZ2dmI9S4cgcNiI5XNSPvEnw9dVuX86uvr8fz5czXSQd6DGW15On78ODIyMkJeMCSEEEI+Fj7rcLkw9xpvuh7j2b9sxeAf/ojBP/wRT/7ZuqJwCSz1Rvr/IHZJSQkmJycBACdOnIAQ7+9ROn36NDRNg9lsxvDw8JrCpcPhUPMzmUyGIXcPHjxQ90MKIZCTkxNySCywFNJsNpvhh8qTk5MxOjoKwPi0WNlQlO/74YcfkJ6eDiGWHmzz/Plz9TAZ2Rjt7e1V33XlyhXDj4qXlpaqe8ympqaQkZGhPpuYmIikpKSw4TLcckf6Ptm4k+FyYWEB+/fvN+yniooK1XgLDJer2c7LhUtZzkb+r/+D6f+ox8LM3IrCJbDUCyKf4Do+Po60tDRDefDvyXz58qVhutlsNvQG9fb2wmKxqOl2u13deyeHGvvvR4nX61UXNuR8ZRDZuXPnisp2Y2OjoUwVFxdDiND3BweFy//xvzG9t8EYLktXHi7Ly8tDDveV4TLwdyflME1pSUkJFhYW1Lb44YcfDNP9e0Uj7QP//RmK3bt3q4tKwNI93PIilRAC8fHxhgeK+RNqP4QLl5OTk+p+QSEE0tLS1AWLq1evBv0UibwP8ocffgAQvt6FIzBcAuHLJhB+n/jzocsqABw9etRwTggcXRNNeZLfLX/LlhBCCPkY+ezDpdQzMo75h8NYmJ5dcWNfMj09HfJq8vz8PF6+fKmGVb158ybsj6avBLfbbRiKG2p64O8eBlJSUoLc3FwAS0HCf5hnKBYWFjA5OamGo3q9XsMTW4GlXr1w6+a/HQLRdR2vXr0KuwyBRFrucN8XiM/nw9TU1Ioaw5JI2znSMOvVDsMGgHPnzsFsNhuW8/Xr18v+1qGcPjMzs+z0UNvxyJEjQcMcA5mdnTXss1evXhmGK0dicXERk5OTEbd5rLfh77//DiGMD7qJhCwfy/UYeTyesOUt1D6QTxJdbbmX85ubm1v15yLh8/ngcrkM9XhqakoNiV8Jq6l3kQhXxyPtE38+VFn1Z3p6etntFm15IoQQQj5mGC6jaKh+qviHS7I+rEe4fPPmDUwmk+GH72PN27dvoWmaoYdtI1mPOpuXl4eysrIPuBbB5OTkGO7HJIQQQgjZDHxW4dL7Zn5NjVTvm/A9gZ8aJ0+exOHDhzd6MTY1ay1rkcpbW1vbuj7g4969e9izZ8+6zX+1rEeddTqdyM7O3rCeodnZWWRlZUU9ioEQQggh5GPjswqXi17fmhqqi14OTyKrY61ljeXNCOssIYQQQsinw2cVLoGlxupKe0O8b+bZSCVrZjVljeVteVhnCSGEEEI+DT67cEkIIYQQQgghJPYwXBJCCCGEEEIIiRqGS0IIIYQQQgghUcNwSQghhBBCCCEkahguCSGEEEIIIYREDcMlIYQQQgghhJCoYbgkhBBCCCGEEBI1DJeEEEIIIYQQQqKG4ZIQQgghhBBCSNQwXBJCCCGEEEIIiRqGS0IIIYQQQgghUcNwSQghhBBCCCEkahguCSGEEEIIIYREDcMlIYQQQgghhJCoYbgkhBBCCCGEEBI1DJeEEEIIIYQQQqKG4ZIQQgghhBBCSNQwXBJCCCGEEEIIiRqGS0IIIYQQQgghUbNu4XJiYgJtbW24desWRkZGgqa/ePECr1+/Xq+vJ58Qb968gdPp3OjF+OB8ynXgU152ybt37zAyMoK3b99u9KIAAFwuF1wu10YvxiePy+XC9PT0uszb6/ViZGQEHo9nXeYfjnB1zu1248WLF8t+NpZlK9J3bTa8Xi/6+/s3vG4uLCxgbm7ug32fruvLTvP5fJifn192+rt37/Du3btlp8/Pz8Pn80W1fISQj5eYh0uXy4W0tDQIIQzm5OTA7Xar91mtVpw8eTLWX08+QVpaWiCE2OjFiDmNjY1obW1ddrp/HZiYmEBVVVXYxsOBAwfw6NGjmC/nWlhN/e3q6sKxY8fWeYlWz5MnTyCEwO3btz/I90XaDmVlZcjKyvogy7KRRKoX0eJwOJCfnx9y2krqWTieP38OIQQeP34czSKuCf86F1iWGhoaYDKZlv1sNGVrtd+1mXC5XNA0DUKIDW+vHDt2DElJSWHfE235BoD6+nq1zpqmGfb969evUVpaqtp1VqsV3d3davrIyAgyMjLU9IyMDIyNjanpnZ2dsFqtanpZWVnYkEoI+TSJabh0u90wm81ITU1FX18fvF4vfD4furq6YLVakZGRod7b3t6OJ0+exPLrySfKZg2X2dnZKC0tXXa6fx14+PAhhBAYHx9f9v1CCDQ3N8d8OdfCaupvXV0dLBbLOi/R6vnQ4TLSdnjw4AG6uro+yLJsJJHqRbSEC5crqWfh2Mhw6V/nAstSpMAXTdla7XdtJi5evAhN06Dr+ob0tM3Pz+Ps2bMq0EUKl9GW7xs3bkAIgaamJgwODuL48eMQQuDmzZsAgJycHFitVvz973/H4OAgysvLIYTAs2fP4Ha7YTKZkJubi0ePHqG3txfp6emIj4+Hx+PBgwcPIIRATU0NhoaG0N7eDrPZjJ07d65pWQkhHy8xDZcVFRUQQmB2djZoWldXFwoKCjA1NQUAyM3NRVNTExoaGmC32+H1etV7b926haSkJMzPz8Pr9eLIkSOwWq0wmUxwOBxq/tevX0d+fj4aGxuRmJgITdNQWFi47NChhYUF7N27FyaTCUIIWCyWZRvrV69ehcPhQGdnJ+x2O+rq6uD1enH48GHEx8dD0zSkp6ejv79ffSY1NRVNTU3Izc2FpmlITk7G6Ogo9u3bB7PZDJPJhAMHDqj3T05OIj8/X10lTE5OxsDAwJrWbd++fTh69Cj27t2rvqumpsawbH/729/U/9PT07DZbHjy5AlGR0dhs9nQ1tYGu90OTdNQUFBgWD6LxYLr16+rz8/OzsLhcMBkMiE+Ph41NTXq5FteXo4zZ87g1KlTsFqt6OvrQ09Pj5q3pmnIy8tT+3G14bKpqQlJSUnQNA3x8fFoaWkxLNeOHTtgNpthNptRXFyshjPJ9bx9+zZSU1OhaRrsdjuGh4fh8XiQlJSEK1euGL4rMzMTZ86cAQAMDQ0hIyNDfc7/ewPXWe4zTdNgs9lCDjGSdeD69evqam58fDxOnz5teJ9cbiGEWicAEctjIOH2QaTys9yyR/psVVWVqm82mw337t0DsNSIkfswOzvb0CM7NTWFoqIiVbaamppUWZXrvdwxIVS9XY7AcBlpG2RlZeHIkSPIzMyEpmlITEzE2bNn1fR9+/bh4MGDhu/IycnB1atXl90O/hw7dgw//vgjgKUhaTt27FD7KiUlRR0bQnHp0iUkJyer48Qvv/yC8vJyAEvHkvT0dMP7jx49qqaHOy4+efJEbfucnBzk5+dHPI6mpqaiubkZeXl56tjR1tYGAIbyJ+tFuP0JhK93Ho8HFRUVsFgs0DQNO3bsQG5ubshwuVw9C3fMCESGy+PHj6vym5KSYghukdZHMjAwAJvNpvar1+tFUlISfvrpJ/WeM2fOIDs7G8D7OheqLMnAd+zYMZhMpqDzhX/ZWs25ZS3fBYSv3/6stnyFO4ZLent7VXlJSUnBxYsXkZycrKaHO3f5c+jQIcO69/T0hDy3DQ4OqmOC1WrFoUOHsLCwYFje1Zxb/Xn79i1qa2tRW1uL1NTUsOFyufIdbvkC2bdvH0pKStT/Pp8PQgjU1dXhzZs3Knj6o2kajh49is7OTggh8Pz5czXt999/hxAC9+7dw08//QSz2Wz47Llz5yCEMLT/CCGfPjENl0lJSSgqKlrRe+UQH3k1y//kXFRUpIbwVFVVQdM01NfX48qVKzCbzUhJSQGwdAVVnnyuXLmCw4cPqxN/KH755RcIIXD06FG0tbUhKysLQoiQ98/U1dWpE2dubi66urrUVbrq6mo0NzcjOTkZQgiMjo4CgAqJVVVVaG5uNpyYLl68iN27d0MIgfv37wMA0tPTYTKZ0NDQgJaWFlgsFqSlpa1p3QoLCyGEQGZmJpqbm1FcXAwhBHp7e9WyXbp0Sb1/bGwMQgj09/djaGhIDYGpr6/HmTNn1LCV3NxcXLt2Dampqeok4PP5kJSUhPj4eFy7dk1d3ayurgaw1DMhT3IlJSUYHh5WJ/pr166pE8qRI0cArC5cXr9+HUII7NixA9euXUNubq5aT5/PpxpLDQ0NuHDhAkwmE6xWK7xer2E9a2trVSNJ9qhnZ2cjNTVVfZcMH319fXj58qXaHtevX0dZWRmEEOjs7Ay5zrJxabPZcPr06ZAnc1kHHj16pC7MHDx40DDMCFi6EHDq1CkIIVBYWIhr164BQMTy6I+u62H3QaTys9yyR/rsrVu3kJOTA03TcOrUKTidTty+fVvVk5aWFqSnp0PTNExNTcHr9cJqtcJisaCxsRF1dXWqLMrgHO6YEKreLkdguIy0DcxmM4QQKCgoQHNzM3bt2gUhhKpXhYWFKvhLzGYzTp06FXI7BOI/dHH//v3QNA2NjY1oaWlBYmIirFZryPVobm5WQ8yam5vVsLScnBwAoXuadu3apaaHOy7K47PVakVycjLOnz8f8Tgqj4Pl5eW4evWqCr2yFyawXoTbn5Hq3Y4dOyCEwLFjx9RFJyFEyHAZqp5FOmYEIsOlEAIHDhxAc3OzOjYODQ0BCF8+/fF4PKrhDgCPHz9Wx3xJSkoK9uzZA+B9nQtVliKdL/zL1mrOLWv5rnD1O5DVlq9Ix/CRkREIIZCeno7m5mbs2bNH7S8AEc9d/nR0dKgLxadOncLz58+DjvN9fX3qHN/c3Ky2heyZX+25NRzV1dVhw2Wo8j0xMRF2+ZbD4/HgyZMnavvJ+4yFELhw4YJ6n9frhRACu3fvRldXF4QQhqDf39+vRtwcPnwYJpMJi4uLaro8r01MTIRdHkLIp0VMw6Wmadi3b5/6f2xsDDk5OQZlQ02eKBcXF2GxWFBRUQHg/Qm3qakJs7Oz6sAkGRgYgBACDx48UCc5eVIHlgJbYWFhyOXbt2+foecw1JU2iWzUNjQ0AABevXoFIQR+/vln9R7ZYJcnf03TDFf9jhw5ooaM+K9bc3MzfD4fMjMzDVfh/a/srXbdCgsLYTKZVANvfn7esPwrCZf+VyTT0tJgMpnUFd2///3v6iTQ0dEBIYThoQ7yPg2Px4Ps7GwIITA4OAhg6QSbnp5uOOnY7Xa1rVYTLm02m+Heobdv3yIlJQXnzp1De3t70IUKefJvbW1V6ym3CbDUsNY0DcD7Rrp8GMjJkydhNpuxuLiIAwcOBDU48/LyVK9C4DrL18KdxP0D2mqHxa6kPPoTaR9EKj/hlj3SZwOH1SUlJRm2y/z8PEwmE+rq6tQ+9N+O9fX1qqxGOiYE1ttwhAqX4dbDbDYjKSnJ0MuRn5+v1i1cuAy1HQLxDwBFRUWwWq2qx/vx48eoqKgI2QC12WyGMOXxeKBp2orDZbjjomz8FxUVqfWOdByVvTOSnp4ew7HMv15E2p/h6p3L5TKEM2Dp1gxN01Y8LDbSMSMQGS79z3Mejwcmkwm7d++OuD6BFBQUGEKfDC6Tk5Oqp6ijowOAsc6FGqoa7nwRKlyu9Nyy2u8KV78DWW35inQMlz2t/heM5QVIABHPXYGcPXvWUHcCj/PyQoJ/z3Rtba3ah6s9t4YjUrgEgst3pOVbDhkUZYiW9S85ORlWq1X17B87dgxCCOTl5alzUmFhIRYWFuDxeJCTkwMhBOrr69W2r6+vB7A0cktesAs3KoMQ8ukR03BpNpuxe/du9f/Y2BgcDgccDgeKiooghFDDo/xPlDU1NaoRL08kbrcbvb29EGLppvD8/HylPLk0NDSok4rEv9EUikePHqGurg4Oh0NdYQ8XLuUTz2QDyb/RCwDbt2+H3W4HsNSounjxoppWX18f1Kjzb3j4fD50dnbi559/VidA/3C5mnUrLCwMalD5N2xXEi6fPn2qpufl5cHhcKj/5UlrYmJCXe313yd2u101OLKzs1UPrETXdbS0tGDfvn1ISUlRJy1g5eFSDtE5f/58yOnHjh0L2mYAYDKZUF1drdbT/0R27do19d26rkMIoYbG2u12NUQtIyMDJpPJsM5Wq1V9X6h1Xs9wuZLyGEi4fRCp/IRb9kif9W+cyivdMhBJZSA5evRoUJ2RIbC/vz/iMSGw3oYjVLgMtx5mszmod0dekHjz5k1Mw6Xs/dE0DUVFRbh06VLIodVyezY2NhpeLyoqWnG4BJY/LsrG/z/+8Q/D58MdRzVNU0PJAeOxBjDWi0j7mHoWzQAAIABJREFUM1y9u3fvXlBPCQD1vlAE1rNIx4xAZLgM7NEvLS1FcnJyxPUJRB5/3r17h+LiYhw9ehQWiwWtra3qXCifZhwpXIY7XwSGy9WcW1bzXZHqdyCrLV+RjuHp6enYvn27YV7nz59X0yOduwIJFS79j/NyP/sje0/v3Lmz6nNrONYSLiMt33J4vV7MzMygra0NQgh18b+3t1ftD5PJpIYWy/OIHBEjh77Lhzs2NTVhcXFRjQ6Ro7rS09OXbYMRQj5dYhous7KyEB8fbxj2IBkdHV02XA4PD6vGR3l5uToY3r17F0IIFBcXo7y83OCdO3dW1Gjyp6qqSp1Yjh8/rhqiy4VL//sD5LL4nySApUaFzWYDEBzg6uvrg+4xkAHh3bt36h6MXbt2ob6+HqWlpYZwuZp1i9SwDVw22UjyD5eyhxVYOgH698L6nwBramoghAjaJ+Xl5RgbG0N2drbhs8+fP1f3luzduxeNjY1r6rmUPUmB93xIampqQj5owmKxoKqqKuR6+jdMgPeNctkrIhsxKSkpsFgsQetbWVkJAEHrLF9br3C5kvLoT6R9EKn8hFv21YQq2XufmpoatC0bGhpQXV0dtA/lfuvv7494TAist+EIFS7DrYfZbA7qfWltbYUQAjMzMzENl8BSI/DYsWOqgWY2mzEzM2P4zNu3b0PWicLCwrDhsqSkRE0Pd1yUjX//Y2Sk42i4C1mAsV5E2p/h6p3s8Qn8qavi4uIVh8tIx4xA5HHz4cOHhtd//PFHxMfHR1yfQGZmZiCEQE9PD0wmE7q6ulBaWory8nIcOnTIsB6RwmW480VguFzNuWU13xWpfgey2vIV6Rhut9uxY8cOw3fInlYAEc9dgYQKl/7H+ZSUlKA6L4eitre3r/rcGo61hMtIyxfI7du3g0L23r17Dft/amoKzc3NaG5uxqtXr2Cz2Qw9zUNDQ7h06RJu376NqakpCPG+931xcRHd3d1oaGjA/fv31ciBcD97Qgj59IhpuJQhwf/BMZL9+/cvGy6BpaFd1dXVMJvNajiSPAjK+2uApd9ErK6uxrNnz1Z1kpRXVOU9ZsD74SjLhUv/A+qLFy+CGnE+nw/x8fHqPtPVhEt5hdv/iq3swQViHy4DhyXJnpG1hEvZW+P/0zJDQ0Oorq5Ww2L9Q5W8WvzmzRv1WkpKypqGxZpMJvUgEmBpv9psNtTW1uLq1atB+3NychJCLN0nspJwKU929fX1hnvcSktLg3oE29vbVYMpVJBcz3C5kvLoT6R98KHCJbDUcA/sFZLDppqamiCEMDT05NXw/v7+iMeE1TyZdi3hMjC07Nu3T5Wf4uJiNUwaAObm5iCEWFO4rK+vNwzVlL1YoR78YTKZDOVsYWEBJpNJHSsuXboEIYz3dCUlJRl6mpY7LsrGv2z4ruQ4uppwGWl/hqt3sg74D0H1+Xwh95MksJ5FOmYEIsOlf8+s3J55eXkR1ycUsh4KITA/P49r164hMTERSUlJhvr9KYRLIHz9DmS15SvSMXzHjh2wWCyGC9wFBQVqeqRzVyChwqV/Xdu5cycsFouhbskLTk+fPt3wcBlp+QJJSkoyHMMAoLKyUu3/mpoaQ5mUF2Hb2towPz+PkpISw/Dvv/3tbxBCwOVyYWBgACUlJYYhuuXl5UhMTAy7ToSQT4+Yhkufz6eG2509exZOpxPDw8M4ePAghBBhw6X/gzv8f/coKysLVqsV9+/fx+joKHbv3g2z2QyPx7OmcFlSUoLp6Wk8ePAAiYmJ6qpxIKEagllZWTCZTLhz5w4mJibUzfOyEbiWcHn+/Hk1/EQOJXG73TEPl3a7HYmJiRgYGMCjR48QHx+/5nAp7+3Ly8vDyMgIHj9+DLvdrr5/uXD54MEDTE5O4uTJkxBCIDs7Gx6PxxAuJycnkZGRETTMT3Lo0CHVyB4ZGVFl6+XLl2q57HY7hoaG8PTpU6Slpal7TlYSLuX9akIsPVBCIu/DOnLkCMbHx3Hnzh3DMOhQQTI/Px+pqano7+8P+TRC/zog78u6evXqso0MTdNQWVmphgFGKo/+RNoH6xkuz5w5A03T0NvbC7fbrb67tbUVExMTqmfhyZMneP36NTRNQ2pqKu7fv4/W1la1P2Q4CXdMCKy3hYWFhosR/qwlXMoLDxMTE6rhtHfvXgBLjT8ZLJxOpxoCttx2CMQ/ABQUFMBqtWJgYACzs7NobGxc9lglH4By/vx5PHz4UD2ISB4rZDCtq6vD2NgYTpw4oaZHOi4u1/gPdxyNFC4D60W4/Rmp3slhs11dXXjx4oV6yNVy4TKwnkU6ZgQiw6Wmabh9+zYmJibUvfW3bt0CEL58hkKe+2SI9n9okP9Ta/3rXGBZWs9wudrvCle/A1lt+Yp0DJe3C/z444949OiROu7J6ZHOXYFECpeyfJaVlWF8fBxdXV0wm81q6OyHDpeB5TvS8gUie3br6urw/PlzFUTlMVQOie7o6MDIyIh62JMcul1QUICkpCT09/fj4cOHsFgsKqzKe5NLSkowMjKifvbE/6J3uOM1IeTTIabhEnj/aHjZIBRiaThXd3c3kpOTlw2X8opv4P0SU1NT6mlx8gQshxfJJ/v5s2vXLuTm5oZcNtmokp4+fRqapoUcRhcqXLpcLnVvpGxg+Ieg1YRLr9er7sWR20ielHfu3LnqdSsqKgrZMJY3z3d1dRn2idwWjx49UsOSV3MCfPDggeHHkHNyclRvU+AJeHJyUoVZIQTS0tJUI/Dq1auGcPn06VMIIQyP4/dnfn5ePaVTCBF0df/Ro0eqMSLE0iPZ+/r6ACDkegaGSwDqqb6Bw+2uXLmitqGmaSgtLVVXhEOFS9kLJ4QI+Zh//zowPz+vfm4k1HA8/+WSw14jlUd/Iu2DSOUn3LJH+uzg4KC6x6a9vR3v3r1DZWWlWhaLxWL4nkePHqmnfppMJlUv5P2l4Y4JgfXWZDItew+qLA8yXEZaD7PZjOzsbLUu8nglh3QFbuOSkhLYbLZlt0Mg/gFgbGxMPf1XevDgwZC3HPg/cVUIgaysLMPQUJ/PZzjWJCcnq5/sAMIfFwMb/5HeDywfLuXPUQTWi3D7Ewhf76ampgw/2i57/JYLl6HqWbhjRiCyt9ThcBi2wYkTJ9S+ibQ+gchjnv/P2JjN5qBy61/nAstSpPOFf9la7blltd8VqX77s9rytZJj+NWrV2GxWNS+PHTokOEe0XDnrkACg3So47z/k+Fl/Xv58iWA0OectYbLmpqaiOEyVPkOt3yBvH371nB+le0RecF/fn4e27dvV/XRYrEYfmbmyZMnyMzMNJxn/C/StLW1qWO7EAJ79uwxXHgNd7wmhHw6xDxcSnw+H0ZGRsI+kWw1zM/Ph7ySvJb5vHz5Uh3Q3rx5s+rx/h6PZ9nfQVsts7OzePXqlfr/1atXK3oYyVrwer2YmJiI6W9Kud1uQ0/zcvh8PrhcLsO2npqaCtlYPnr06LK/PypZWFgwbLdAXr9+jbm5uYjLtRb8y8/HwErL42r2wYfA6/UGNXJcLhdaWlowPz+venrkUOXA+h+rY8JKkUHT5/NhfHw8ZE/U4uIipqamVlQnVsLs7CwmJiaW7fUCloYNyqFo8thhs9lUj6rk1atXy9aJ1R4XY3EcDTXPcPszXL3TdT3s8WAlrPaY4fF4MDExsewyfejy+bERqn6vlLWWr99//11dLJJ1Zu/evSHvQ1/puWulTE9Pqx68j5HVLN+7d+8wMTGxbFtkYWEhbNmen58Pu79mZ2eX/a1NQsinz7qFS0LWwtjYGFJSUkIOGySbH/k4++3bt6Onpwetra0wmUzL9qp8SML15G4k+/btg6ZpaG5uRk9Pj/otyOV+uJ6QzYp8lsDx48fR19enfsboY6y3hBCyWWG4JB8VG9WLRj4eenp6kJWVBbPZjMTERFRUVKxbL/RqKCoqUsP6PyY8Hg9++uknxMfHw2w2Iz09PeTDUwj5HGhqakJycrIaYilHGxBCCPkwMFwSQgghhBBCCIkahktCCCGEEEIIIVHDcEkIIYQQQgghJGoYLgkhhBBCCCGERA3DJSGEEEIIIYSQqGG4JIQQQgghhBASNQyXhBBCCCGEEEKihuGSEEIIIYQQQkjUMFwSQgghhBBCCIkahktCCCGEEEIIIVHDcEkIIYQQQgghJGoYLgkhhBBCCCGERA3DJSGEEEIIIYSQqGG4JIQQQgghhBASNQyXhBBCCCGEEEKihuGSEEIIIYQQQkjUMFwSQgghhBBCCIkahktCCCGEEEIIIVHDcEkIIYQQQgghJGoYLgkhhBBCCCGERE1Mw+XMzAxGRkaWdXFxMZZfFzPk8vl8vo1eFEIIIYQQQgj5JIlpuCwrK4MQYlkXFhZi+XUxwev1quUbHx+Pal43b96EEAI1NTUxWjpCCCGEEEII+TRYl3BpMplQVFQUpNfrjeXXxYRow6XP58M//vEPXLhwASaTCUIIVFVVrcOSEkIIIYQQQsjHy7qEy8zMzJDTnz9/DrvdDrvdjnv37gEAdu7cCbvdjiNHjgAA7t+/j/T0dGiaBiEEEhMTcfXqVQBLQU5+vqWlBYmJiTCZTCgrK8Pz58+RnZ0NTdOQmJiIu3fvAgDq6+tht9tRW1uLzMxMaJoGu92OtrY2AKHDpdvtRllZGSwWC0wmE4qLizE1NRVynebn54N6aP3DZUdHB7Zv347KysoYbGFCCCGEEEII+ThZl3BpsVhQW1tr8M6dOwCA0tJSCCFgtVrR1NQEIQQ0TcPk5CRcLpcKaOnp6cjPz1f/j46OGoKg7CH1/18GUvn3wsIC9u7da3jNbDar/3t6eoLCpdfrhc1mU/OX87RYLPB4PEHr7PP5cPv2bdy+fRs5OTlB4bKurg5CCJjN5lhuakIIIYQQQgj5qPhg91xWVFQAWOoVDAyFV65cAQD09PQgIyMDxcXF6uE/8r23bt0yBMH6+noAQHFxsQqCuq5jdHRUvWdkZESFS7PZjNnZWSwuLqKgoABCCBQUFASFy+bmZgghkJKSgnfv3sHj8aiw2dTUFHb95Xf5h8tr164hKSkJubm5sdzUhBBCCCGEEPJRsW49l0ePHjXY2dmp3tfe3m7oofR/iuzY2Bjq6+uxe/duJCYmqve1tbUZguDIyAgA4MSJEyooSuR7BgYGVOCT4RYAOjs71XIGhkv/MJqWloa0tDQVcEtLS8Ouf6hwSQghhBBCCCGfAx/0nkuJHA4rhEB8fLwabvrw4UP1emJiIkpLS1WwCwyX8v7I2tpaCCFQXFys5i+HsvqHy0OHDqnp9+/fV72dgfOUw3ZNJhMyMjIMHj58OOx6MVwSQgghhBBCPlfWJVymp6fjzZs3QQLAy5cvDfdGCiHw008/AQCqqqoghIDD4VDzjFW4tNvtqof05MmT6rXAecp7JFNSUtT8ent7cerUKfT19YVd/1Dh8unTp2hublYPECKEEEIIIYSQzcgH/Z3LiYkJ5OXlQQiBtLQ0dHR0qGn9/f2orq5WvZatra2G+bW2tkYVLoUQyM7ORnl5ufr/4sWLQfN0uVzq85mZmYZlePz4cdj1DxUu+UAfQgghhBBCyOfABw2XFy5cCLpn0uFwqOGxY2NjsFqthiGz8r7Lurq6kOFShrdI4TI9Pd3wpNiKigp4vd6Q8+zp6TEsR2JiIpqbmyOuf7hwabFYYrmpCSGEEEIIIeSjIqbhMhb4fD6MjY0t+7uSq0UGvr1792JxcRFjY2N4+/btij776tUrTE9Px2Q5CCGEEEIIIWQz89GFy1jjHy4JIYQQQgghhKwPmz5cdnR0oKamBh0dHRu9KIQQQgghhBCyadn04ZIQQgghhBBCyPrDcEkIIYQQQgghJGoYLgkhhBBCCCGERA3DJSGEEEIIIYSQqGG4JIQQQgghhBASNQyXhBBCCCGEEEKihuGSEEIIIYQQQkjUMFwSQgghhBBCCIkahktCCCGEEEIIIVHDcEkIIYQQQgghJGoYLgkhhBBCCCGERA3DJSGEEEIIIYSQqGG4JIQQQgghhBASNQyXhBBCCCGEEEKiJubhUtd1DA4Ooru7G3fv3qWUUkoppZRS+hHY3d2NwcFB6Loe6xgIIMbhUtd1dHd3w+l0wu12Q9d1SimllFJKKaUfgW63G06nE93d3dD12AfMmIbLwcFBOJ3ODd9olFJKKaWUUkpD63Q6MTg4GMsoCCDG4bK7u5s9lpRSSimllFL6Eet2u9Hd3R3LKAggxuHy7t27G76hKKWUUkoppZSG9+7du7GMggAYLimllFJKKaX0s5PhklJKKaWUUkpp1DJcUkoppZRSSimNWoZLSimllFJKKaVRy3BJKaWUUkoppTRqGS4ppZRSSimllEYtwyWllFJKKaWU0qhluKSUUkoppZRSGrUMl5RSSimllFJKo3ZThUu32x3Sjd7I0epyuXDu3Dn09/dD13XcvHkTf/3rXyOu+0qnv379Ouz0q1ev4r/+67+g6zp6e3tx7tw5zM7Obvh2oZRSSimllH48bqpwKYQI0mazfbCNef/+fWzbtg21tbUxne/w8DCEEPj111+h6zq+/fZbfP3112p6W1tbyHUfGRlZ0fSqqqqgaV9++aWa/xdffIHc3Fzouo7Dhw9DCIGJiYkNL7yUUkoppZTSj8dNFS7/9Kc/ITs7WwWk/Px8VFVVfbCNefPmTQghkJOTE9P5RgqXLpcL/f39OH36NIQQuH37Nvr7+zE3N7ei6S9evEB/fz8cDgfi4uLQ39+PoaEhNX+GS0oppZRSSmkkN1W41HUdTqcTQghommZ4va+vDwkJCcjPz0dOTg40TcPOnTvx8uVL6LqOGzduICEhAbt378Z3330HTdOQkZEBp9MJXddx4sQJJCQk4PLly9B1HXv27EFCQgI6OzvhdDqRkJCALVu2qGCbkJCAhIQE1TsoPXr0KA4fPmwIb5GMFC6lra2tEELg6dOnIecTaXpFRQW++OKLoNcZLimllFJKKaWR/GzCZVdXlwp+W7duRVxcHIQQ+Mtf/gJd13H58mU1/euvv1bTKysroes6KisrIYRQQ15zc3MhhMCNGzcwPj4Oh8OBb7/9FkIIbNmyBQ6HAw6HA2NjY4blkN9x69atFa+Ty+VCQ0OD4Z7LlpaWoPetV7gMvOeyoaEBr1692vDCSymllFJKKf14/OzCZVxcHF6/fo3a2loIIbBnzx7o+vtwuWXLFrjdbvT19amgqevhw6X8jpUMi/3mm29gs9nQ1dUV8525XuGSUkoppZRSSiP52YXLrVu3Qtffh8k///nPhv+zs7Oh6zrm5uZUL+PMzEzMwuV6ynBJKaWUUkop3SgZLgPCpQxXAwMDEELgq6++gq7r2L9/P4QQOHToEHRdR0JCQlC4lE9l/f7775ddvqamJly+fBmjo6Mx35kMl5RSSimllNKNclOFy++//x5bt25VPY7fffcdysrKoOsrD5dCCGRkZODLL780DJuVwWzLli3Ytm2beq9/uJRDaYUQKCsrw4EDB4IefLOWey4j6XK50NfXh7q6Oggh0NbWhr6+PsPTYsNNdzqd6Ovrw7Zt2xAXF4e+vj4MDAxseOGklFJKKaWUfjpuqnAZ7ncuVxouv/nmG/Uwny1btqiQNTU1pR7YExcXB5vNBiEEbt68aViGyspK9XkhBJ48eRJyGdvb22O2E9f7dy4ppZRSSimlNJKbKlxGowyXJSUlmJubw9DQENxud9D7nj17FvJ1SimllFJKKf2cZbj8b/3D5UbvFEoppZRSSin91GS4/G9/++035OTk4NSpUxu+UyillFJKKaX0U5PhklJKKaWUUkpp1DJcUkoppZRSSimNWoZLSimllFJKKaVRy3BJKaWUUkoppTRqGS4ppZRSSimllEbtpgyXw8PDePHixYZv3A/p3NwcBgYGMDAwgLm5uQ1fHkoppZRSSunn5aYKl4ODg/jyyy8hhIAQAmlpaZiYmFjVBjl06BC2bduG4eHhmG/s+/fvY9u2baitrY3pfJubm9U6CyEQFxeH1tbWDS9clFJKKaWU0s/HTRMu3W43vvrqKwgh8OWXXyIuLg5CCOTn569qg9hsNggh0NvbG/ONffPmTQghkJOTE9P5Pnz4EL/99hvGx8fx+++/49///d8hhMDLly83vIBRSimllFJKPw83Tbj87bffIITAF198gdnZWYyNjamevBcvXqCzsxMJCQnYs2cPdF3H5cuXkZCQgBMnTkDXl3osExIS1Ge++OILJCQk4MCBA4bp+/fvR0JCAjRNww8//IDZ2Vnouo7CwkIkJCTg8ePH0HUdycnJSEhIgMvlgtPpREJCArZs2aLmn5CQgISEBIyMjKh1GBkZweHDh3H48OGohraeP38eQgg8e/ZswwsYpZRSSiml9PNw04TLCxcuQAiBwsJC9Zrsyezu7saNGzcghEBubi50XUdtbS2EEKisrFSfdzgc0DQNQghkZWXB4XCgoaEBuq7jz3/+swqGW7duVX/fuHEDuh7c4ynn8/LlS4yPj8PhcODbb7+FEAJbtmyBw+GAw+HA2NiYWt7u7m413+np6VXtyNnZWZw9exYVFRWIi4vDrl27NrxwUUoppZRSSj8fN024PHHiBIQQKCkpUa/927/9G4QQaGtrixgupcsNi5Xhctu2bdB1HadOnYIQAhUVFSE/5x8u5TwiDYvt7++HzWaDzWbDq1evVrUjXS4XsrOzsWXLFmiahr/85S8bXrgopZRSSimln4+bJlxevHgx6B5L+XCfe/fuxSxcyofxyGG433zzTcjPrSVcxsq6ujoIIfDkyZMNL2CUUkoppZTSz8NNEy7v3Lmjhpy6XC4MDw+rIaZjY2Nob29XQ1p1Xcd//Md/hAyXsrezq6vL8LoMlzt37oSu6zh37hyEEPjhhx+g60v3WAoh0NHRYbjf0z9ctrW1QQiB77//PuQ6jI2N4fLly7h8+TLcbvead+rAwACEELhw4cKGFzBKKaWUUkrp5+GmCZevX79W91jKoaH+92COj4+rwLdr1y71d2C4zM3NhRACycnJ2L9/P/76179C1433XP7pT39S85fTKyoqVE+mvLcyMFz29fWp18vKynDgwAHDT6Ws9Z7LCxcuoKOjA+Pj4+jt7UVhYSGEEHA6nRtewCillFJKKaWfh5smXOr6Uo+dDJhCCHz77bcYHx9X02VvpZwmhMB//ud/GubR29urei+FENixYwd0/X24zM7ONszD5XKpz8lhuP7hcmpqyjD/yspK9TMpgUNX/cPlzMzMitdbBlv/3/eUoZdSSimllFJKP4SbKlxKR0dHDaHS37GxsVU/iVXX34fLxsZGuFyukD/z8fr16w37+Y+ZmRkMDQ0tu96UUkoppZRSup5uynC5HvqHy41eFkoppZRSSin92GS4XKG//vorcnJy0NHRseHLQimllFJKKaUfmwyXlFJKKaWUUkqjluGSUkoppZRSSmnUMlxSSimllFJKKY1ahktKKaWUUkoppVHLcEkppZRSSimlNGoZLimllFJKKaWURi3DJaWUUkoppZTSqGW4pJRSSimllFIatR99uOzu7obb7d7wDUUppZRSSimlNLRutxvd3d2xjIIAYhwuBwcH4XQ6N3xjUUoppZRSSikNrdPpxODgYCyjIIAYh0td19Hd3Q2n08keTEoppZRSSin9iHS73XA6neju7oau67GMggBiHC6BpYA5ODiI7u5u3L17l1JKKaWUUkrpR2B3dzcGBwfXJVgC6xAuCSGEEEIIIYR8fjBcEkIIIYQQQgiJGoZLQgghhBBCCCFRw3BJCCGEEEIIISRqGC4JIYQQQgghhEQNwyUhhBBCCCGEkKhhuCSEEEIIIYQQEjUMl4QQQgghhBBCoobhkhBCCCGEEEJI1DBcEkIIIYQQQgiJGoZLQgghhBBCCCFRw3BJCCGEEEIIISRqGC4JIYQQQgghhEQNwyUhhBBCCCGEkKhhuCSEEEIIIYQQEjUMl4QQQgghhBBCoiam4XJmZgYjIyPLuri4GMuvixly+Xw+X1TzcbvdcLlcMVoqQgghhBBCCPl0iGm4LCsrgxBiWRcWFmL5dTHB6/Wq5RsfH1/TPH7//XfYbDY1H4vFgs7OzhgvKSGEEEIIIYR8vKxLuDSZTCgqKgrS6/XG8utiQrThcmJiApqmQQiB3NxcZGVlqfkNDw/HfoEJIYQQQggh5CNkXcJlZmZmyOnPnz+H3W6H3W7HvXv3AAA7d+6E3W7HkSNHAAD3799Henq6CmyJiYm4evUqAMDn86nPt7S0IDExESaTCWVlZXj+/Dmys7OhaRoSExNx9+5dAEB9fT3sdjtqa2uRmZkJTdNgt9vR1tYGIHS4dLvdKCsrg8VigclkQnFxMaampkKuU0NDA4QQKCgoUK8lJydDCIFTp06ho6MD27dvR2VlZQy2MCGEEEIIIYR8nKxLuLRYLKitrTV4584dAEBpaSmEELBarWhqaoIQApqmYXJyEi6XSwW99PR05Ofnq/9HR0cNQVD2kPr/LwOp/HthYQF79+41vGY2m9X/PT09QeHS6/WqIa4mk0nN02KxwOPxBK3zzZs34XA40NraCmAprFqtVggh0NzcjLq6OgghYDabY7mpCSGEEEIIIeSj4oPdc1lRUQFgqVcwMBReuXIFANDT04OMjAwUFxerh//I9966dcsQBOvr6wEAxcXFKgjquo7R0VH1npGRERUuzWYzZmdnsbi4iIKCAtXbGBgum5ubIYRASkoK3r17B4/Ho8JmU1NT2PV/+/Yttm/froLs7Owsrl27hqSkJOTm5sZyUxNCCCGEEELIR8W69VwePXrUoP8Dbtrb2w09lP5PkR0bG0N9fT12796NxMRE9b62tjZDEBwZGQEAnDhxImhYqnzPwMCACpcy3AJAZ2enWs7AcOkfRtPS0pCWlqYCbmlp6bLrPjw8jPj4eBUs+/r6YrkTt3URAAANxUlEQVRpCSGEEEIIIeSj5oPecymRw2GFEIiPj1fDTR8+fKheT0xMRGlpqQp2geFS3h9ZW1sLIQSKi4vV/OVQVv9weejQITX9/v37qrczcJ5y2K7JZEJGRobBw4cPh1yfrq4uQ1ienJyMdlMSQgghhBBCyCfFuoTL9PR0vHnzJkgAePnypeHeSCEEfvrpJwBAVVUVhBBwOBxqnrEKl3a7XfWQnjx5Ur0WOE95j2RKSoqaX29vL06dOhWyN3JyclJ9vrS0NOiJuE+fPkVzc7N6gBAhhBBCCCGEbEY+6O9cTkxMIC8vD0IIpKWloaOjQ03r7+9HdXW16rVsbW01zK+1tTWqcCmEQHZ2NsrLy9X/Fy9eDJqny+VSn8/MzDQsw+PHj4PW+dChQ4YHDPl75MgRPtCHEEIIIYQQ8lnwQcPlhQsXgu6ZdDgcanjs2NiYetKqfE3ed1lXVxcyXMrwFilcpqenG54UW1FRAa/XG3KePT09huVITExEc3NzyHXOzs5edn2rqqrU8lksllhuakIIIYQQQgj5qIhpuIwFPp8PY2Njy/6u5GqR4XLv3r1YXFzE2NgY3r59u6LPvnr1CtPT0zFZDkIIIYQQQgjZzHx04TLW+IdLQgghhBBCCCHrw6YPlx0dHaipqUFHR8dGLwohhBBCCCGEbFo2fbgkhBBCCCGEELL+MFwSQgghhBBCCIkahktCCCGEEEIIIVHDcEkIIYQQQgghJGoYLgkhhBBCCCGERA3DJSGEEEIIIYSQqGG4JIQQQgghhBASNQyXhBBCCCGEEEKihuGSEEIIIYQQQkjUMFwSQgghhBBCCIkahktCCCGEEEIIIVHDcEkIIYQQQgghJGoYLgkhhBBCCCGERA3DJSGEEEIIIYSQqIl5uNR1HYODg+ju7sbdu3cppZRSSimllH4Ednd3Y3BwELquxzoGAohxuNR1Hd3d3XA6nXC73dB1nVJKKaWUUkrpR6Db7YbT6UR3dzd0PfYBM6bhcnBwEE6nc8M3GqWUUkoppZTS0DqdTgwODsYyCgKIcbjs7u5mjyWllFJKKaWUfsS63W50d3fHMgoCiHG4vHv37oZvKEoppZRSSiml4b17924soyAAhktKKaWUUkop/exkuKSUUkoppZRSGrUMl5RSSimllFJKo5bhklJKKaWUUkpp1DJcUkoppZRSSimNWoZLSimllFJKKaVRy3BJKaWUUkoppTRqGS4ppZRSSimllEYtwyWllFJKKaWU0qjdVOHS7XaHdKM3crS6XC6cO3cO/f390HUdN2/exF//+teI6+4/LXCer1+/Vq93dnaisbERuq7D6XTi3LlzGB4e3vD1ppRSSimllH46bqpwKYQI0mazfbCNef/+fWzbtg21tbUxne/w8DCEEPj111+h6zq+/fZbfP3112p6W1tbyHUfGRmB0+mEEALnzp0zzHPPnj2Ii4vD69evUVJSAk3ToOs67ty5AyEErl+/vuGFk1JKKaWUUvrpuKnC5Z/+9CdkZ2ercJWfn4+qqqoPtjFv3rwJIQRycnJiOt9I4dLlcqG/vx+nT5+GEAK3b99Gf38/5ubmoOs6kpOTkZuba5jnF198gV27dkHXdYZLSimllFJKadRuqnCp67rqqZNhSdrX14eEhATk5+cjJycHmqZh586dePnyJXRdx40bN5CQkIDdu3fju+++g6ZpyMjIgNPphK7rOHHiBBISEnD58mXo+lLPX0JCAjo7O+F0OpGQkIAtW7aoYJuQkICEhASMjIwYluPo0aM4fPgwhoaGVrxOkcKltLW1FUIIPH361PD6L7/8Ak3TMDs7C13XMTAwACEEbt68CV1nuKSUUkoppZRG72cTLru6ulTw27p1K+Li4iCEwF/+8hfouo7Lly+r6V9//bWaXllZCV3XUVlZCSGEGvKam5sLIQRu3LiB8fFxOBwOfPvttxBCYMuWLXA4HHA4HBgbGzMsh/yOW7durXidXC4XGhoaDPdctrS0BL1vuXApw+Rvv/0GXdfx66+/QgiBV69eQdeD77lsaGjgPZeUUkoppZTSVfnZhUt5n2FtbS2EENizZw90/X243LJlC9xuN/r6+lTQ1PXw4VJ+x0qGxX7zzTew2Wzo6uqK+c5cLlzquo6vvvoK+/btg67ryMrKQn5+/oYXPkoppZRSSunm8bMLl1u3boWuvw+Tf/7znw3/Z2dnQ9d1zM3NqV7GmZmZmIXL9TRcuNy/fz8SEhIwPT0NIQSuXLmy4YWPUkoppZRSunlkuAwIl1988QV0/f1Q0q+++gq6vhTOhBA4dOgQdF1HQkJCULiUT239/vvvl12+pqYmXL58GaOjozHfmeHCZXd3t3pqrBACk5OTG174KKWUUkoppZvHTRUuv//+e2zdulX1OH733XcoKyuDrq88XAohkJGRgS+//NIwbFYGty1btmDbtm3qvf7hUg6lFUKgrKwMBw4cwMTEhGEZ13LPZSRdLhf6+vpQV1cHIQTa2trQ19ennhar60u/axkXF6ceVLTRBY9SSimllFK6udxU4TLc71yuNFx+88036mE+W7ZswcDAAHRdx9TUlHpgT1xcHGw2m+GJq9LKykr1eSEEnjx5EnIZ29vbY7YTw/3Opf/7ysrKIITAmTNnNrzgUUoppZRSSjeXmypcRqMMlyUlJZibm8PQ0BDcbnfQ+549exbydUoppZRSSin9nGW4/G/9w+VG7xRKKaWUUkop/dRkuPz/27uflyj+OI7jf9T7vLc97EUQhIFYCIWCvBQtQhixTL/AIrSDsoGnRKxDUbS3DpIEalGDWSA10JIN7kZtpbOf86tD35mvW34pndX1uz6f8IDYbYd1dy8vZlb/sby8rFKppLm5ua6/KQAAAADwf8O4BAAAAABkxrgEAAAAAGTGuAQAAAAAZMa4BAAAAABkxrgEAAAAAGTWk+OyVqtpY2Oj6y9ut8RxrFar1fXnAQAAAODo6KlxGYah+vv7ZWYyM506dUqfPn3a1QtSqVRULpdVq9U6/mK/fv1a5XJZs7Oz+/aG3r59W2amW7dudf3DBQAAAODo6JlxGcexBgYGZGbq7+9XPp+XmencuXO7ekGKxaLMTKurqx1/sZ88eSIzU6lU2pc3c21tTblcTmamSqXS9Q8XAAAAgKOjZ8bl8vKyzEx9fX3a3NxUvV5Pz2BubGzo2bNn8jxP169fl3NO1WpVnudpZmZGzv08Y+l5XvqYvr4+eZ6nqamptvsnJyfleZ5yuZzGxsa0ubkp55xGR0fleZ7evn0r55wGBwfleZ6azaaiKJLneSoUCunxPc+T53laX19Pf4b19XVNT09renpaW1tbu3ojt7a2VCwWdffuXeXzecYlAAAAgAPVM+PywYMHMjONjo6mtyVnMoMg0Pz8vMxMIyMjcs5pdnZWZqaJiYn08b7vp2f+zpw5I9/3df/+fTnndPny5XQYnjx5Mv33/Py8nPv9jGdynM+fP6vRaMj3fQ0PD8vMVCgU5Pu+fN9XvV5Pn28QBOlxv379uqs3slKp6MSJE4rjmHEJAAAA4MD1zLicmZmRmenSpUvpbcePH5eZaWFh4Y/jMvFfl8Um47JcLss5p7m5OZmZxsfHd3zc9nGZHONPl8Wura2pWCyqWCzq+/fvf/0mrqysyMzSs6aMSwAAAAAHrWfG5cOHD3/7jmXyy31WVlY6Ni6TX8aTXIY7NDS04+P2Mi736tixYyqVSlpcXNTi4qJyuZzK5bJevXrV9Q8YAAAAgKOhZ8bl8+fP00tOm82marVaeolpvV7X06dP00tanXO6cePGjuMyOdv58uXLttuTcXnlyhU553Tv3j2ZmcbGxuTcz+9YmpmWlpbavu+5fVwuLCzIzHT69Okdf4Z6va5qtapqtao4jv/6TRwaGtLAwEDKzJTL5XThwoWuf8AAAAAAHA09My5brVY6rAqFQnrmMPkOZqPRSAff1atX03//Oi5HRkZkZhocHNTk5KQeP34s59q/c3n+/Pn0+Mn94+Pj6ZnM5LuVv47LN2/epLdfu3ZNU1NTbX8qJct3LrfjslgAAAAAB61nxqVzTu/evUsHpplpeHhYjUYjvT85W5ncZ2a6efNm2zFWV1fTs5dmposXL8q5f8fl2bNn247RbDbTxyWX4W4fl1++fGk7/sTERPpnUsxM79+/T+/bPi6/ffu25zc1n8/zdy4BAAAAHKieGpeJjx8/to3K7er1+p7OCibj8tGjR2o2m/rw4cNv/6fVau14OwAAAAD0up4cl/th+7js9nMBAAAAgMOGcfmX7ty5o1KppKWlpa4/FwAAAAA4bBiXAAAAAIDMGJcAAAAAgMwYlwAAAACAzBiXAAAAAIDMGJcAAAAAgMwYlwAAAACAzBiXAAAAAIDMGJcAAAAAgMwO/bgMgkBxHHf9hQIAAAAA7CyOYwVB0MkpKKnD4zIMQ0VR1PUXCwAAAACwsyiKFIZhJ6egpA6PS+ecgiBQFEWcwQQAAACAQySOY0VRpCAI5Jzr5BSU1OFxKf0cmGEYKggCvXjxAgAAAABwCARBoDAM92VYSvswLomIiIiIiOjoxbgkIiIiIiKizDEuiYiIiIiIKHOMSyIiIiIiIsoc45KIiIiIiIgyx7gkIiIiIiKizDEuiYiIiIiIKHOMSyIiIiIiIsoc45KIiIiIiIgyx7gkIiIiIiKizDEuiYiIiIiIKHOMSyIiIiIiIsrcD1KLBPE3hUDBAAAAAElFTkSuQmCC)"
      ]
    },
    {
      "cell_type": "code",
      "metadata": {
        "id": "OORwhUM34I0T",
        "colab_type": "code",
        "colab": {}
      },
      "source": [
        ""
      ],
      "execution_count": 0,
      "outputs": []
    },
    {
      "cell_type": "markdown",
      "metadata": {
        "id": "_W9DbSQXa19w",
        "colab_type": "text"
      },
      "source": [
        "# Further Exploration"
      ]
    },
    {
      "cell_type": "markdown",
      "metadata": {
        "id": "gyY5IIE7a7lN",
        "colab_type": "text"
      },
      "source": [
        "## Unpacking"
      ]
    },
    {
      "cell_type": "markdown",
      "metadata": {
        "id": "MXSr0X1Ua98T",
        "colab_type": "text"
      },
      "source": [
        "Python provides a quick way to combine dictionaries with a specific form of unpacking, `**`."
      ]
    },
    {
      "cell_type": "code",
      "metadata": {
        "id": "efG270MsIzKc",
        "colab_type": "code",
        "outputId": "c2ae8716-6106-49d1-dd3c-5a40a74d5037",
        "colab": {
          "base_uri": "https://localhost:8080/",
          "height": 35
        }
      },
      "source": [
        "dic1 = {1: 'one', 2: 'two', 3: 'three'}\n",
        "dic2 = {4: 'four', 5: 'five', 6: 'six'}\n",
        "\n",
        "compostie_dic = {**dic1, **dic2}\n",
        "compostie_dic"
      ],
      "execution_count": 0,
      "outputs": [
        {
          "output_type": "execute_result",
          "data": {
            "text/plain": [
              "{1: 'one', 2: 'two', 3: 'three', 4: 'four', 5: 'five', 6: 'six'}"
            ]
          },
          "metadata": {
            "tags": []
          },
          "execution_count": 62
        }
      ]
    },
    {
      "cell_type": "markdown",
      "metadata": {
        "id": "4NVa4GZ3drzf",
        "colab_type": "text"
      },
      "source": [
        "## Chaining Iterables"
      ]
    },
    {
      "cell_type": "markdown",
      "metadata": {
        "id": "-QHgTnaEeKm6",
        "colab_type": "text"
      },
      "source": [
        "`itertools` is a library filled with useful tools to use with iterables (dictionaries, lists, etc.). `chain` is one such useful tool, it allows you to iterate over all the items in one iterables and once that is exhausted, move on to iterating over another iterable."
      ]
    },
    {
      "cell_type": "code",
      "metadata": {
        "id": "DuXBvU5Rdopi",
        "colab_type": "code",
        "outputId": "ca1bfe1f-ccff-458c-a349-f907535a33c3",
        "colab": {
          "base_uri": "https://localhost:8080/",
          "height": 127
        }
      },
      "source": [
        "from itertools import chain\n",
        "\n",
        "dic1 = {1: 'one', 2: 'two', 3: 'three'}\n",
        "dic2 = {4: 'four', 5: 'five', 6: 'six'}\n",
        "\n",
        "for item in chain(dic1.items(), dic2.items()):\n",
        "  print(item)"
      ],
      "execution_count": 0,
      "outputs": [
        {
          "output_type": "stream",
          "text": [
            "(1, 'one')\n",
            "(2, 'two')\n",
            "(3, 'three')\n",
            "(4, 'four')\n",
            "(5, 'five')\n",
            "(6, 'six')\n"
          ],
          "name": "stdout"
        }
      ]
    },
    {
      "cell_type": "code",
      "metadata": {
        "id": "aiqJT0fqe0_y",
        "colab_type": "code",
        "outputId": "582ce5f4-e775-40c8-94b9-d36ae7b39cb9",
        "colab": {
          "base_uri": "https://localhost:8080/",
          "height": 182
        }
      },
      "source": [
        "dic1 = {1: 'one', 2: 'two', 3: 'three'}\n",
        "list1 = [4, 5, 6]\n",
        "\n",
        "for item in chain(dic1.items(), list1, list1):\n",
        "  print(item)"
      ],
      "execution_count": 0,
      "outputs": [
        {
          "output_type": "stream",
          "text": [
            "(1, 'one')\n",
            "(2, 'two')\n",
            "(3, 'three')\n",
            "4\n",
            "5\n",
            "6\n",
            "4\n",
            "5\n",
            "6\n"
          ],
          "name": "stdout"
        }
      ]
    },
    {
      "cell_type": "markdown",
      "metadata": {
        "id": "FrWLSVZahKi8",
        "colab_type": "text"
      },
      "source": [
        "## Set Default"
      ]
    },
    {
      "cell_type": "markdown",
      "metadata": {
        "id": "J98eK6BKhNXB",
        "colab_type": "text"
      },
      "source": [
        "`setdefault` is a dictionary function that returns the value of a key if it is in the dictionary, and if it is not it adds that key to the dictionary. This is useful for updating a dictionary and prevent overwriting of existing key/value pairs without having to wrap everything in conditionals or try..except statements."
      ]
    },
    {
      "cell_type": "code",
      "metadata": {
        "id": "WR6gzSEgiCHO",
        "colab_type": "code",
        "outputId": "0d6120f1-420e-4ba4-e166-cbaaf1b3ea5d",
        "colab": {
          "base_uri": "https://localhost:8080/",
          "height": 35
        }
      },
      "source": [
        "dic1 = {1: 'one', 2: 'two', 3: 'three'}\n",
        "\n",
        "dic1.setdefault(3)"
      ],
      "execution_count": 0,
      "outputs": [
        {
          "output_type": "execute_result",
          "data": {
            "text/plain": [
              "'three'"
            ]
          },
          "metadata": {
            "tags": []
          },
          "execution_count": 67
        }
      ]
    },
    {
      "cell_type": "code",
      "metadata": {
        "id": "crWW85YhiL63",
        "colab_type": "code",
        "outputId": "283c5d06-47bf-426f-e4a8-e84052851f6e",
        "colab": {
          "base_uri": "https://localhost:8080/",
          "height": 35
        }
      },
      "source": [
        "dic1.setdefault(3, 'optional value to set to if the key isnt present')"
      ],
      "execution_count": 0,
      "outputs": [
        {
          "output_type": "execute_result",
          "data": {
            "text/plain": [
              "'three'"
            ]
          },
          "metadata": {
            "tags": []
          },
          "execution_count": 68
        }
      ]
    },
    {
      "cell_type": "code",
      "metadata": {
        "id": "Sl1SmmL8iha_",
        "colab_type": "code",
        "outputId": "2b3fc12d-dc8a-4d49-b064-d88798e80830",
        "colab": {
          "base_uri": "https://localhost:8080/",
          "height": 35
        }
      },
      "source": [
        "# If the key is not present, add it to the dictionary. \n",
        "# If the optional value is not present then give the key a value of `None`\n",
        "dic1.setdefault(4)\n",
        "dic1"
      ],
      "execution_count": 0,
      "outputs": [
        {
          "output_type": "execute_result",
          "data": {
            "text/plain": [
              "{1: 'one', 2: 'two', 3: 'three', 4: None}"
            ]
          },
          "metadata": {
            "tags": []
          },
          "execution_count": 70
        }
      ]
    },
    {
      "cell_type": "code",
      "metadata": {
        "id": "UiQqjHnei74u",
        "colab_type": "code",
        "outputId": "2bbac692-bddc-4246-ac2a-29daf3de10ca",
        "colab": {
          "base_uri": "https://localhost:8080/",
          "height": 35
        }
      },
      "source": [
        "dic1.setdefault(5, 'five')\n",
        "dic1"
      ],
      "execution_count": 0,
      "outputs": [
        {
          "output_type": "execute_result",
          "data": {
            "text/plain": [
              "{1: 'one', 2: 'two', 3: 'three', 4: None, 5: 'five'}"
            ]
          },
          "metadata": {
            "tags": []
          },
          "execution_count": 71
        }
      ]
    },
    {
      "cell_type": "markdown",
      "metadata": {
        "id": "O1Xj8arxseZ-",
        "colab_type": "text"
      },
      "source": [
        "## Frozen Sets"
      ]
    },
    {
      "cell_type": "markdown",
      "metadata": {
        "id": "viRF_-JysvPy",
        "colab_type": "text"
      },
      "source": [
        "Sets can be forced into an immutable form using `frozenset`. `frozenset` has all the functions and capabilities of `set` except for the ones that would change it."
      ]
    },
    {
      "cell_type": "code",
      "metadata": {
        "id": "-DvMAKyEs_PQ",
        "colab_type": "code",
        "outputId": "f3e1cca9-2b24-4c6d-ddc8-74132b8ceacd",
        "colab": {
          "base_uri": "https://localhost:8080/",
          "height": 72
        }
      },
      "source": [
        "set1 = {1,2,3}\n",
        "print('Original Set:', set1)\n",
        "\n",
        "set1.add(4)\n",
        "print('Set is Mutable:', set1)\n",
        "\n",
        "set1 = frozenset(set1)\n",
        "print('Frozen Set:', set1)"
      ],
      "execution_count": 0,
      "outputs": [
        {
          "output_type": "stream",
          "text": [
            "Original Set: {1, 2, 3}\n",
            "Set is Mutable: {1, 2, 3, 4}\n",
            "Frozen Set (looks the same): frozenset({1, 2, 3, 4})\n"
          ],
          "name": "stdout"
        }
      ]
    },
    {
      "cell_type": "code",
      "metadata": {
        "id": "yTK0ajkstkHJ",
        "colab_type": "code",
        "outputId": "7b4ee8d6-cfc0-45a2-8210-fc0166f8a54f",
        "colab": {
          "base_uri": "https://localhost:8080/",
          "height": 172
        }
      },
      "source": [
        "# Trying to change a frozen set\n",
        "set1.add(5)"
      ],
      "execution_count": 0,
      "outputs": [
        {
          "output_type": "error",
          "ename": "AttributeError",
          "evalue": "ignored",
          "traceback": [
            "\u001b[0;31m---------------------------------------------------------------------------\u001b[0m",
            "\u001b[0;31mAttributeError\u001b[0m                            Traceback (most recent call last)",
            "\u001b[0;32m<ipython-input-96-7ef0c6d05fc5>\u001b[0m in \u001b[0;36m<module>\u001b[0;34m()\u001b[0m\n\u001b[0;32m----> 1\u001b[0;31m \u001b[0mset1\u001b[0m\u001b[0;34m.\u001b[0m\u001b[0madd\u001b[0m\u001b[0;34m(\u001b[0m\u001b[0;36m5\u001b[0m\u001b[0;34m)\u001b[0m\u001b[0;34m\u001b[0m\u001b[0;34m\u001b[0m\u001b[0m\n\u001b[0m",
            "\u001b[0;31mAttributeError\u001b[0m: 'frozenset' object has no attribute 'add'"
          ]
        }
      ]
    }
  ]
}
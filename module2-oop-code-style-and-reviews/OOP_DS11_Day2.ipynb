{
  "nbformat": 4,
  "nbformat_minor": 0,
  "metadata": {
    "colab": {
      "name": "OOP_DS11_Day2.ipynb",
      "provenance": [],
      "collapsed_sections": [],
      "authorship_tag": "ABX9TyONGDplWI4tfLHACJBjP0HW",
      "include_colab_link": true
    },
    "kernelspec": {
      "name": "python3",
      "display_name": "Python 3"
    }
  },
  "cells": [
    {
      "cell_type": "markdown",
      "metadata": {
        "id": "view-in-github",
        "colab_type": "text"
      },
      "source": [
        "<a href=\"https://colab.research.google.com/github/hoops92/DS-Unit-3-Sprint-1-Software-Engineering/blob/master/module2-oop-code-style-and-reviews/OOP_DS11_Day2.ipynb\" target=\"_parent\"><img src=\"https://colab.research.google.com/assets/colab-badge.svg\" alt=\"Open In Colab\"/></a>"
      ]
    },
    {
      "cell_type": "code",
      "metadata": {
        "id": "YTDQVWCFbzn9",
        "colab_type": "code",
        "colab": {}
      },
      "source": [
        "\"\"\"\n",
        "Classes to represent games\n",
        "\"\"\"\n",
        "\n",
        "from random import random\n",
        "\n",
        "class Game:\n",
        "  \"\"\"\n",
        "  General Representation of an abstract game\n",
        "  \"\"\"\n",
        "  fun_level = 5\n",
        "  def __init__ (self, rounds = 2, player1 = \"Chris\", player2 = \"Scott\" ):\n",
        "    self.current_round = 0\n",
        "    self.steps = 5\n",
        "    self.player1 = player1\n",
        "    self.player2 = player2\n",
        "\n",
        "  def print_players(self):\n",
        "    \"\"\"\n",
        "    Print game players\n",
        "    \"\"\"\n",
        "    print('{} is playing {}'.format(self.player1, self.player2))\n",
        "\n",
        "  def add_rounds(self):\n",
        "    \"\"\"\n",
        "    Increment rounds by 1\n",
        "    \"\"\"\n",
        "    self.rounds += 1\n",
        "\n",
        "  def winner(self):\n",
        "    \"\"\"pick a winner!\"\"\"\n",
        "    return self.player1 if random() > 0.5 else self.player2"
      ],
      "execution_count": 0,
      "outputs": []
    },
    {
      "cell_type": "code",
      "metadata": {
        "id": "cz2-d1D4cw8A",
        "colab_type": "code",
        "colab": {
          "base_uri": "https://localhost:8080/",
          "height": 34
        },
        "outputId": "fc2320a5-87bf-456d-fc3f-57caa0d165b2"
      },
      "source": [
        "Game"
      ],
      "execution_count": 69,
      "outputs": [
        {
          "output_type": "execute_result",
          "data": {
            "text/plain": [
              "__main__.Game"
            ]
          },
          "metadata": {
            "tags": []
          },
          "execution_count": 69
        }
      ]
    },
    {
      "cell_type": "code",
      "metadata": {
        "id": "WR3ZYlNpczEq",
        "colab_type": "code",
        "colab": {
          "base_uri": "https://localhost:8080/",
          "height": 34
        },
        "outputId": "15775b36-4cbf-4676-8699-8616f3006398"
      },
      "source": [
        "game1 = Game()\n",
        "game1"
      ],
      "execution_count": 70,
      "outputs": [
        {
          "output_type": "execute_result",
          "data": {
            "text/plain": [
              "<__main__.Game at 0x7f5d54d23320>"
            ]
          },
          "metadata": {
            "tags": []
          },
          "execution_count": 70
        }
      ]
    },
    {
      "cell_type": "code",
      "metadata": {
        "id": "ICBscFRXdKFr",
        "colab_type": "code",
        "colab": {
          "base_uri": "https://localhost:8080/",
          "height": 34
        },
        "outputId": "1ca7b6e9-a1a5-4cb1-f80d-9d55cb4fe61d"
      },
      "source": [
        "game1.rounds = 3\n",
        "game1.rounds"
      ],
      "execution_count": 71,
      "outputs": [
        {
          "output_type": "execute_result",
          "data": {
            "text/plain": [
              "3"
            ]
          },
          "metadata": {
            "tags": []
          },
          "execution_count": 71
        }
      ]
    },
    {
      "cell_type": "code",
      "metadata": {
        "id": "dKMGXDwSdPE9",
        "colab_type": "code",
        "colab": {
          "base_uri": "https://localhost:8080/",
          "height": 34
        },
        "outputId": "5c9e942f-b9a9-4e77-b099-880b827cc833"
      },
      "source": [
        "game1.rounds"
      ],
      "execution_count": 72,
      "outputs": [
        {
          "output_type": "execute_result",
          "data": {
            "text/plain": [
              "3"
            ]
          },
          "metadata": {
            "tags": []
          },
          "execution_count": 72
        }
      ]
    },
    {
      "cell_type": "code",
      "metadata": {
        "id": "6a_A3icrJarL",
        "colab_type": "code",
        "colab": {
          "base_uri": "https://localhost:8080/",
          "height": 34
        },
        "outputId": "e9806a58-b632-4caf-c1be-eec67360f3ba"
      },
      "source": [
        "game1.player1"
      ],
      "execution_count": 73,
      "outputs": [
        {
          "output_type": "execute_result",
          "data": {
            "text/plain": [
              "'Chris'"
            ]
          },
          "metadata": {
            "tags": []
          },
          "execution_count": 73
        }
      ]
    },
    {
      "cell_type": "code",
      "metadata": {
        "id": "S7C-11plV3AN",
        "colab_type": "code",
        "colab": {
          "base_uri": "https://localhost:8080/",
          "height": 34
        },
        "outputId": "37700063-a6d3-44ca-bd73-161c1e6fba94"
      },
      "source": [
        "game1.winner()"
      ],
      "execution_count": 78,
      "outputs": [
        {
          "output_type": "execute_result",
          "data": {
            "text/plain": [
              "'Scott'"
            ]
          },
          "metadata": {
            "tags": []
          },
          "execution_count": 78
        }
      ]
    },
    {
      "cell_type": "code",
      "metadata": {
        "id": "7L4bwid-Jgdk",
        "colab_type": "code",
        "colab": {}
      },
      "source": [
        "game2 = Game(\"Aaron\", \"Kyra\")"
      ],
      "execution_count": 0,
      "outputs": []
    },
    {
      "cell_type": "code",
      "metadata": {
        "id": "D0ThcKVEKhNP",
        "colab_type": "code",
        "colab": {
          "base_uri": "https://localhost:8080/",
          "height": 34
        },
        "outputId": "2842ed44-b935-41d2-9410-c46198786c67"
      },
      "source": [
        "game2.player1"
      ],
      "execution_count": 54,
      "outputs": [
        {
          "output_type": "execute_result",
          "data": {
            "text/plain": [
              "'Kyra'"
            ]
          },
          "metadata": {
            "tags": []
          },
          "execution_count": 54
        }
      ]
    },
    {
      "cell_type": "code",
      "metadata": {
        "id": "YM7aIZ8YLBYv",
        "colab_type": "code",
        "colab": {}
      },
      "source": [
        "class Tic(Game):\n",
        "  \"\"\"\n",
        "  Tictactoe subclass of game\n",
        "  \"\"\"\n",
        "\n",
        "  def __init__(self, rounds = 3, player1 = \"Aaron\", player2= \"Jib\"):\n",
        "    super().__init__(rounds, player1, player2)\n",
        "\n",
        "  def print_players(self):\n",
        "    print('{} is playing TIC TAC TOE with {}'.format(self.player1, self.player2))\n",
        "\n"
      ],
      "execution_count": 0,
      "outputs": []
    },
    {
      "cell_type": "code",
      "metadata": {
        "id": "v8ZK7XytLVIZ",
        "colab_type": "code",
        "colab": {}
      },
      "source": [
        "ttt = Tic()"
      ],
      "execution_count": 0,
      "outputs": []
    },
    {
      "cell_type": "code",
      "metadata": {
        "id": "2jDV2vd1YEVe",
        "colab_type": "code",
        "colab": {
          "base_uri": "https://localhost:8080/",
          "height": 34
        },
        "outputId": "8881867b-5ead-4a94-b529-8e3183c9a205"
      },
      "source": [
        "ttt.winner()"
      ],
      "execution_count": 88,
      "outputs": [
        {
          "output_type": "execute_result",
          "data": {
            "text/plain": [
              "'Aaron'"
            ]
          },
          "metadata": {
            "tags": []
          },
          "execution_count": 88
        }
      ]
    },
    {
      "cell_type": "code",
      "metadata": {
        "id": "w-twXORHYHRO",
        "colab_type": "code",
        "colab": {
          "base_uri": "https://localhost:8080/",
          "height": 34
        },
        "outputId": "978469a0-6679-48c8-e60f-3bf6fe5e5a7b"
      },
      "source": [
        "ttt.print_players()"
      ],
      "execution_count": 89,
      "outputs": [
        {
          "output_type": "stream",
          "text": [
            "Aaron is playing TIC TAC TOE with Jib\n"
          ],
          "name": "stdout"
        }
      ]
    },
    {
      "cell_type": "code",
      "metadata": {
        "id": "Ks6O0-XNYmR4",
        "colab_type": "code",
        "colab": {
          "base_uri": "https://localhost:8080/",
          "height": 34
        },
        "outputId": "2755eb6c-c7e7-4dac-aad5-6f17afddd910"
      },
      "source": [
        "game1.print_players()"
      ],
      "execution_count": 90,
      "outputs": [
        {
          "output_type": "stream",
          "text": [
            "Chris is playing Scott\n"
          ],
          "name": "stdout"
        }
      ]
    },
    {
      "cell_type": "code",
      "metadata": {
        "id": "GC2j1PXNhi7J",
        "colab_type": "code",
        "colab": {
          "base_uri": "https://localhost:8080/",
          "height": 221
        },
        "outputId": "d2b9da23-1da6-4fd2-807e-5ce075c13899"
      },
      "source": [
        "\"\"\"\n",
        "Classes to represent NBA Teams.\n",
        "\"\"\"\n",
        "\n",
        "\n",
        "def team_name(team):\n",
        "    return f\"{team['state/city']} {team['name']}\"\n",
        "def introduce(team):\n",
        "    print(f\"WELCOME TO {team['state/city']}!\")\n",
        "if __name__ == \"__main__\":\n",
        "    teams = [\n",
        "        {\"state/city\": \"Utah\", \"name\": \"Jazz\"},\n",
        "        {\"state/city\": \"Los Angeles\", \"name\": \"Lakers\"},\n",
        "        {\"state/city\": \"Boston\", \"name\": \"Celtics\"},\n",
        "        {\"state/city\": \"Denver\", \"name\": \"Nuggets\"}\n",
        "    ]\n",
        "    for team in teams:\n",
        "        print(\"---------\")\n",
        "        print(team_name(team))\n",
        "        introduce(team)\n"
      ],
      "execution_count": 11,
      "outputs": [
        {
          "output_type": "stream",
          "text": [
            "---------\n",
            "Utah Jazz\n",
            "WELCOME TO Utah!\n",
            "---------\n",
            "Los Angeles Lakers\n",
            "WELCOME TO Los Angeles!\n",
            "---------\n",
            "Boston Celtics\n",
            "WELCOME TO Boston!\n",
            "---------\n",
            "Denver Nuggets\n",
            "WELCOME TO Denver!\n"
          ],
          "name": "stdout"
        }
      ]
    }
  ]
}